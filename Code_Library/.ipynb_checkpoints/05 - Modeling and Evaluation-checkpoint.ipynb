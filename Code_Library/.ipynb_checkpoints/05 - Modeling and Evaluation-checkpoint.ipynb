{
 "cells": [
  {
   "cell_type": "markdown",
   "id": "0b73a15f",
   "metadata": {},
   "source": [
    "# Packages "
   ]
  },
  {
   "cell_type": "code",
   "execution_count": 1,
   "id": "48e8a9cb",
   "metadata": {
    "ExecuteTime": {
     "end_time": "2022-08-01T05:52:14.997553Z",
     "start_time": "2022-08-01T05:52:12.358965Z"
    }
   },
   "outputs": [
    {
     "data": {
      "text/html": [
       "        <script type=\"text/javascript\">\n",
       "        window.PlotlyConfig = {MathJaxConfig: 'local'};\n",
       "        if (window.MathJax && window.MathJax.Hub && window.MathJax.Hub.Config) {window.MathJax.Hub.Config({SVG: {font: \"STIX-Web\"}});}\n",
       "        if (typeof require !== 'undefined') {\n",
       "        require.undef(\"plotly\");\n",
       "        requirejs.config({\n",
       "            paths: {\n",
       "                'plotly': ['https://cdn.plot.ly/plotly-2.12.1.min']\n",
       "            }\n",
       "        });\n",
       "        require(['plotly'], function(Plotly) {\n",
       "            window._Plotly = Plotly;\n",
       "        });\n",
       "        }\n",
       "        </script>\n",
       "        "
      ]
     },
     "metadata": {},
     "output_type": "display_data"
    }
   ],
   "source": [
    "import pandas as pd # pandas package\n",
    "pd.options.display.max_columns = 40\n",
    "\n",
    "import numpy as np # numpy package\n",
    "\n",
    "# matplotlib packages\n",
    "import matplotlib\n",
    "import matplotlib.pyplot as plt \n",
    "%matplotlib inline\n",
    "matplotlib.rcParams['figure.figsize'] = (10.0, 6.0)\n",
    "\n",
    "import seaborn as sns # seaborn package\n",
    "# dictionary package\n",
    "from collections import Counter, defaultdict\n",
    "\n",
    "import warnings  # warnings package\n",
    "warnings.filterwarnings('ignore')\n",
    "from sklearn.exceptions import DataConversionWarning\n",
    "warnings.filterwarnings(action='ignore', category=DataConversionWarning)\n",
    "\n",
    "# plotly packages\n",
    "from chart_studio import plotly\n",
    "import plotly.express as px\n",
    "import plotly.graph_objs as go\n",
    "import plotly.figure_factory as ff\n",
    "from plotly.offline import iplot\n",
    "\n",
    "# cufflink packages\n",
    "import cufflinks\n",
    "cufflinks.go_offline()\n",
    "cufflinks.set_config_file(world_readable=True, theme='pearl')\n",
    "\n",
    "# interactive shell\n",
    "from IPython.core.interactiveshell import InteractiveShell\n",
    "InteractiveShell.ast_node_interactivity = 'last_expr'\n",
    "\n",
    "from pathlib import Path # path package\n",
    "import re #regex package\n",
    "from textblob import TextBlob #import textblob package\n",
    "\n",
    "# word cloud\n",
    "from wordcloud import WordCloud, STOPWORDS, ImageColorGenerator\n",
    "\n",
    "# nltk packages\n",
    "import nltk\n",
    "\n",
    "#nltk.download('stopwords')\n",
    "# stop words\n",
    "from nltk.corpus import stopwords\n",
    "sw = set(stopwords.words(\"english\"))\n",
    "\n",
    "# punctuation\n",
    "from string import punctuation\n",
    "\n",
    "# detokenizer \n",
    "from nltk.tokenize.treebank import TreebankWordDetokenizer\n",
    "\n",
    "# sklearn packages\n",
    "from sklearn.preprocessing import OrdinalEncoder\n",
    "from sklearn.preprocessing import LabelEncoder\n",
    "from sklearn.feature_extraction.text import TfidfVectorizer\n",
    "from sklearn.model_selection import train_test_split\n",
    "from sklearn.svm import LinearSVC\n",
    "from sklearn.metrics import accuracy_score\n",
    "from sklearn.metrics import classification_report\n",
    "from sklearn.pipeline import Pipeline\n",
    "from sklearn.model_selection import GridSearchCV\n",
    "from sklearn.dummy import DummyClassifier\n",
    "from sklearn.calibration import CalibratedClassifierCV\n",
    "from sklearn.ensemble import RandomForestClassifier\n",
    "from sklearn.model_selection import RandomizedSearchCV\n",
    "\n",
    "#imblean packages for undersampling/oversampling\n",
    "from imblearn.over_sampling import SMOTE\n",
    "from imblearn.combine import SMOTEENN\n",
    "from imblearn.under_sampling import NearMiss \n",
    "from imblearn.under_sampling import OneSidedSelection\n",
    "\n",
    "# pickle package\n",
    "import _pickle as cPickle\n",
    "import joblib"
   ]
  },
  {
   "cell_type": "markdown",
   "id": "615720c8",
   "metadata": {},
   "source": [
    "# Loading Training and Test Sets"
   ]
  },
  {
   "cell_type": "code",
   "execution_count": 2,
   "id": "d9eeff74",
   "metadata": {
    "ExecuteTime": {
     "end_time": "2022-08-01T05:52:15.057481Z",
     "start_time": "2022-08-01T05:52:15.003957Z"
    }
   },
   "outputs": [],
   "source": [
    "## Load tfidf model for new data later on\n",
    "tfidf = joblib.load('tfidf.pkl') "
   ]
  },
  {
   "cell_type": "markdown",
   "id": "d4ccae1a",
   "metadata": {},
   "source": [
    "## SMOTE+ENN Training Data"
   ]
  },
  {
   "cell_type": "code",
   "execution_count": 3,
   "id": "a8960d60",
   "metadata": {
    "ExecuteTime": {
     "end_time": "2022-08-01T05:52:15.102813Z",
     "start_time": "2022-08-01T05:52:15.061877Z"
    }
   },
   "outputs": [],
   "source": [
    "# SMOTE+ENN Training Data - X variables\n",
    "with open(Path(r\"../Data/Preparation for Modeling Data/Binary Classification/X_train_smote.pickle\"), \"rb\") as input_file:\n",
    "    X_train_smote = cPickle.load(input_file)\n",
    "    \n",
    "# SMOTE+ENN Training Data - Target Variable Y\n",
    "with open(Path(r\"../Data/Preparation for Modeling Data/Binary Classification/Y_train_smote.pickle\"), \"rb\") as input_file:\n",
    "    Y_train_smote = cPickle.load(input_file).squeeze()"
   ]
  },
  {
   "cell_type": "markdown",
   "id": "4358b8d5",
   "metadata": {
    "ExecuteTime": {
     "end_time": "2022-07-27T05:40:47.240265Z",
     "start_time": "2022-07-27T05:40:47.227759Z"
    }
   },
   "source": [
    "## Near-miss Sampling Training Data "
   ]
  },
  {
   "cell_type": "code",
   "execution_count": null,
   "id": "bad52ab2",
   "metadata": {
    "ExecuteTime": {
     "start_time": "2022-08-01T05:52:12.465Z"
    }
   },
   "outputs": [],
   "source": [
    "# Near-miss Training Data - X variables\n",
    "with open(Path(r\"../Data/Preparation for Modeling Data/Binary Classification/X_train_near.pickle\"), \"rb\") as input_file:\n",
    "    X_train_near = cPickle.load(input_file)\n",
    "    \n",
    "# Near-miss Training Data - Target Variable Y\n",
    "with open(Path(r\"../Data/Preparation for Modeling Data/Binary Classification/Y_train_near.pickle\"), \"rb\") as input_file:\n",
    "    Y_train_near = cPickle.load(input_file).squeeze()"
   ]
  },
  {
   "cell_type": "markdown",
   "id": "cccf31e5",
   "metadata": {},
   "source": [
    "## One-sided Selection Sampling Training Data "
   ]
  },
  {
   "cell_type": "code",
   "execution_count": null,
   "id": "53940e0c",
   "metadata": {
    "ExecuteTime": {
     "start_time": "2022-08-01T05:52:12.497Z"
    }
   },
   "outputs": [],
   "source": [
    "# One-sided Selection Training Data - X variables\n",
    "with open(Path(r\"../Data/Preparation for Modeling Data/Binary Classification/X_train_oss.pickle\"), \"rb\") as input_file:\n",
    "    X_train_oss = cPickle.load(input_file)\n",
    "    \n",
    "# One-sided Selection Training Data - Target Variable Y\n",
    "with open(Path(r\"../Data/Preparation for Modeling Data/Binary Classification/Y_train_oss.pickle\"), \"rb\") as input_file:\n",
    "    Y_train_oss = cPickle.load(input_file).squeeze()"
   ]
  },
  {
   "cell_type": "markdown",
   "id": "130a74b5",
   "metadata": {},
   "source": [
    "## Test Data"
   ]
  },
  {
   "cell_type": "code",
   "execution_count": null,
   "id": "40d17db4",
   "metadata": {
    "ExecuteTime": {
     "start_time": "2022-08-01T05:52:12.529Z"
    }
   },
   "outputs": [],
   "source": [
    "# Test Data - X variables\n",
    "with open(Path(r\"../Data/Preparation for Modeling Data/Binary Classification/X_test.pickle\"), \"rb\") as input_file:\n",
    "    X_test = cPickle.load(input_file)\n",
    "    \n",
    "# Test Data - Target Variable Y\n",
    "with open(Path(r\"../Data/Preparation for Modeling Data/Binary Classification/Y_test.pickle\"), \"rb\") as input_file:\n",
    "    Y_test = cPickle.load(input_file).squeeze()"
   ]
  },
  {
   "cell_type": "markdown",
   "id": "a97f1d28",
   "metadata": {
    "ExecuteTime": {
     "end_time": "2022-07-27T05:46:56.103458Z",
     "start_time": "2022-07-27T05:46:56.100469Z"
    }
   },
   "source": [
    "# Baseline Model - Dummy Classifier "
   ]
  },
  {
   "cell_type": "markdown",
   "id": "180e57e4",
   "metadata": {},
   "source": [
    "## Dummy Classifier with SMOTE+ENN Training Data"
   ]
  },
  {
   "cell_type": "code",
   "execution_count": null,
   "id": "17cf0551",
   "metadata": {
    "ExecuteTime": {
     "start_time": "2022-08-01T05:52:12.591Z"
    }
   },
   "outputs": [],
   "source": [
    "# Baseline Model - Dummy Classifier\n",
    "clf = DummyClassifier(strategy='most_frequent')\n",
    "\n",
    "# Fit to SMOTE+ENN training data\n",
    "clf.fit(X_train_smote, Y_train_smote)\n",
    "\n",
    "# Make predictions on original unsampled test data\n",
    "Y_pred_smote_baseline = clf.predict(X_test)\n",
    "\n",
    "# Print out Performance scores\n",
    "print ('Accuracy Score with SMOTE+ENN Training Data ', round(accuracy_score(Y_test, Y_pred_smote_baseline),3))\n",
    "print(classification_report(Y_test, Y_pred_smote_baseline))"
   ]
  },
  {
   "cell_type": "markdown",
   "id": "ebdf468e",
   "metadata": {},
   "source": [
    "## Dummy Classifier with Near-miss Sampling Training Data"
   ]
  },
  {
   "cell_type": "code",
   "execution_count": null,
   "id": "6ed10aaf",
   "metadata": {
    "ExecuteTime": {
     "start_time": "2022-08-01T05:52:12.624Z"
    }
   },
   "outputs": [],
   "source": [
    "# Baseline Model - Dummy Classifier\n",
    "clf = DummyClassifier(strategy='most_frequent')\n",
    "\n",
    "# Fit to Near-miss sampling training data\n",
    "clf.fit(X_train_near, Y_train_near)\n",
    "\n",
    "# Make predictions on original unsampled test data\n",
    "Y_pred_near_baseline = clf.predict(X_test)\n",
    "\n",
    "# Print out Performance scores\n",
    "print ('Accuracy Score with near-miss sampling Training Data ', round(accuracy_score(Y_test, Y_pred_near_baseline),3))\n",
    "print(classification_report(Y_test, Y_pred_near_baseline))"
   ]
  },
  {
   "cell_type": "markdown",
   "id": "a298be46",
   "metadata": {
    "ExecuteTime": {
     "end_time": "2022-07-27T06:10:03.328190Z",
     "start_time": "2022-07-27T06:10:03.324833Z"
    }
   },
   "source": [
    "## Dummy Classifier with One-sided Selection Training Data"
   ]
  },
  {
   "cell_type": "code",
   "execution_count": null,
   "id": "94bbce82",
   "metadata": {
    "ExecuteTime": {
     "start_time": "2022-08-01T05:52:12.655Z"
    }
   },
   "outputs": [],
   "source": [
    "# Baseline Model - Dummy Classifier\n",
    "clf = DummyClassifier(strategy='most_frequent')\n",
    "\n",
    "# Fit to One-Sided Selection sampling training data\n",
    "clf.fit(X_train_oss, Y_train_oss)\n",
    "\n",
    "# Make predictions on original unsampled test data\n",
    "Y_pred_oss_baseline = clf.predict(X_test)\n",
    "\n",
    "# Print out Performance scores\n",
    "print ('Accuracy Score with one-sided selection sampling Training Data ', \n",
    "       round(accuracy_score(Y_test, Y_pred_oss_baseline),3))\n",
    "print(classification_report(Y_test, Y_pred_oss_baseline))"
   ]
  },
  {
   "cell_type": "markdown",
   "id": "369e1105",
   "metadata": {},
   "source": [
    "# SVM Classifier - Hyperparameter Tuning\n",
    "\n",
    "- Hyper-parameter tuning on  Training SMOTE+ENN Data\n",
    "- Hyper-parameter tuning on  Training Near-miss Sampling Data\n",
    "- Hyper-parameter tuning on  Training One-sided Selection Sampling Data"
   ]
  },
  {
   "cell_type": "code",
   "execution_count": null,
   "id": "29275e95",
   "metadata": {
    "ExecuteTime": {
     "start_time": "2022-08-01T05:52:12.687Z"
    }
   },
   "outputs": [],
   "source": [
    "# Add parameters in pipeline\n",
    "training_pipeline = Pipeline(\n",
    "steps=[\n",
    "('model', LinearSVC(random_state=42, tol=1e-5))])\n",
    "grid_param = [{\n",
    "'model__penalty': ['l1', 'l2'],\n",
    "'model__loss': ['hinge'],\n",
    "'model__max_iter': [10000]\n",
    "}, {\n",
    "'model__C': [1, 10],\n",
    "'model__tol': [1e-2, 1e-3]\n",
    "}]"
   ]
  },
  {
   "cell_type": "markdown",
   "id": "723c1f64",
   "metadata": {},
   "source": [
    "## SVM Classifier - Training on SMOTE+ENN Data "
   ]
  },
  {
   "cell_type": "code",
   "execution_count": null,
   "id": "241d2e15",
   "metadata": {
    "ExecuteTime": {
     "start_time": "2022-08-01T05:52:12.718Z"
    }
   },
   "outputs": [],
   "source": [
    "# grid search to find best parameters\n",
    "gridSearchProcessor = GridSearchCV(estimator=training_pipeline,\n",
    "param_grid=grid_param, cv=5, n_jobs = -1)\n",
    "\n",
    "# SMOTE+ENN data\n",
    "gridSearchProcessor.fit(X_train_smote, Y_train_smote)\n",
    "\n",
    "# best parameters for SMOTE+ENN Data\n",
    "smote_best_params = gridSearchProcessor.best_params_\n",
    "\n",
    "# best model for SMOTE+ENN Data\n",
    "smote_best_model = gridSearchProcessor.best_estimator_\n",
    "\n",
    "# print out best parameters for SMOTE+ENN Data\n",
    "print(\"Best alpha parameter identified by grid search for SMOTE+ENN Data \", smote_best_params)\n",
    "smote_best_result = gridSearchProcessor.best_score_\n",
    "print(\"Best result identified by grid search for SMOTE+ENN Data\", smote_best_result)\n",
    "\n",
    "\n",
    "# see other parameter results\n",
    "gridsearch_results = pd.DataFrame(gridSearchProcessor.cv_results_)\n",
    "gridsearch_results[['rank_test_score', 'mean_test_score',\n",
    "'params']].sort_values(by=['rank_test_score'])[:5]"
   ]
  },
  {
   "cell_type": "code",
   "execution_count": null,
   "id": "db5183fe",
   "metadata": {
    "ExecuteTime": {
     "start_time": "2022-08-01T05:52:12.721Z"
    }
   },
   "outputs": [],
   "source": [
    "# Model Evaluation\n",
    "Y_pred_smote = smote_best_model.predict(X_test)\n",
    "print('Accuracy Score for SMOTE+ENN Data ', accuracy_score(Y_test, Y_pred_smote))\n",
    "print(classification_report(Y_test, Y_pred_smote))"
   ]
  },
  {
   "cell_type": "markdown",
   "id": "342379d5",
   "metadata": {},
   "source": [
    "## SVM Classifier - Training on Near-miss Sampling Data "
   ]
  },
  {
   "cell_type": "code",
   "execution_count": null,
   "id": "467da537",
   "metadata": {
    "ExecuteTime": {
     "start_time": "2022-08-01T05:52:12.753Z"
    }
   },
   "outputs": [],
   "source": [
    "# grid search to find best parameters\n",
    "gridSearchProcessor = GridSearchCV(estimator=training_pipeline,\n",
    "param_grid=grid_param, cv=5, n_jobs = -1)\n",
    "\n",
    "# Near-miss sampling data\n",
    "gridSearchProcessor.fit(X_train_near, Y_train_near)\n",
    "\n",
    "# best parameters for Near-miss Sampling Data\n",
    "near_best_params = gridSearchProcessor.best_params_\n",
    "\n",
    "# best model for Near-miss Sampling Data\n",
    "near_best_model = gridSearchProcessor.best_estimator_\n",
    "\n",
    "# print out best parameters for Near-miss Sampling Data\n",
    "print(\"Best alpha parameter identified by grid search for Near-miss Sampling Data \", near_best_params)\n",
    "near_best_result = gridSearchProcessor.best_score_\n",
    "print(\"Best result identified by grid search for Near-miss Sampling Data\", near_best_result)\n",
    "\n",
    "\n",
    "# see other parameter results\n",
    "gridsearch_results = pd.DataFrame(gridSearchProcessor.cv_results_)\n",
    "gridsearch_results[['rank_test_score', 'mean_test_score',\n",
    "'params']].sort_values(by=['rank_test_score'])[:5]"
   ]
  },
  {
   "cell_type": "code",
   "execution_count": null,
   "id": "ba1cf87c",
   "metadata": {
    "ExecuteTime": {
     "start_time": "2022-08-01T05:52:12.756Z"
    }
   },
   "outputs": [],
   "source": [
    "# Model Evaluation\n",
    "Y_pred_near = near_best_model.predict(X_test)\n",
    "print('Accuracy Score for Near-miss Sampling Data ', accuracy_score(Y_test, Y_pred_near))\n",
    "print(classification_report(Y_test, Y_pred_near))"
   ]
  },
  {
   "cell_type": "markdown",
   "id": "5f6c9633",
   "metadata": {},
   "source": [
    "## SVM Classifier - Training on One-sided Selection Sampling Data "
   ]
  },
  {
   "cell_type": "code",
   "execution_count": null,
   "id": "57866875",
   "metadata": {
    "ExecuteTime": {
     "start_time": "2022-08-01T05:52:12.786Z"
    }
   },
   "outputs": [],
   "source": [
    "# grid search to find best parameters\n",
    "gridSearchProcessor = GridSearchCV(estimator=training_pipeline,\n",
    "param_grid=grid_param, cv=5, n_jobs = -1)\n",
    "\n",
    "# One-sided selection sampling data\n",
    "gridSearchProcessor.fit(X_train_oss, Y_train_oss)\n",
    "\n",
    "# best parameters for One-sided selection Sampling Data\n",
    "oss_best_params = gridSearchProcessor.best_params_\n",
    "\n",
    "# best model for One-sided selection Sampling Data\n",
    "oss_best_model = gridSearchProcessor.best_estimator_\n",
    "\n",
    "# print out best parameters for One-sided selection Sampling Data\n",
    "print(\"Best alpha parameter identified by grid search for One-sided selection Sampling Data \", oss_best_params)\n",
    "oss_best_result = gridSearchProcessor.best_score_\n",
    "print(\"Best result identified by grid search for One-sided selection Sampling Data\", oss_best_result)\n",
    "\n",
    "\n",
    "# see other parameter results\n",
    "gridsearch_results = pd.DataFrame(gridSearchProcessor.cv_results_)\n",
    "gridsearch_results[['rank_test_score', 'mean_test_score',\n",
    "'params']].sort_values(by=['rank_test_score'])[:5]"
   ]
  },
  {
   "cell_type": "code",
   "execution_count": null,
   "id": "af23524a",
   "metadata": {
    "ExecuteTime": {
     "start_time": "2022-08-01T05:52:12.789Z"
    }
   },
   "outputs": [],
   "source": [
    "# Model Evaluation\n",
    "Y_pred_oss = oss_best_model.predict(X_test)\n",
    "print('Accuracy Score for One-sided selection Sampling Data ', accuracy_score(Y_test, Y_pred_oss))\n",
    "print(classification_report(Y_test, Y_pred_oss))"
   ]
  },
  {
   "cell_type": "markdown",
   "id": "7b353867",
   "metadata": {},
   "source": [
    "# Random Forest Classifier - Hyperparameter Tuning\n",
    "\n",
    "- Hyper-parameter tuning on  Training SMOTE+ENN Data\n",
    "- Hyper-parameter tuning on  Training Near-miss Sampling Data\n",
    "- Hyper-parameter tuning on  Training One-sided Selection Sampling Data"
   ]
  },
  {
   "cell_type": "code",
   "execution_count": null,
   "id": "4983d935",
   "metadata": {
    "ExecuteTime": {
     "start_time": "2022-08-01T05:52:12.824Z"
    }
   },
   "outputs": [],
   "source": [
    "# Number of features to consider at every split\n",
    "max_features = ['auto', 'sqrt']\n",
    "\n",
    "# Maximum number of levels in tree\n",
    "max_depth = [int(x) for x in np.linspace(10, 50, num = 11)]\n",
    "max_depth.append(None)\n",
    "\n",
    "# Minimum number of samples required to split a node\n",
    "min_samples_split = [2, 5, 10]\n",
    "\n",
    "# Minimum number of samples required at each leaf node\n",
    "min_samples_leaf = [1, 2, 4]\n",
    "\n",
    "# Method of selecting samples for training each tree\n",
    "bootstrap = [True, False]\n",
    "\n",
    "# Rf model\n",
    "rf = RandomForestClassifier(random_state=42)\n",
    "\n",
    "random_grid = {'n_estimators': [100,300,500],\n",
    "               'max_features': max_features,\n",
    "               'max_depth': max_depth,\n",
    "               'min_samples_split': min_samples_split,\n",
    "               'min_samples_leaf': min_samples_leaf,\n",
    "               'bootstrap': bootstrap}       \n"
   ]
  },
  {
   "cell_type": "markdown",
   "id": "14393f13",
   "metadata": {},
   "source": [
    "## RF Classifier - Training on SMOTE+ENN Data "
   ]
  },
  {
   "cell_type": "code",
   "execution_count": null,
   "id": "d8a7abb7",
   "metadata": {
    "ExecuteTime": {
     "start_time": "2022-08-01T05:52:12.860Z"
    }
   },
   "outputs": [],
   "source": [
    "# random search to find best parameters\n",
    "rf_gridSearchProcessor = RandomizedSearchCV(estimator=rf,\\\n",
    "                                            param_distributions=random_grid, \n",
    "                                            cv=3, n_jobs = -1,\n",
    "                                            n_iter = 100)\n",
    "\n",
    "# SMOTE+ENN data\n",
    "rf_gridSearchProcessor.fit(X_train_smote, Y_train_smote)\n",
    "\n",
    "# best parameters for SMOTE+ENN Data\n",
    "rf_smote_best_params = rf_gridSearchProcessor.best_params_\n",
    "\n",
    "# best model for SMOTE+ENN Data\n",
    "rf_smote_best_model = rf_gridSearchProcessor.best_estimator_\n",
    "\n",
    "# print out best parameters for SMOTE+ENN Data\n",
    "print(\"Best alpha parameter identified by grid search for SMOTE+ENN Data \", rf_smote_best_params)\n",
    "rf_smote_best_result = rf_gridSearchProcessor.best_score_\n",
    "print(\"Best result identified by grid search for SMOTE+ENN Data\", rf_smote_best_result)\n",
    "\n",
    "\n",
    "# see other parameter results\n",
    "gridsearch_results = pd.DataFrame(rf_gridSearchProcessor.cv_results_)\n",
    "gridsearch_results[['rank_test_score', 'mean_test_score',\n",
    "'params']].sort_values(by=['rank_test_score'])[:5]"
   ]
  },
  {
   "cell_type": "code",
   "execution_count": null,
   "id": "a42a6777",
   "metadata": {
    "ExecuteTime": {
     "start_time": "2022-08-01T05:52:12.863Z"
    }
   },
   "outputs": [],
   "source": [
    "# Model Evaluation\n",
    "Y_pred_smote_rf = rf_smote_best_model.predict(X_test)\n",
    "print('Accuracy Score for SMOTE+ENN Data ', accuracy_score(Y_test, Y_pred_smote_rf))\n",
    "print(classification_report(Y_test, Y_pred_smote_rf))"
   ]
  },
  {
   "cell_type": "markdown",
   "id": "cb2f36f7",
   "metadata": {},
   "source": [
    "## RF Hyper-parameter tuning on Training Near-miss Sampling Data"
   ]
  },
  {
   "cell_type": "code",
   "execution_count": null,
   "id": "86597a57",
   "metadata": {
    "ExecuteTime": {
     "start_time": "2022-08-01T05:52:12.892Z"
    }
   },
   "outputs": [],
   "source": [
    "# random search to find best parameters\n",
    "rf_gridSearchProcessor = RandomizedSearchCV(estimator=rf,\\\n",
    "                                            param_distributions=random_grid, \n",
    "                                            cv=3, n_jobs = -1,\n",
    "                                            n_iter = 100)\n",
    "\n",
    "\n",
    "# Near-miss data\n",
    "rf_gridSearchProcessor.fit(X_train_near, Y_train_near)\n",
    "\n",
    "# best parameters for Near-miss sampling data \n",
    "rf_near_best_params = rf_gridSearchProcessor.best_params_\n",
    "\n",
    "# best model for Near-miss sampling data \n",
    "rf_near_best_model = rf_gridSearchProcessor.best_estimator_\n",
    "\n",
    "# print out best parameters for Near-miss sampling data \n",
    "print(\"Best alpha parameter identified by grid search for Near-miss sampling data \", rf_near_best_params)\n",
    "rf_near_best_result = rf_gridSearchProcessor.best_score_\n",
    "print(\"Best result identified by grid search for Near-miss sampling data \", rf_near_best_result)\n",
    "\n",
    "\n",
    "# see other parameter results\n",
    "gridsearch_results = pd.DataFrame(rf_gridSearchProcessor.cv_results_)\n",
    "gridsearch_results[['rank_test_score', 'mean_test_score',\n",
    "'params']].sort_values(by=['rank_test_score'])[:5]"
   ]
  },
  {
   "cell_type": "code",
   "execution_count": null,
   "id": "f20f4c46",
   "metadata": {
    "ExecuteTime": {
     "start_time": "2022-08-01T05:52:12.894Z"
    }
   },
   "outputs": [],
   "source": [
    "# Model Evaluation\n",
    "Y_pred_near_rf = rf_near_best_model.predict(X_test)\n",
    "print('Accuracy Score for SMOTE+ENN Data ', accuracy_score(Y_test, Y_pred_near_rf))\n",
    "print(classification_report(Y_test, Y_pred_near_rf))"
   ]
  },
  {
   "cell_type": "markdown",
   "id": "98b7e852",
   "metadata": {},
   "source": [
    "## RF Hyper-parameter tuning on Training One-sided Selection Sampling Data\n"
   ]
  },
  {
   "cell_type": "code",
   "execution_count": null,
   "id": "73f7fe57",
   "metadata": {
    "ExecuteTime": {
     "start_time": "2022-08-01T05:52:12.928Z"
    }
   },
   "outputs": [],
   "source": [
    "# random search to find best parameters\n",
    "rf_gridSearchProcessor = RandomizedSearchCV(estimator=rf,\\\n",
    "                                            param_distributions=random_grid, \n",
    "                                            cv=3, n_jobs = -1,\n",
    "                                            n_iter = 100)\n",
    "\n",
    "# oss data\n",
    "rf_gridSearchProcessor.fit(X_train_oss, Y_train_oss)\n",
    "\n",
    "# best parameters for oss sampling data \n",
    "rf_oss_best_params = rf_gridSearchProcessor.best_params_\n",
    "\n",
    "# best model for oss sampling data \n",
    "rf_oss_best_model = rf_gridSearchProcessor.best_estimator_\n",
    "\n",
    "# print out best parameters for oss sampling data \n",
    "print(\"Best alpha parameter identified by grid search for oss sampling data \", rf_oss_best_params)\n",
    "rf_oss_best_result = rf_gridSearchProcessor.best_score_\n",
    "print(\"Best result identified by grid search for oss sampling data \", rf_oss_best_result)\n",
    "\n",
    "\n",
    "# see other parameter results\n",
    "gridsearch_results = pd.DataFrame(rf_gridSearchProcessor.cv_results_)\n",
    "gridsearch_results[['rank_test_score', 'mean_test_score',\n",
    "'params']].sort_values(by=['rank_test_score'])[:5]"
   ]
  },
  {
   "cell_type": "code",
   "execution_count": null,
   "id": "64c90d92",
   "metadata": {
    "ExecuteTime": {
     "start_time": "2022-08-01T05:52:12.929Z"
    }
   },
   "outputs": [],
   "source": [
    "# Model Evaluation\n",
    "Y_pred_oss_rf = rf_oss_best_model.predict(X_test)\n",
    "print('Accuracy Score for One-sided Sampling Data ', accuracy_score(Y_test, Y_pred_oss_rf))\n",
    "print(classification_report(Y_test, Y_pred_oss_rf))"
   ]
  },
  {
   "cell_type": "markdown",
   "id": "175c3fe6",
   "metadata": {},
   "source": [
    "# Model Comparison "
   ]
  },
  {
   "cell_type": "code",
   "execution_count": null,
   "id": "319672a5",
   "metadata": {
    "ExecuteTime": {
     "start_time": "2022-08-01T05:52:12.961Z"
    }
   },
   "outputs": [],
   "source": [
    "model_comp"
   ]
  },
  {
   "cell_type": "code",
   "execution_count": null,
   "id": "ca5dceb3",
   "metadata": {
    "ExecuteTime": {
     "start_time": "2022-08-01T05:52:12.964Z"
    },
    "scrolled": true
   },
   "outputs": [],
   "source": [
    "## make data frame for model performance comparison\n",
    "data = ['SMOTE+ENN Sampling', 'Near-miss Sampling', 'One-sided Selection Sampling Data'] * 3\n",
    "models = ['baseline', 'baseline', 'baseline',\\\n",
    "          'SVM', 'SVM', 'SVM',\\\n",
    "         'Random Forest', 'Random Forest', 'Random Forest']\n",
    "params = ['Most Frequent', 'Most Frequent', 'Most Frequent', \\\n",
    "          smote_best_params, near_best_params, oss_best_params,\\\n",
    "         rf_smote_best_params, rf_near_best_params, rf_oss_best_params]\n",
    "performance = [accuracy_score(Y_test, Y_pred_smote_baseline), \\\n",
    "               accuracy_score(Y_test, Y_pred_near_baseline),\\\n",
    "               accuracy_score(Y_test, Y_pred_oss_baseline), \\\n",
    "               accuracy_score(Y_test, Y_pred_smote), \\\n",
    "              accuracy_score(Y_test, Y_pred_near), \\\n",
    "              accuracy_score(Y_test, Y_pred_oss), \\\n",
    "              accuracy_score(Y_test, Y_pred_smote_rf), \\\n",
    "              accuracy_score(Y_test, Y_pred_near_rf), \\\n",
    "              accuracy_score(Y_test, Y_pred_oss_rf)]\n",
    "\n",
    "model_comp = pd.DataFrame(list(zip(data, models, params, performance))) \n",
    "\n",
    "# reanming the DataFrame columns\n",
    "model_comp.rename(columns = {0:'data', \n",
    "                             1:'model',\n",
    "                             2:'parameters',\n",
    "                             3:'accuracy score'}, \n",
    "            inplace = True)\n",
    "model_comp"
   ]
  },
  {
   "cell_type": "markdown",
   "id": "fb579a69",
   "metadata": {},
   "source": [
    "# Final Model Test Unseen Data and Export "
   ]
  },
  {
   "cell_type": "code",
   "execution_count": null,
   "id": "04fc1363",
   "metadata": {
    "ExecuteTime": {
     "start_time": "2022-08-01T05:52:12.996Z"
    }
   },
   "outputs": [],
   "source": [
    "# predict unseen data\n",
    "unseen_data = tfidf.transform([\"Very disappointed in the Apple TV 4K. \\\n",
    "Horrible issues with audio video syncing. The audio is never in sync with the video play back . \\\n",
    "It actually moves around from a little out of sync to way out of sync. Apple support? No help at all. \\\n",
    "And Apple actually said they are only concerned with Apple designed products and don't really care about\\\n",
    "how another company products work with Apple TV. This appears to be a firmware issue, That Apple has no interest\\\n",
    "in addressing.\"])\n",
    "\n",
    "# select final model\n",
    "final_model = oss_best_model\n",
    "\n",
    "# predict unseen data\n",
    "final_model.predict(unseen_data).tolist()\n",
    "\n",
    "# probabilities/likelihood set up\n",
    "final_model_proba = CalibratedClassifierCV(final_model, cv='prefit') \n",
    "final_model_proba.fit(X_train_oss, Y_train_oss)\n",
    "\n",
    "# put probabilities into data frame\n",
    "pred_class = final_model_proba.predict(X_test)\n",
    "pd.DataFrame(np.round(final_model_proba.predict_proba(unseen_data),3),\\\n",
    "             columns=final_model_proba.classes_)\n"
   ]
  },
  {
   "cell_type": "code",
   "execution_count": null,
   "id": "409bc317",
   "metadata": {
    "ExecuteTime": {
     "start_time": "2022-08-01T05:52:12.998Z"
    }
   },
   "outputs": [],
   "source": [
    "# Final mode export\n",
    "joblib.dump(final_model_proba, 'final_model.pkl') "
   ]
  }
 ],
 "metadata": {
  "kernelspec": {
   "display_name": "Python [conda env:ads599] *",
   "language": "python",
   "name": "conda-env-ads599-py"
  },
  "language_info": {
   "codemirror_mode": {
    "name": "ipython",
    "version": 3
   },
   "file_extension": ".py",
   "mimetype": "text/x-python",
   "name": "python",
   "nbconvert_exporter": "python",
   "pygments_lexer": "ipython3",
   "version": "3.8.13"
  },
  "toc": {
   "base_numbering": 1,
   "nav_menu": {},
   "number_sections": true,
   "sideBar": true,
   "skip_h1_title": false,
   "title_cell": "Table of Contents",
   "title_sidebar": "Contents",
   "toc_cell": false,
   "toc_position": {},
   "toc_section_display": true,
   "toc_window_display": false
  }
 },
 "nbformat": 4,
 "nbformat_minor": 5
}
