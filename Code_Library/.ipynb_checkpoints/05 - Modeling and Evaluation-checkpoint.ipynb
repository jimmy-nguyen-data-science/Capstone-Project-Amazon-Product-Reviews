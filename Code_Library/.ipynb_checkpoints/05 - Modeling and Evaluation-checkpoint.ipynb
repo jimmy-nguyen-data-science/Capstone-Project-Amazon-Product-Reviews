{
 "cells": [
  {
   "cell_type": "markdown",
   "id": "0b73a15f",
   "metadata": {},
   "source": [
    "# Packages "
   ]
  },
  {
   "cell_type": "code",
   "execution_count": 1,
   "id": "48e8a9cb",
   "metadata": {
    "ExecuteTime": {
     "end_time": "2022-07-27T06:51:33.858098Z",
     "start_time": "2022-07-27T06:51:31.806656Z"
    }
   },
   "outputs": [
    {
     "data": {
      "text/html": [
       "        <script type=\"text/javascript\">\n",
       "        window.PlotlyConfig = {MathJaxConfig: 'local'};\n",
       "        if (window.MathJax && window.MathJax.Hub && window.MathJax.Hub.Config) {window.MathJax.Hub.Config({SVG: {font: \"STIX-Web\"}});}\n",
       "        if (typeof require !== 'undefined') {\n",
       "        require.undef(\"plotly\");\n",
       "        requirejs.config({\n",
       "            paths: {\n",
       "                'plotly': ['https://cdn.plot.ly/plotly-2.12.1.min']\n",
       "            }\n",
       "        });\n",
       "        require(['plotly'], function(Plotly) {\n",
       "            window._Plotly = Plotly;\n",
       "        });\n",
       "        }\n",
       "        </script>\n",
       "        "
      ]
     },
     "metadata": {},
     "output_type": "display_data"
    }
   ],
   "source": [
    "import pandas as pd # pandas package\n",
    "pd.options.display.max_columns = 40\n",
    "\n",
    "import numpy as np # numpy package\n",
    "\n",
    "# matplotlib packages\n",
    "import matplotlib\n",
    "import matplotlib.pyplot as plt \n",
    "%matplotlib inline\n",
    "matplotlib.rcParams['figure.figsize'] = (10.0, 6.0)\n",
    "\n",
    "import seaborn as sns # seaborn package\n",
    "# dictionary package\n",
    "from collections import Counter, defaultdict\n",
    "\n",
    "import warnings  # warnings package\n",
    "warnings.filterwarnings('ignore')\n",
    "\n",
    "# plotly packages\n",
    "from chart_studio import plotly\n",
    "import plotly.express as px\n",
    "import plotly.graph_objs as go\n",
    "import plotly.figure_factory as ff\n",
    "from plotly.offline import iplot\n",
    "\n",
    "# cufflink packages\n",
    "import cufflinks\n",
    "cufflinks.go_offline()\n",
    "cufflinks.set_config_file(world_readable=True, theme='pearl')\n",
    "\n",
    "# interactive shell\n",
    "from IPython.core.interactiveshell import InteractiveShell\n",
    "InteractiveShell.ast_node_interactivity = 'last_expr'\n",
    "\n",
    "from pathlib import Path # path package\n",
    "import re #regex package\n",
    "from textblob import TextBlob #import textblob package\n",
    "\n",
    "# word cloud\n",
    "from wordcloud import WordCloud, STOPWORDS, ImageColorGenerator\n",
    "\n",
    "# nltk packages\n",
    "import nltk\n",
    "\n",
    "#nltk.download('stopwords')\n",
    "# stop words\n",
    "from nltk.corpus import stopwords\n",
    "sw = set(stopwords.words(\"english\"))\n",
    "\n",
    "# punctuation\n",
    "from string import punctuation\n",
    "\n",
    "# detokenizer \n",
    "from nltk.tokenize.treebank import TreebankWordDetokenizer\n",
    "\n",
    "# sklearn packages\n",
    "from sklearn.preprocessing import OrdinalEncoder\n",
    "from sklearn.preprocessing import LabelEncoder\n",
    "from sklearn.feature_extraction.text import TfidfVectorizer\n",
    "from sklearn.model_selection import train_test_split\n",
    "from sklearn.svm import LinearSVC\n",
    "from sklearn.metrics import accuracy_score\n",
    "from sklearn.metrics import classification_report\n",
    "from sklearn.pipeline import Pipeline\n",
    "from sklearn.model_selection import GridSearchCV\n",
    "from sklearn.dummy import DummyClassifier\n",
    "from xgboost import XGBClassifier\n",
    "\n",
    "#imblean packages for undersampling/oversampling\n",
    "from imblearn.over_sampling import SMOTE\n",
    "from imblearn.combine import SMOTEENN\n",
    "from imblearn.under_sampling import NearMiss \n",
    "from imblearn.under_sampling import OneSidedSelection\n",
    "\n",
    "# pickle package\n",
    "import _pickle as cPickle\n",
    "\n",
    "\n",
    "# import packages for hyperparameters tuning\n",
    "from hyperopt import STATUS_OK, Trials, fmin, hp, tpe\n"
   ]
  },
  {
   "cell_type": "markdown",
   "id": "615720c8",
   "metadata": {},
   "source": [
    "# Loading Training and Test Sets"
   ]
  },
  {
   "cell_type": "markdown",
   "id": "d4ccae1a",
   "metadata": {},
   "source": [
    "## SMOTE+ENN Training Data"
   ]
  },
  {
   "cell_type": "code",
   "execution_count": 2,
   "id": "a8960d60",
   "metadata": {
    "ExecuteTime": {
     "end_time": "2022-07-27T06:51:33.907602Z",
     "start_time": "2022-07-27T06:51:33.863805Z"
    }
   },
   "outputs": [],
   "source": [
    "# SMOTE+ENN Training Data - X variables\n",
    "with open(Path(r\"../Data/Preparation for Modeling Data/Binary Classification/X_train_smote.pickle\"), \"rb\") as input_file:\n",
    "    X_train_smote = cPickle.load(input_file)\n",
    "    \n",
    "# SMOTE+ENN Training Data - Target Variable Y\n",
    "with open(Path(r\"../Data/Preparation for Modeling Data/Binary Classification/Y_train_smote.pickle\"), \"rb\") as input_file:\n",
    "    Y_train_smote = cPickle.load(input_file)"
   ]
  },
  {
   "cell_type": "markdown",
   "id": "4358b8d5",
   "metadata": {
    "ExecuteTime": {
     "end_time": "2022-07-27T05:40:47.240265Z",
     "start_time": "2022-07-27T05:40:47.227759Z"
    }
   },
   "source": [
    "## Near-miss Sampling Training Data "
   ]
  },
  {
   "cell_type": "code",
   "execution_count": 3,
   "id": "bad52ab2",
   "metadata": {
    "ExecuteTime": {
     "end_time": "2022-07-27T06:51:33.925790Z",
     "start_time": "2022-07-27T06:51:33.911554Z"
    }
   },
   "outputs": [],
   "source": [
    "# Near-miss Training Data - X variables\n",
    "with open(Path(r\"../Data/Preparation for Modeling Data/Binary Classification/X_train_near.pickle\"), \"rb\") as input_file:\n",
    "    X_train_near = cPickle.load(input_file)\n",
    "    \n",
    "# Near-miss Training Data - Target Variable Y\n",
    "with open(Path(r\"../Data/Preparation for Modeling Data/Binary Classification/Y_train_near.pickle\"), \"rb\") as input_file:\n",
    "    Y_train_near = cPickle.load(input_file)"
   ]
  },
  {
   "cell_type": "markdown",
   "id": "cccf31e5",
   "metadata": {},
   "source": [
    "## One-sided Selection Sampling Training Data "
   ]
  },
  {
   "cell_type": "code",
   "execution_count": 4,
   "id": "53940e0c",
   "metadata": {
    "ExecuteTime": {
     "end_time": "2022-07-27T06:51:33.949988Z",
     "start_time": "2022-07-27T06:51:33.927879Z"
    }
   },
   "outputs": [],
   "source": [
    "# One-sided Selection Training Data - X variables\n",
    "with open(Path(r\"../Data/Preparation for Modeling Data/Binary Classification/X_train_oss.pickle\"), \"rb\") as input_file:\n",
    "    X_train_oss = cPickle.load(input_file)\n",
    "    \n",
    "# One-sided Selection Training Data - Target Variable Y\n",
    "with open(Path(r\"../Data/Preparation for Modeling Data/Binary Classification/Y_train_oss.pickle\"), \"rb\") as input_file:\n",
    "    Y_train_oss = cPickle.load(input_file)"
   ]
  },
  {
   "cell_type": "markdown",
   "id": "130a74b5",
   "metadata": {},
   "source": [
    "## Test Data"
   ]
  },
  {
   "cell_type": "code",
   "execution_count": 5,
   "id": "40d17db4",
   "metadata": {
    "ExecuteTime": {
     "end_time": "2022-07-27T06:51:33.974617Z",
     "start_time": "2022-07-27T06:51:33.952675Z"
    }
   },
   "outputs": [],
   "source": [
    "# Test Data - X variables\n",
    "with open(Path(r\"../Data/Preparation for Modeling Data/Binary Classification/X_test.pickle\"), \"rb\") as input_file:\n",
    "    X_test = cPickle.load(input_file)\n",
    "    \n",
    "# Test Data - Target Variable Y\n",
    "with open(Path(r\"../Data/Preparation for Modeling Data/Binary Classification/Y_test.pickle\"), \"rb\") as input_file:\n",
    "    Y_test = cPickle.load(input_file)"
   ]
  },
  {
   "cell_type": "markdown",
   "id": "a97f1d28",
   "metadata": {
    "ExecuteTime": {
     "end_time": "2022-07-27T05:46:56.103458Z",
     "start_time": "2022-07-27T05:46:56.100469Z"
    }
   },
   "source": [
    "# Baseline Model - Dummy Classifier "
   ]
  },
  {
   "cell_type": "markdown",
   "id": "180e57e4",
   "metadata": {},
   "source": [
    "## Dummy Classifier with SMOTE+ENN Training Data"
   ]
  },
  {
   "cell_type": "code",
   "execution_count": 6,
   "id": "17cf0551",
   "metadata": {
    "ExecuteTime": {
     "end_time": "2022-07-27T06:51:34.101040Z",
     "start_time": "2022-07-27T06:51:33.977078Z"
    }
   },
   "outputs": [
    {
     "name": "stdout",
     "output_type": "stream",
     "text": [
      "Accuracy Score with SMOTE+ENN Training Data  0.111\n",
      "              precision    recall  f1-score   support\n",
      "\n",
      "    Negative       0.11      1.00      0.20       375\n",
      "    Positive       0.00      0.00      0.00      3013\n",
      "\n",
      "    accuracy                           0.11      3388\n",
      "   macro avg       0.06      0.50      0.10      3388\n",
      "weighted avg       0.01      0.11      0.02      3388\n",
      "\n"
     ]
    }
   ],
   "source": [
    "# Baseline Model - Dummy Classifier\n",
    "clf = DummyClassifier(strategy='most_frequent')\n",
    "\n",
    "# Fit to SMOTE+ENN training data\n",
    "clf.fit(X_train_smote, Y_train_smote)\n",
    "\n",
    "# Make predictions on original unsampled test data\n",
    "Y_pred_smote_baseline = clf.predict(X_test)\n",
    "\n",
    "# Print out Performance scores\n",
    "print ('Accuracy Score with SMOTE+ENN Training Data ', round(accuracy_score(Y_test, Y_pred_smote_baseline),3))\n",
    "print(classification_report(Y_test, Y_pred_smote_baseline))"
   ]
  },
  {
   "cell_type": "markdown",
   "id": "ebdf468e",
   "metadata": {},
   "source": [
    "## Dummy Classifier with Near-miss Sampling Training Data"
   ]
  },
  {
   "cell_type": "code",
   "execution_count": 7,
   "id": "6ed10aaf",
   "metadata": {
    "ExecuteTime": {
     "end_time": "2022-07-27T06:51:34.194267Z",
     "start_time": "2022-07-27T06:51:34.103976Z"
    }
   },
   "outputs": [
    {
     "name": "stdout",
     "output_type": "stream",
     "text": [
      "Accuracy Score with near-miss sampling Training Data  0.111\n",
      "              precision    recall  f1-score   support\n",
      "\n",
      "    Negative       0.11      1.00      0.20       375\n",
      "    Positive       0.00      0.00      0.00      3013\n",
      "\n",
      "    accuracy                           0.11      3388\n",
      "   macro avg       0.06      0.50      0.10      3388\n",
      "weighted avg       0.01      0.11      0.02      3388\n",
      "\n"
     ]
    }
   ],
   "source": [
    "# Baseline Model - Dummy Classifier\n",
    "clf = DummyClassifier(strategy='most_frequent')\n",
    "\n",
    "# Fit to Near-miss sampling training data\n",
    "clf.fit(X_train_near, Y_train_near)\n",
    "\n",
    "# Make predictions on original unsampled test data\n",
    "Y_pred_near_baseline = clf.predict(X_test)\n",
    "\n",
    "# Print out Performance scores\n",
    "print ('Accuracy Score with near-miss sampling Training Data ', round(accuracy_score(Y_test, Y_pred_near_baseline),3))\n",
    "print(classification_report(Y_test, Y_pred_near_baseline))"
   ]
  },
  {
   "cell_type": "markdown",
   "id": "a298be46",
   "metadata": {
    "ExecuteTime": {
     "end_time": "2022-07-27T06:10:03.328190Z",
     "start_time": "2022-07-27T06:10:03.324833Z"
    }
   },
   "source": [
    "## Dummy Classifier with One-sided Selection Training Data"
   ]
  },
  {
   "cell_type": "code",
   "execution_count": 8,
   "id": "94bbce82",
   "metadata": {
    "ExecuteTime": {
     "end_time": "2022-07-27T06:51:34.304695Z",
     "start_time": "2022-07-27T06:51:34.197178Z"
    }
   },
   "outputs": [
    {
     "name": "stdout",
     "output_type": "stream",
     "text": [
      "Accuracy Score with one-sided selection sampling Training Data  0.889\n",
      "              precision    recall  f1-score   support\n",
      "\n",
      "    Negative       0.00      0.00      0.00       375\n",
      "    Positive       0.89      1.00      0.94      3013\n",
      "\n",
      "    accuracy                           0.89      3388\n",
      "   macro avg       0.44      0.50      0.47      3388\n",
      "weighted avg       0.79      0.89      0.84      3388\n",
      "\n"
     ]
    }
   ],
   "source": [
    "# Baseline Model - Dummy Classifier\n",
    "clf = DummyClassifier(strategy='most_frequent')\n",
    "\n",
    "# Fit to One-Sided Selection sampling training data\n",
    "clf.fit(X_train_oss, Y_train_oss)\n",
    "\n",
    "# Make predictions on original unsampled test data\n",
    "Y_pred_oss_baseline = clf.predict(X_test)\n",
    "\n",
    "# Print out Performance scores\n",
    "print ('Accuracy Score with one-sided selection sampling Training Data ', \n",
    "       round(accuracy_score(Y_test, Y_pred_oss_baseline),3))\n",
    "print(classification_report(Y_test, Y_pred_oss_baseline))"
   ]
  },
  {
   "cell_type": "markdown",
   "id": "369e1105",
   "metadata": {},
   "source": [
    "# SVM Classifier - Hyperparameter Tuning"
   ]
  },
  {
   "cell_type": "markdown",
   "id": "723c1f64",
   "metadata": {},
   "source": [
    "## SVM Classifier - Training on SMOTE+ENN Data "
   ]
  },
  {
   "cell_type": "code",
   "execution_count": 9,
   "id": "241d2e15",
   "metadata": {
    "ExecuteTime": {
     "end_time": "2022-07-27T06:51:37.241034Z",
     "start_time": "2022-07-27T06:51:34.308448Z"
    }
   },
   "outputs": [
    {
     "name": "stdout",
     "output_type": "stream",
     "text": [
      "Best alpha parameter identified by grid search for SMOTE+ENN Data  {'model__C': 10, 'model__tol': 0.01}\n",
      "Best result identified by grid search for SMOTE+ENN Data 0.9873017837495774\n"
     ]
    },
    {
     "data": {
      "text/html": [
       "<div>\n",
       "<style scoped>\n",
       "    .dataframe tbody tr th:only-of-type {\n",
       "        vertical-align: middle;\n",
       "    }\n",
       "\n",
       "    .dataframe tbody tr th {\n",
       "        vertical-align: top;\n",
       "    }\n",
       "\n",
       "    .dataframe thead th {\n",
       "        text-align: right;\n",
       "    }\n",
       "</style>\n",
       "<table border=\"1\" class=\"dataframe\">\n",
       "  <thead>\n",
       "    <tr style=\"text-align: right;\">\n",
       "      <th></th>\n",
       "      <th>rank_test_score</th>\n",
       "      <th>mean_test_score</th>\n",
       "      <th>params</th>\n",
       "    </tr>\n",
       "  </thead>\n",
       "  <tbody>\n",
       "    <tr>\n",
       "      <th>4</th>\n",
       "      <td>1</td>\n",
       "      <td>0.987302</td>\n",
       "      <td>{'model__C': 10, 'model__tol': 0.01}</td>\n",
       "    </tr>\n",
       "    <tr>\n",
       "      <th>5</th>\n",
       "      <td>1</td>\n",
       "      <td>0.987302</td>\n",
       "      <td>{'model__C': 10, 'model__tol': 0.001}</td>\n",
       "    </tr>\n",
       "    <tr>\n",
       "      <th>2</th>\n",
       "      <td>3</td>\n",
       "      <td>0.986249</td>\n",
       "      <td>{'model__C': 1, 'model__tol': 0.01}</td>\n",
       "    </tr>\n",
       "    <tr>\n",
       "      <th>3</th>\n",
       "      <td>3</td>\n",
       "      <td>0.986249</td>\n",
       "      <td>{'model__C': 1, 'model__tol': 0.001}</td>\n",
       "    </tr>\n",
       "    <tr>\n",
       "      <th>1</th>\n",
       "      <td>5</td>\n",
       "      <td>0.984638</td>\n",
       "      <td>{'model__loss': 'hinge', 'model__max_iter': 10...</td>\n",
       "    </tr>\n",
       "  </tbody>\n",
       "</table>\n",
       "</div>"
      ],
      "text/plain": [
       "   rank_test_score  mean_test_score  \\\n",
       "4                1         0.987302   \n",
       "5                1         0.987302   \n",
       "2                3         0.986249   \n",
       "3                3         0.986249   \n",
       "1                5         0.984638   \n",
       "\n",
       "                                              params  \n",
       "4               {'model__C': 10, 'model__tol': 0.01}  \n",
       "5              {'model__C': 10, 'model__tol': 0.001}  \n",
       "2                {'model__C': 1, 'model__tol': 0.01}  \n",
       "3               {'model__C': 1, 'model__tol': 0.001}  \n",
       "1  {'model__loss': 'hinge', 'model__max_iter': 10...  "
      ]
     },
     "execution_count": 9,
     "metadata": {},
     "output_type": "execute_result"
    }
   ],
   "source": [
    "# Add parameters in pipeline\n",
    "training_pipeline = Pipeline(\n",
    "steps=[\n",
    "('model', LinearSVC(random_state=42, tol=1e-5))])\n",
    "grid_param = [{\n",
    "'model__penalty': ['l1', 'l2'],\n",
    "'model__loss': ['hinge'],\n",
    "'model__max_iter': [10000]\n",
    "}, {\n",
    "'model__C': [1, 10],\n",
    "'model__tol': [1e-2, 1e-3]\n",
    "}]\n",
    "\n",
    "# grid search to find best parameters\n",
    "gridSearchProcessor = GridSearchCV(estimator=training_pipeline,\n",
    "param_grid=grid_param, cv=5, n_jobs = -1)\n",
    "\n",
    "# SMOTE+ENN data\n",
    "gridSearchProcessor.fit(X_train_smote, Y_train_smote)\n",
    "\n",
    "# best parameters for SMOTE+ENN Data\n",
    "smote_best_params = gridSearchProcessor.best_params_\n",
    "\n",
    "# best model for SMOTE+ENN Data\n",
    "smote_best_model = gridSearchProcessor.best_estimator_\n",
    "\n",
    "# print out best parameters for SMOTE+ENN Data\n",
    "print(\"Best alpha parameter identified by grid search for SMOTE+ENN Data \", smote_best_params)\n",
    "smote_best_result = gridSearchProcessor.best_score_\n",
    "print(\"Best result identified by grid search for SMOTE+ENN Data\", smote_best_result)\n",
    "\n",
    "\n",
    "# see other parameter results\n",
    "gridsearch_results = pd.DataFrame(gridSearchProcessor.cv_results_)\n",
    "gridsearch_results[['rank_test_score', 'mean_test_score',\n",
    "'params']].sort_values(by=['rank_test_score'])[:5]"
   ]
  },
  {
   "cell_type": "code",
   "execution_count": 10,
   "id": "db5183fe",
   "metadata": {
    "ExecuteTime": {
     "end_time": "2022-07-27T06:51:37.350415Z",
     "start_time": "2022-07-27T06:51:37.243872Z"
    }
   },
   "outputs": [
    {
     "name": "stdout",
     "output_type": "stream",
     "text": [
      "Accuracy Score for SMOTE+ENN Data  0.7573789846517119\n",
      "              precision    recall  f1-score   support\n",
      "\n",
      "    Negative       0.30      0.93      0.46       375\n",
      "    Positive       0.99      0.74      0.84      3013\n",
      "\n",
      "    accuracy                           0.76      3388\n",
      "   macro avg       0.65      0.83      0.65      3388\n",
      "weighted avg       0.91      0.76      0.80      3388\n",
      "\n"
     ]
    }
   ],
   "source": [
    "# Model Evaluation\n",
    "Y_pred = smote_best_model.predict(X_test)\n",
    "print('Accuracy Score for SMOTE+ENN Data ', accuracy_score(Y_test, Y_pred))\n",
    "print(classification_report(Y_test, Y_pred))"
   ]
  },
  {
   "cell_type": "markdown",
   "id": "342379d5",
   "metadata": {},
   "source": [
    "## SVM Classifier - Training on Near-miss Sampling Data "
   ]
  },
  {
   "cell_type": "code",
   "execution_count": 11,
   "id": "467da537",
   "metadata": {
    "ExecuteTime": {
     "end_time": "2022-07-27T06:51:37.646953Z",
     "start_time": "2022-07-27T06:51:37.353530Z"
    }
   },
   "outputs": [
    {
     "name": "stdout",
     "output_type": "stream",
     "text": [
      "Best alpha parameter identified by grid search for Near-miss Sampling Data  {'model__loss': 'hinge', 'model__max_iter': 10000, 'model__penalty': 'l2'}\n",
      "Best result identified by grid search for Near-miss Sampling Data 0.8761602671118531\n"
     ]
    },
    {
     "data": {
      "text/html": [
       "<div>\n",
       "<style scoped>\n",
       "    .dataframe tbody tr th:only-of-type {\n",
       "        vertical-align: middle;\n",
       "    }\n",
       "\n",
       "    .dataframe tbody tr th {\n",
       "        vertical-align: top;\n",
       "    }\n",
       "\n",
       "    .dataframe thead th {\n",
       "        text-align: right;\n",
       "    }\n",
       "</style>\n",
       "<table border=\"1\" class=\"dataframe\">\n",
       "  <thead>\n",
       "    <tr style=\"text-align: right;\">\n",
       "      <th></th>\n",
       "      <th>rank_test_score</th>\n",
       "      <th>mean_test_score</th>\n",
       "      <th>params</th>\n",
       "    </tr>\n",
       "  </thead>\n",
       "  <tbody>\n",
       "    <tr>\n",
       "      <th>1</th>\n",
       "      <td>1</td>\n",
       "      <td>0.876160</td>\n",
       "      <td>{'model__loss': 'hinge', 'model__max_iter': 10...</td>\n",
       "    </tr>\n",
       "    <tr>\n",
       "      <th>2</th>\n",
       "      <td>2</td>\n",
       "      <td>0.873492</td>\n",
       "      <td>{'model__C': 1, 'model__tol': 0.01}</td>\n",
       "    </tr>\n",
       "    <tr>\n",
       "      <th>3</th>\n",
       "      <td>2</td>\n",
       "      <td>0.873492</td>\n",
       "      <td>{'model__C': 1, 'model__tol': 0.001}</td>\n",
       "    </tr>\n",
       "    <tr>\n",
       "      <th>4</th>\n",
       "      <td>4</td>\n",
       "      <td>0.856471</td>\n",
       "      <td>{'model__C': 10, 'model__tol': 0.01}</td>\n",
       "    </tr>\n",
       "    <tr>\n",
       "      <th>5</th>\n",
       "      <td>5</td>\n",
       "      <td>0.856137</td>\n",
       "      <td>{'model__C': 10, 'model__tol': 0.001}</td>\n",
       "    </tr>\n",
       "  </tbody>\n",
       "</table>\n",
       "</div>"
      ],
      "text/plain": [
       "   rank_test_score  mean_test_score  \\\n",
       "1                1         0.876160   \n",
       "2                2         0.873492   \n",
       "3                2         0.873492   \n",
       "4                4         0.856471   \n",
       "5                5         0.856137   \n",
       "\n",
       "                                              params  \n",
       "1  {'model__loss': 'hinge', 'model__max_iter': 10...  \n",
       "2                {'model__C': 1, 'model__tol': 0.01}  \n",
       "3               {'model__C': 1, 'model__tol': 0.001}  \n",
       "4               {'model__C': 10, 'model__tol': 0.01}  \n",
       "5              {'model__C': 10, 'model__tol': 0.001}  "
      ]
     },
     "execution_count": 11,
     "metadata": {},
     "output_type": "execute_result"
    }
   ],
   "source": [
    "# Add parameters in pipeline\n",
    "training_pipeline = Pipeline(\n",
    "steps=[\n",
    "('model', LinearSVC(random_state=42, tol=1e-5))])\n",
    "grid_param = [{\n",
    "'model__penalty': ['l1', 'l2'],\n",
    "'model__loss': ['hinge'],\n",
    "'model__max_iter': [10000]\n",
    "}, {\n",
    "'model__C': [1, 10],\n",
    "'model__tol': [1e-2, 1e-3]\n",
    "}]\n",
    "\n",
    "# grid search to find best parameters\n",
    "gridSearchProcessor = GridSearchCV(estimator=training_pipeline,\n",
    "param_grid=grid_param, cv=5, n_jobs = -1)\n",
    "\n",
    "# Near-miss sampling data\n",
    "gridSearchProcessor.fit(X_train_near, Y_train_near)\n",
    "\n",
    "# best parameters for Near-miss Sampling Data\n",
    "near_best_params = gridSearchProcessor.best_params_\n",
    "\n",
    "# best model for Near-miss Sampling Data\n",
    "near_best_model = gridSearchProcessor.best_estimator_\n",
    "\n",
    "# print out best parameters for Near-miss Sampling Data\n",
    "print(\"Best alpha parameter identified by grid search for Near-miss Sampling Data \", near_best_params)\n",
    "near_best_result = gridSearchProcessor.best_score_\n",
    "print(\"Best result identified by grid search for Near-miss Sampling Data\", near_best_result)\n",
    "\n",
    "\n",
    "# see other parameter results\n",
    "gridsearch_results = pd.DataFrame(gridSearchProcessor.cv_results_)\n",
    "gridsearch_results[['rank_test_score', 'mean_test_score',\n",
    "'params']].sort_values(by=['rank_test_score'])[:5]"
   ]
  },
  {
   "cell_type": "code",
   "execution_count": 12,
   "id": "ba1cf87c",
   "metadata": {
    "ExecuteTime": {
     "end_time": "2022-07-27T06:51:37.757113Z",
     "start_time": "2022-07-27T06:51:37.649892Z"
    }
   },
   "outputs": [
    {
     "name": "stdout",
     "output_type": "stream",
     "text": [
      "Accuracy Score for Near-miss Sampling Data  0.7795159386068476\n",
      "              precision    recall  f1-score   support\n",
      "\n",
      "    Negative       0.32      0.91      0.48       375\n",
      "    Positive       0.99      0.76      0.86      3013\n",
      "\n",
      "    accuracy                           0.78      3388\n",
      "   macro avg       0.65      0.84      0.67      3388\n",
      "weighted avg       0.91      0.78      0.82      3388\n",
      "\n"
     ]
    }
   ],
   "source": [
    "# Model Evaluation\n",
    "Y_pred = near_best_model.predict(X_test)\n",
    "print('Accuracy Score for Near-miss Sampling Data ', accuracy_score(Y_test, Y_pred))\n",
    "print(classification_report(Y_test, Y_pred))"
   ]
  },
  {
   "cell_type": "markdown",
   "id": "5f6c9633",
   "metadata": {},
   "source": [
    "## SVM Classifier - Training on One-sided Selection Sampling Data "
   ]
  },
  {
   "cell_type": "code",
   "execution_count": 13,
   "id": "57866875",
   "metadata": {
    "ExecuteTime": {
     "end_time": "2022-07-27T06:51:38.781749Z",
     "start_time": "2022-07-27T06:51:37.759510Z"
    }
   },
   "outputs": [
    {
     "name": "stdout",
     "output_type": "stream",
     "text": [
      "Best alpha parameter identified by grid search for One-sided selection Sampling Data  {'model__loss': 'hinge', 'model__max_iter': 10000, 'model__penalty': 'l2'}\n",
      "Best result identified by grid search for One-sided selection Sampling Data 0.9286975358148165\n"
     ]
    },
    {
     "data": {
      "text/html": [
       "<div>\n",
       "<style scoped>\n",
       "    .dataframe tbody tr th:only-of-type {\n",
       "        vertical-align: middle;\n",
       "    }\n",
       "\n",
       "    .dataframe tbody tr th {\n",
       "        vertical-align: top;\n",
       "    }\n",
       "\n",
       "    .dataframe thead th {\n",
       "        text-align: right;\n",
       "    }\n",
       "</style>\n",
       "<table border=\"1\" class=\"dataframe\">\n",
       "  <thead>\n",
       "    <tr style=\"text-align: right;\">\n",
       "      <th></th>\n",
       "      <th>rank_test_score</th>\n",
       "      <th>mean_test_score</th>\n",
       "      <th>params</th>\n",
       "    </tr>\n",
       "  </thead>\n",
       "  <tbody>\n",
       "    <tr>\n",
       "      <th>1</th>\n",
       "      <td>1</td>\n",
       "      <td>0.928698</td>\n",
       "      <td>{'model__loss': 'hinge', 'model__max_iter': 10...</td>\n",
       "    </tr>\n",
       "    <tr>\n",
       "      <th>2</th>\n",
       "      <td>2</td>\n",
       "      <td>0.928342</td>\n",
       "      <td>{'model__C': 1, 'model__tol': 0.01}</td>\n",
       "    </tr>\n",
       "    <tr>\n",
       "      <th>3</th>\n",
       "      <td>2</td>\n",
       "      <td>0.928342</td>\n",
       "      <td>{'model__C': 1, 'model__tol': 0.001}</td>\n",
       "    </tr>\n",
       "    <tr>\n",
       "      <th>4</th>\n",
       "      <td>4</td>\n",
       "      <td>0.916459</td>\n",
       "      <td>{'model__C': 10, 'model__tol': 0.01}</td>\n",
       "    </tr>\n",
       "    <tr>\n",
       "      <th>5</th>\n",
       "      <td>4</td>\n",
       "      <td>0.916459</td>\n",
       "      <td>{'model__C': 10, 'model__tol': 0.001}</td>\n",
       "    </tr>\n",
       "  </tbody>\n",
       "</table>\n",
       "</div>"
      ],
      "text/plain": [
       "   rank_test_score  mean_test_score  \\\n",
       "1                1         0.928698   \n",
       "2                2         0.928342   \n",
       "3                2         0.928342   \n",
       "4                4         0.916459   \n",
       "5                4         0.916459   \n",
       "\n",
       "                                              params  \n",
       "1  {'model__loss': 'hinge', 'model__max_iter': 10...  \n",
       "2                {'model__C': 1, 'model__tol': 0.01}  \n",
       "3               {'model__C': 1, 'model__tol': 0.001}  \n",
       "4               {'model__C': 10, 'model__tol': 0.01}  \n",
       "5              {'model__C': 10, 'model__tol': 0.001}  "
      ]
     },
     "execution_count": 13,
     "metadata": {},
     "output_type": "execute_result"
    }
   ],
   "source": [
    "# Add parameters in pipeline\n",
    "training_pipeline = Pipeline(\n",
    "steps=[\n",
    "('model', LinearSVC(random_state=42, tol=1e-5))])\n",
    "grid_param = [{\n",
    "'model__penalty': ['l1', 'l2'],\n",
    "'model__loss': ['hinge'],\n",
    "'model__max_iter': [10000]\n",
    "}, {\n",
    "'model__C': [1, 10],\n",
    "'model__tol': [1e-2, 1e-3]\n",
    "}]\n",
    "\n",
    "# grid search to find best parameters\n",
    "gridSearchProcessor = GridSearchCV(estimator=training_pipeline,\n",
    "param_grid=grid_param, cv=5, n_jobs = -1)\n",
    "\n",
    "# One-sided selection sampling data\n",
    "gridSearchProcessor.fit(X_train_oss, Y_train_oss)\n",
    "\n",
    "# best parameters for One-sided selection Sampling Data\n",
    "oss_best_params = gridSearchProcessor.best_params_\n",
    "\n",
    "# best model for One-sided selection Sampling Data\n",
    "oss_best_model = gridSearchProcessor.best_estimator_\n",
    "\n",
    "# print out best parameters for One-sided selection Sampling Data\n",
    "print(\"Best alpha parameter identified by grid search for One-sided selection Sampling Data \", oss_best_params)\n",
    "oss_best_result = gridSearchProcessor.best_score_\n",
    "print(\"Best result identified by grid search for One-sided selection Sampling Data\", oss_best_result)\n",
    "\n",
    "\n",
    "# see other parameter results\n",
    "gridsearch_results = pd.DataFrame(gridSearchProcessor.cv_results_)\n",
    "gridsearch_results[['rank_test_score', 'mean_test_score',\n",
    "'params']].sort_values(by=['rank_test_score'])[:5]"
   ]
  },
  {
   "cell_type": "code",
   "execution_count": 14,
   "id": "af23524a",
   "metadata": {
    "ExecuteTime": {
     "end_time": "2022-07-27T06:51:38.887564Z",
     "start_time": "2022-07-27T06:51:38.784670Z"
    }
   },
   "outputs": [
    {
     "name": "stdout",
     "output_type": "stream",
     "text": [
      "Accuracy Score for One-sided selection Sampling Data  0.9439197166469894\n",
      "              precision    recall  f1-score   support\n",
      "\n",
      "    Negative       0.80      0.66      0.72       375\n",
      "    Positive       0.96      0.98      0.97      3013\n",
      "\n",
      "    accuracy                           0.94      3388\n",
      "   macro avg       0.88      0.82      0.85      3388\n",
      "weighted avg       0.94      0.94      0.94      3388\n",
      "\n"
     ]
    }
   ],
   "source": [
    "# Model Evaluation\n",
    "Y_pred = oss_best_model.predict(X_test)\n",
    "print('Accuracy Score for One-sided selection Sampling Data ', accuracy_score(Y_test, Y_pred))\n",
    "print(classification_report(Y_test, Y_pred))"
   ]
  },
  {
   "cell_type": "markdown",
   "id": "c429e1f2",
   "metadata": {
    "ExecuteTime": {
     "end_time": "2022-07-27T06:28:38.794532Z",
     "start_time": "2022-07-27T06:28:38.790781Z"
    }
   },
   "source": [
    "# XGBoost Model"
   ]
  },
  {
   "cell_type": "code",
   "execution_count": 15,
   "id": "72f3cea5",
   "metadata": {
    "ExecuteTime": {
     "end_time": "2022-07-27T06:51:38.898054Z",
     "start_time": "2022-07-27T06:51:38.891183Z"
    }
   },
   "outputs": [],
   "source": [
    "le = LabelEncoder()\n",
    "Y_train_oss = le.fit_transform(Y_train_oss)\n",
    "Y_test_oss = le.transform(Y_test)"
   ]
  },
  {
   "cell_type": "code",
   "execution_count": 16,
   "id": "04ece7e1",
   "metadata": {
    "ExecuteTime": {
     "end_time": "2022-07-27T06:51:38.911303Z",
     "start_time": "2022-07-27T06:51:38.902052Z"
    }
   },
   "outputs": [],
   "source": [
    "space={'max_depth': hp.quniform(\"max_depth\", 3, 18, 1),\n",
    "        'gamma': hp.uniform ('gamma', 1,9),\n",
    "        'reg_alpha' : hp.quniform('reg_alpha', 40,180,1),\n",
    "        'reg_lambda' : hp.uniform('reg_lambda', 0,1),\n",
    "        'colsample_bytree' : hp.uniform('colsample_bytree', 0.5,1),\n",
    "        'min_child_weight' : hp.quniform('min_child_weight', 0, 10, 1),\n",
    "        'n_estimators': 180,\n",
    "        'seed': 0\n",
    "    }"
   ]
  },
  {
   "cell_type": "code",
   "execution_count": 17,
   "id": "f251a61b",
   "metadata": {
    "ExecuteTime": {
     "end_time": "2022-07-27T06:51:38.927432Z",
     "start_time": "2022-07-27T06:51:38.914123Z"
    }
   },
   "outputs": [],
   "source": [
    "\n",
    "\n",
    "def objective(space, X_train = X_train_oss, Y_train = Y_train_oss, Y_test= Y_test_oss):\n",
    "    clf=XGBClassifier(\n",
    "                    n_estimators =space['n_estimators'], max_depth = int(space['max_depth']), gamma = space['gamma'],\n",
    "                    reg_alpha = int(space['reg_alpha']),min_child_weight=int(space['min_child_weight']),\n",
    "                    colsample_bytree=int(space['colsample_bytree']))\n",
    "    \n",
    "    evaluation = [( X_train, Y_train), ( X_test, Y_test)]\n",
    "    \n",
    "    clf.fit(X_train, Y_train,\n",
    "            eval_set=evaluation, eval_metric=\"auc\",\n",
    "            early_stopping_rounds=10,verbose=False)\n",
    "    \n",
    "\n",
    "    pred = clf.predict(X_test)\n",
    "    accuracy = accuracy_score(Y_test, pred>0.5)\n",
    "    print (\"SCORE:\", accuracy)\n",
    "    return {'loss': -accuracy, 'status': STATUS_OK }\n",
    "\n"
   ]
  },
  {
   "cell_type": "code",
   "execution_count": 18,
   "id": "06f0d197",
   "metadata": {
    "ExecuteTime": {
     "end_time": "2022-07-27T06:51:46.101585Z",
     "start_time": "2022-07-27T06:51:38.929558Z"
    }
   },
   "outputs": [
    {
     "name": "stdout",
     "output_type": "stream",
     "text": [
      "SCORE:                                                                                                                  \n",
      "0.8893152302243211                                                                                                      \n",
      "SCORE:                                                                                                                  \n",
      "0.8893152302243211                                                                                                      \n",
      "SCORE:                                                                                                                  \n",
      "0.8893152302243211                                                                                                      \n",
      "SCORE:                                                                                                                  \n",
      "0.8893152302243211                                                                                                      \n",
      "SCORE:                                                                                                                  \n",
      "0.8893152302243211                                                                                                      \n",
      "SCORE:                                                                                                                  \n",
      "0.8893152302243211                                                                                                      \n",
      "SCORE:                                                                                                                  \n",
      "0.8893152302243211                                                                                                      \n",
      "SCORE:                                                                                                                  \n",
      "0.8893152302243211                                                                                                      \n",
      "SCORE:                                                                                                                  \n",
      "0.8893152302243211                                                                                                      \n",
      "SCORE:                                                                                                                  \n",
      "0.8893152302243211                                                                                                      \n",
      "SCORE:                                                                                                                  \n",
      "0.8893152302243211                                                                                                      \n",
      "SCORE:                                                                                                                  \n",
      "0.8893152302243211                                                                                                      \n",
      "SCORE:                                                                                                                  \n",
      "0.8893152302243211                                                                                                      \n",
      "SCORE:                                                                                                                  \n",
      "0.8893152302243211                                                                                                      \n",
      "SCORE:                                                                                                                  \n",
      "0.8893152302243211                                                                                                      \n",
      "SCORE:                                                                                                                  \n",
      "0.8893152302243211                                                                                                      \n",
      "SCORE:                                                                                                                  \n",
      "0.8893152302243211                                                                                                      \n",
      "SCORE:                                                                                                                  \n",
      "0.8893152302243211                                                                                                      \n",
      "SCORE:                                                                                                                  \n",
      "0.8893152302243211                                                                                                      \n",
      "SCORE:                                                                                                                  \n",
      "0.8893152302243211                                                                                                      \n",
      "SCORE:                                                                                                                  \n",
      "0.8893152302243211                                                                                                      \n",
      "SCORE:                                                                                                                  \n",
      "0.8893152302243211                                                                                                      \n",
      "SCORE:                                                                                                                  \n",
      "0.8893152302243211                                                                                                      \n",
      "SCORE:                                                                                                                  \n",
      "0.8893152302243211                                                                                                      \n",
      "SCORE:                                                                                                                  \n",
      "0.8893152302243211                                                                                                      \n",
      "SCORE:                                                                                                                  \n",
      "0.8893152302243211                                                                                                      \n",
      "SCORE:                                                                                                                  \n",
      "0.8893152302243211                                                                                                      \n",
      "SCORE:                                                                                                                  \n",
      "0.8893152302243211                                                                                                      \n",
      "SCORE:                                                                                                                  \n",
      "0.8893152302243211                                                                                                      \n",
      "SCORE:                                                                                                                  \n",
      "0.8893152302243211                                                                                                      \n",
      "SCORE:                                                                                                                  \n",
      "0.8893152302243211                                                                                                      \n",
      "SCORE:                                                                                                                  \n",
      "0.8893152302243211                                                                                                      \n",
      "SCORE:                                                                                                                  \n",
      "0.8893152302243211                                                                                                      \n",
      "SCORE:                                                                                                                  \n"
     ]
    },
    {
     "name": "stdout",
     "output_type": "stream",
     "text": [
      "0.8893152302243211                                                                                                      \n",
      "SCORE:                                                                                                                  \n",
      "0.8893152302243211                                                                                                      \n",
      "SCORE:                                                                                                                  \n",
      "0.8893152302243211                                                                                                      \n",
      "SCORE:                                                                                                                  \n",
      "0.8893152302243211                                                                                                      \n",
      "SCORE:                                                                                                                  \n",
      "0.8893152302243211                                                                                                      \n",
      "SCORE:                                                                                                                  \n",
      "0.8893152302243211                                                                                                      \n",
      "SCORE:                                                                                                                  \n",
      "0.8893152302243211                                                                                                      \n",
      "SCORE:                                                                                                                  \n",
      "0.8893152302243211                                                                                                      \n",
      "SCORE:                                                                                                                  \n",
      "0.8893152302243211                                                                                                      \n",
      "SCORE:                                                                                                                  \n",
      "0.8893152302243211                                                                                                      \n",
      "SCORE:                                                                                                                  \n",
      "0.8893152302243211                                                                                                      \n",
      "SCORE:                                                                                                                  \n",
      "0.8893152302243211                                                                                                      \n",
      "SCORE:                                                                                                                  \n",
      "0.8893152302243211                                                                                                      \n",
      "SCORE:                                                                                                                  \n",
      "0.8893152302243211                                                                                                      \n",
      "SCORE:                                                                                                                  \n",
      "0.8893152302243211                                                                                                      \n",
      "SCORE:                                                                                                                  \n",
      "0.8893152302243211                                                                                                      \n",
      "SCORE:                                                                                                                  \n",
      "0.8893152302243211                                                                                                      \n",
      "SCORE:                                                                                                                  \n",
      "0.8893152302243211                                                                                                      \n",
      "SCORE:                                                                                                                  \n",
      "0.8893152302243211                                                                                                      \n",
      "SCORE:                                                                                                                  \n",
      "0.8893152302243211                                                                                                      \n",
      "SCORE:                                                                                                                  \n",
      "0.8893152302243211                                                                                                      \n",
      "SCORE:                                                                                                                  \n",
      "0.8893152302243211                                                                                                      \n",
      "SCORE:                                                                                                                  \n",
      "0.8893152302243211                                                                                                      \n",
      "SCORE:                                                                                                                  \n",
      "0.8893152302243211                                                                                                      \n",
      "SCORE:                                                                                                                  \n",
      "0.8893152302243211                                                                                                      \n",
      "SCORE:                                                                                                                  \n",
      "0.8893152302243211                                                                                                      \n",
      "SCORE:                                                                                                                  \n",
      "0.8893152302243211                                                                                                      \n",
      "SCORE:                                                                                                                  \n",
      "0.8893152302243211                                                                                                      \n",
      "SCORE:                                                                                                                  \n",
      "0.8893152302243211                                                                                                      \n",
      "SCORE:                                                                                                                  \n",
      "0.8893152302243211                                                                                                      \n",
      "SCORE:                                                                                                                  \n",
      "0.8893152302243211                                                                                                      \n",
      "SCORE:                                                                                                                  \n",
      "0.8893152302243211                                                                                                      \n",
      "SCORE:                                                                                                                  \n",
      "0.8893152302243211                                                                                                      \n",
      "SCORE:                                                                                                                  \n",
      "0.8893152302243211                                                                                                      \n"
     ]
    },
    {
     "name": "stdout",
     "output_type": "stream",
     "text": [
      "SCORE:                                                                                                                  \n",
      "0.8893152302243211                                                                                                      \n",
      "SCORE:                                                                                                                  \n",
      "0.8893152302243211                                                                                                      \n",
      "SCORE:                                                                                                                  \n",
      "0.8893152302243211                                                                                                      \n",
      "SCORE:                                                                                                                  \n",
      "0.8893152302243211                                                                                                      \n",
      "SCORE:                                                                                                                  \n",
      "0.8893152302243211                                                                                                      \n",
      "SCORE:                                                                                                                  \n",
      "0.8893152302243211                                                                                                      \n",
      "SCORE:                                                                                                                  \n",
      "0.8893152302243211                                                                                                      \n",
      "SCORE:                                                                                                                  \n",
      "0.8893152302243211                                                                                                      \n",
      "SCORE:                                                                                                                  \n",
      "0.8893152302243211                                                                                                      \n",
      "SCORE:                                                                                                                  \n",
      "0.8893152302243211                                                                                                      \n",
      "SCORE:                                                                                                                  \n",
      "0.8893152302243211                                                                                                      \n",
      "SCORE:                                                                                                                  \n",
      "0.8893152302243211                                                                                                      \n",
      "SCORE:                                                                                                                  \n",
      "0.8893152302243211                                                                                                      \n",
      "SCORE:                                                                                                                  \n",
      "0.8893152302243211                                                                                                      \n",
      "SCORE:                                                                                                                  \n",
      "0.8893152302243211                                                                                                      \n",
      "SCORE:                                                                                                                  \n",
      "0.8893152302243211                                                                                                      \n",
      "SCORE:                                                                                                                  \n",
      "0.8893152302243211                                                                                                      \n",
      "SCORE:                                                                                                                  \n",
      "0.8893152302243211                                                                                                      \n",
      "SCORE:                                                                                                                  \n",
      "0.8893152302243211                                                                                                      \n",
      "SCORE:                                                                                                                  \n",
      "0.8893152302243211                                                                                                      \n",
      "SCORE:                                                                                                                  \n",
      "0.8893152302243211                                                                                                      \n",
      "SCORE:                                                                                                                  \n",
      "0.8893152302243211                                                                                                      \n",
      "SCORE:                                                                                                                  \n",
      "0.8893152302243211                                                                                                      \n",
      "SCORE:                                                                                                                  \n",
      "0.8893152302243211                                                                                                      \n",
      "SCORE:                                                                                                                  \n",
      "0.8893152302243211                                                                                                      \n",
      "SCORE:                                                                                                                  \n",
      "0.8893152302243211                                                                                                      \n",
      "SCORE:                                                                                                                  \n",
      "0.8893152302243211                                                                                                      \n",
      "SCORE:                                                                                                                  \n",
      "0.8893152302243211                                                                                                      \n",
      "SCORE:                                                                                                                  \n",
      "0.8893152302243211                                                                                                      \n",
      "SCORE:                                                                                                                  \n",
      "0.8893152302243211                                                                                                      \n",
      "SCORE:                                                                                                                  \n",
      "0.8893152302243211                                                                                                      \n",
      "SCORE:                                                                                                                  \n",
      "0.8893152302243211                                                                                                      \n",
      "SCORE:                                                                                                                  \n",
      "0.8893152302243211                                                                                                      \n",
      "100%|██████████████████████████████████████████████| 100/100 [00:07<00:00, 13.98trial/s, best loss: -0.8893152302243211]\n"
     ]
    }
   ],
   "source": [
    "trials = Trials()\n",
    "\n",
    "best_hyperparams = fmin(fn = objective,\n",
    "                        space = space,\n",
    "                        algo = tpe.suggest,\n",
    "                        max_evals = 100,\n",
    "                        trials = trials)"
   ]
  },
  {
   "cell_type": "code",
   "execution_count": 19,
   "id": "d3a0ec98",
   "metadata": {
    "ExecuteTime": {
     "end_time": "2022-07-27T06:51:46.109116Z",
     "start_time": "2022-07-27T06:51:46.103152Z"
    }
   },
   "outputs": [
    {
     "data": {
      "text/plain": [
       "{'colsample_bytree': 0.6032739335582951,\n",
       " 'gamma': 4.651952284119747,\n",
       " 'max_depth': 16.0,\n",
       " 'min_child_weight': 2.0,\n",
       " 'reg_alpha': 150.0,\n",
       " 'reg_lambda': 0.5791175610186193}"
      ]
     },
     "execution_count": 19,
     "metadata": {},
     "output_type": "execute_result"
    }
   ],
   "source": [
    "best_hyperparams"
   ]
  },
  {
   "cell_type": "code",
   "execution_count": 20,
   "id": "5dc7ca01",
   "metadata": {
    "ExecuteTime": {
     "end_time": "2022-07-27T06:51:47.675041Z",
     "start_time": "2022-07-27T06:51:46.115274Z"
    }
   },
   "outputs": [
    {
     "name": "stdout",
     "output_type": "stream",
     "text": [
      "Accuracy Score for One-sided selection Sampling Data  0.9028925619834711\n",
      "              precision    recall  f1-score   support\n",
      "\n",
      "           0       0.84      0.15      0.26       375\n",
      "           1       0.90      1.00      0.95      3013\n",
      "\n",
      "    accuracy                           0.90      3388\n",
      "   macro avg       0.87      0.57      0.60      3388\n",
      "weighted avg       0.90      0.90      0.87      3388\n",
      "\n"
     ]
    }
   ],
   "source": [
    "clf=XGBClassifier(colsample_bytree= 0.7035349155522628,\n",
    "                     gamma= 8.074420556741606,\n",
    " max_depth= 8,\n",
    " min_child_weight= 3.0,\n",
    " reg_alpha= 110.0,\n",
    " reg_lambda= 0.3053922914267756)\n",
    "\n",
    "clf.fit(X_train_oss, Y_train_oss)\n",
    "\n",
    "# Model Evaluation\n",
    "Y_pred = clf.predict(X_test)\n",
    "print('Accuracy Score for One-sided selection Sampling Data ', accuracy_score(Y_test_oss, Y_pred))\n",
    "print(classification_report(Y_test_oss, Y_pred))"
   ]
  },
  {
   "cell_type": "code",
   "execution_count": null,
   "id": "166e5aa3",
   "metadata": {},
   "outputs": [],
   "source": []
  }
 ],
 "metadata": {
  "kernelspec": {
   "display_name": "Python [conda env:ads599] *",
   "language": "python",
   "name": "conda-env-ads599-py"
  },
  "language_info": {
   "codemirror_mode": {
    "name": "ipython",
    "version": 3
   },
   "file_extension": ".py",
   "mimetype": "text/x-python",
   "name": "python",
   "nbconvert_exporter": "python",
   "pygments_lexer": "ipython3",
   "version": "3.8.13"
  },
  "toc": {
   "base_numbering": 1,
   "nav_menu": {},
   "number_sections": true,
   "sideBar": true,
   "skip_h1_title": false,
   "title_cell": "Table of Contents",
   "title_sidebar": "Contents",
   "toc_cell": false,
   "toc_position": {},
   "toc_section_display": true,
   "toc_window_display": false
  }
 },
 "nbformat": 4,
 "nbformat_minor": 5
}
