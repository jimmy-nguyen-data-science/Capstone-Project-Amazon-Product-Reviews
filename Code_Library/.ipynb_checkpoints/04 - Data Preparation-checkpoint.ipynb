{
 "cells": [
  {
   "cell_type": "markdown",
   "id": "451864a1",
   "metadata": {
    "toc": true
   },
   "source": [
    "<h1>Table of Contents<span class=\"tocSkip\"></span></h1>\n",
    "<div class=\"toc\"><ul class=\"toc-item\"><li><span><a href=\"#Packages\" data-toc-modified-id=\"Packages-1\"><span class=\"toc-item-num\">1&nbsp;&nbsp;</span>Packages</a></span></li><li><span><a href=\"#Removing-Unecessary-Columns\" data-toc-modified-id=\"Removing-Unecessary-Columns-2\"><span class=\"toc-item-num\">2&nbsp;&nbsp;</span>Removing Unecessary Columns</a></span></li><li><span><a href=\"#Cleaning-Reviews\" data-toc-modified-id=\"Cleaning-Reviews-3\"><span class=\"toc-item-num\">3&nbsp;&nbsp;</span>Cleaning Reviews</a></span></li><li><span><a href=\"#Split-the-data-set-for-training,-validation-and-test\" data-toc-modified-id=\"Split-the-data-set-for-training,-validation-and-test-4\"><span class=\"toc-item-num\">4&nbsp;&nbsp;</span>Split the data set for training, validation and test</a></span><ul class=\"toc-item\"><li><span><a href=\"#Checking-for-Class-Imbalance\" data-toc-modified-id=\"Checking-for-Class-Imbalance-4.1\"><span class=\"toc-item-num\">4.1&nbsp;&nbsp;</span>Checking for Class Imbalance</a></span></li><li><span><a href=\"#Convert-Review-Stars-into-Positive,-Neutral,-and-Negative-classes\" data-toc-modified-id=\"Convert-Review-Stars-into-Positive,-Neutral,-and-Negative-classes-4.2\"><span class=\"toc-item-num\">4.2&nbsp;&nbsp;</span>Convert Review Stars into Positive, Neutral, and Negative classes</a></span></li><li><span><a href=\"#Checking-for-class-imbalance-after-new-target-classes\" data-toc-modified-id=\"Checking-for-class-imbalance-after-new-target-classes-4.3\"><span class=\"toc-item-num\">4.3&nbsp;&nbsp;</span>Checking for class imbalance after new target classes</a></span></li><li><span><a href=\"#Downsampling/Upsampling-the-Majority/Minority-class\" data-toc-modified-id=\"Downsampling/Upsampling-the-Majority/Minority-class-4.4\"><span class=\"toc-item-num\">4.4&nbsp;&nbsp;</span>Downsampling/Upsampling the Majority/Minority class</a></span></li></ul></li></ul></div>"
   ]
  },
  {
   "cell_type": "markdown",
   "id": "a776c057",
   "metadata": {},
   "source": [
    "# Packages "
   ]
  },
  {
   "cell_type": "code",
   "execution_count": null,
   "id": "33928d6f",
   "metadata": {
    "ExecuteTime": {
     "start_time": "2022-07-23T01:03:13.275Z"
    }
   },
   "outputs": [
    {
     "data": {
      "text/html": [
       "        <script type=\"text/javascript\">\n",
       "        window.PlotlyConfig = {MathJaxConfig: 'local'};\n",
       "        if (window.MathJax && window.MathJax.Hub && window.MathJax.Hub.Config) {window.MathJax.Hub.Config({SVG: {font: \"STIX-Web\"}});}\n",
       "        if (typeof require !== 'undefined') {\n",
       "        require.undef(\"plotly\");\n",
       "        requirejs.config({\n",
       "            paths: {\n",
       "                'plotly': ['https://cdn.plot.ly/plotly-2.12.1.min']\n",
       "            }\n",
       "        });\n",
       "        require(['plotly'], function(Plotly) {\n",
       "            window._Plotly = Plotly;\n",
       "        });\n",
       "        }\n",
       "        </script>\n",
       "        "
      ]
     },
     "metadata": {},
     "output_type": "display_data"
    }
   ],
   "source": [
    "import pandas as pd # pandas package\n",
    "pd.options.display.max_columns = 40\n",
    "\n",
    "import numpy as np # numpy package\n",
    "\n",
    "# matplotlib packages\n",
    "import matplotlib\n",
    "import matplotlib.pyplot as plt \n",
    "%matplotlib inline\n",
    "matplotlib.rcParams['figure.figsize'] = (10.0, 6.0)\n",
    "\n",
    "import seaborn as sns # seaborn package\n",
    "# dictionary package\n",
    "from collections import Counter, defaultdict\n",
    "\n",
    "import warnings  # warnings package\n",
    "warnings.filterwarnings('ignore')\n",
    "\n",
    "# plotly packages\n",
    "from chart_studio import plotly\n",
    "import plotly.express as px\n",
    "import plotly.graph_objs as go\n",
    "import plotly.figure_factory as ff\n",
    "from plotly.offline import iplot\n",
    "\n",
    "# cufflink packages\n",
    "import cufflinks\n",
    "cufflinks.go_offline()\n",
    "cufflinks.set_config_file(world_readable=True, theme='pearl')\n",
    "\n",
    "# interactive shell\n",
    "from IPython.core.interactiveshell import InteractiveShell\n",
    "InteractiveShell.ast_node_interactivity = 'last_expr'\n",
    "\n",
    "from pathlib import Path # path package\n",
    "import re #regex package\n",
    "from textblob import TextBlob #import textblob package\n",
    "\n",
    "# word cloud\n",
    "from wordcloud import WordCloud, STOPWORDS, ImageColorGenerator\n",
    "\n",
    "# nltk packages\n",
    "import nltk\n",
    "\n",
    "#nltk.download('stopwords')\n",
    "# stop words\n",
    "from nltk.corpus import stopwords\n",
    "sw = set(stopwords.words(\"english\"))\n",
    "\n",
    "# punctuation\n",
    "from string import punctuation\n",
    "\n",
    "# detokenizer \n",
    "from nltk.tokenize.treebank import TreebankWordDetokenizer"
   ]
  },
  {
   "cell_type": "code",
   "execution_count": null,
   "id": "a2bc2a63",
   "metadata": {
    "ExecuteTime": {
     "start_time": "2022-07-23T01:03:13.278Z"
    }
   },
   "outputs": [],
   "source": [
    "# load the merged data set into pandas\n",
    "df = pd.read_csv(Path(r\"../Data/EDA Data/eda_data.csv\"))\n",
    "\n",
    "# sample only 5 rows\n",
    "df.sample(5)"
   ]
  },
  {
   "cell_type": "markdown",
   "id": "232f8374",
   "metadata": {},
   "source": [
    "# Removing Unecessary Columns "
   ]
  },
  {
   "cell_type": "code",
   "execution_count": null,
   "id": "61b73186",
   "metadata": {
    "ExecuteTime": {
     "start_time": "2022-07-23T01:03:13.367Z"
    }
   },
   "outputs": [],
   "source": [
    "# drop these columns\n",
    "drop_columns = ['review_title', 'date', 'author', 'page', 'product',\n",
    " 'polarity', 'review_len', 'word_count', 'clean_reviews', 'bigrams', 'trigrams']\n",
    "\n",
    "# drop\n",
    "df.drop(drop_columns, inplace=True, axis = 1)\n",
    "\n",
    "# see 10 random samples\n",
    "df.sample(10)"
   ]
  },
  {
   "cell_type": "markdown",
   "id": "2b27c03b",
   "metadata": {},
   "source": [
    "# Cleaning Reviews \n",
    "\n",
    "- Remove Punctuation\n",
    "- Remove extra white space\n",
    "- Tokenize on white space pattern\n",
    "- Fold to lowercase\n",
    "- Remove stopwords\n",
    "- Remove numbers\n",
    "- Remove unicode characters"
   ]
  },
  {
   "cell_type": "code",
   "execution_count": null,
   "id": "561f3be0",
   "metadata": {
    "ExecuteTime": {
     "start_time": "2022-07-23T01:03:13.449Z"
    }
   },
   "outputs": [],
   "source": [
    "# punctuation dictionary\n",
    "punctuation = set(punctuation) \n",
    "include_punctuation = {'’', '”', '“'}\n",
    "punctuation |= include_punctuation\n",
    "\n",
    "# stop words and other words to be excluded\n",
    "include_stopwords = {'could', 'shouldn', 'oh', 'know', 'im', 'en',\n",
    "'go', 'get', 'got', 'gonna', 'la', 'na', 'de', 'gon', 'got' 'must', 'would', 'also', \n",
    "                    'apple', 'Apple', 'Amazon', 'amazon', \n",
    "                     'roku', 'Roku', 'roku remote', 'Rokue Remote',\n",
    "                     'Google', 'google', 'chromecast', 'Chromecast', \n",
    "                    'Chrome Cast', 'chrome cast', 'chrome', 'cast'\n",
    "                     'Fire TV Stick', 'prime', 'firestick4ktv',\n",
    "                     'firestick', 'fire tv', 'fire tv stick', 'fire', \n",
    "                     'firesticks','tv', 'remote', '4k', 'stick', 'dont', \"it's\", 'tvs',\n",
    "                    'etc'}\n",
    "\n",
    "# include the dictionary of stop words\n",
    "sw |= include_stopwords\n",
    "\n",
    "# useful white space pattern\n",
    "whitespace_pattern = re.compile(r\"\\s+\")\n",
    "\n",
    "def decontracted(phrase):\n",
    "    \"\"\"\n",
    "    split up decontracted words from a column of texts\n",
    "    \n",
    "    \"\"\"\n",
    "    # add extra white space\n",
    "    phrase = re.sub('(?<=[.,!?()/:;])(?=[^\\s])', r' ',  phrase)\n",
    "   \n",
    "    # specific\n",
    "    phrase = re.sub(r\"she/her\", \"she her\",phrase)\n",
    "    phrase = re.sub(r\"he/him\", \"he him\",phrase)\n",
    "    phrase = re.sub(r\"they/them\", \"they them\",phrase)\n",
    "    phrase = re.sub(r\"won\\’t\", \"will not\", phrase)\n",
    "    phrase = re.sub(r\"won\\'t\", \"will not\", phrase)\n",
    "    phrase = re.sub(r\"can\\’t\", \"can not\", phrase)\n",
    "    phrase = re.sub(r\"can\\'t\", \"can not\", phrase)\n",
    "    phrase = re.sub(r'\\<.*\\>', '', phrase)\n",
    "\n",
    "    # general\n",
    "    phrase = re.sub(r\"n\\’t\", \" not\", phrase)\n",
    "    phrase = re.sub(r\"n\\'t\", \" not\", phrase)\n",
    "    phrase = re.sub(r\"\\’re\", \" are\", phrase)\n",
    "    phrase = re.sub(r\"\\'re\", \" are\", phrase)\n",
    "    phrase = re.sub(r\"\\’s\", \" is\", phrase)\n",
    "    phrase = re.sub(r\"\\'s\", \" is\", phrase)\n",
    "    phrase = re.sub(r\"\\’d\", \" would\", phrase)\n",
    "    phrase = re.sub(r\"\\'d\", \" would\", phrase)\n",
    "    phrase = re.sub(r\"\\’ll\", \" will\", phrase)\n",
    "    phrase = re.sub(r\"\\'ll\", \" will\", phrase)\n",
    "    phrase = re.sub(r\"\\'ll\", \" will\", phrase)\n",
    "    phrase = re.sub(r\"\\’t\", \" not\", phrase)\n",
    "    phrase = re.sub(r\"\\'t\", \" not\", phrase)\n",
    "    phrase = re.sub(r\"\\’ve\", \" have\", phrase)\n",
    "    phrase = re.sub(r\"\\'ve\", \" have\", phrase)\n",
    "    phrase = re.sub(r\"\\’m\", \" am\", phrase)\n",
    "    phrase = re.sub(r\"\\'m\", \" am\", phrase)\n",
    "    phrase = re.sub(r\"don’t\", \"do not\", phrase)\n",
    "    phrase = re.sub(r\"it's\", \"it is\", phrase)\n",
    "    phrase = re.sub(r\"it’s\", \"it is\", phrase)\n",
    "    phrase = re.sub(r\"we've\", \"we have\", phrase)\n",
    "    phrase = re.sub(\"\\w+\\d+\", \"\", phrase)\n",
    "    phrase = re.sub(\"\\d+\\w+\", \"\", phrase)\n",
    "    phrase = re.sub(\"\\d+\", \" \", phrase)\n",
    "\n",
    "    return phrase\n",
    "\n",
    "def remove_stop(tokens) :\n",
    "    \"\"\"\n",
    "    remove stop words from a column of texts\n",
    "    \"\"\"\n",
    "    \n",
    "    not_stop_words = [word for word in tokens if word not in sw]\n",
    "    return not_stop_words\n",
    " \n",
    "def remove_punctuation(text) : \n",
    "    \"\"\"\n",
    "    remove punctuation from a column of texts\n",
    "    \"\"\"\n",
    "    return(\"\".join([ch for ch in text if ch not in punctuation]))\n",
    "\n",
    "def tokenize(text) : \n",
    "    \"\"\" Splitting on whitespace\"\"\"\n",
    "    \n",
    "    # modify this function to return tokens\n",
    "    tokens = re.split(whitespace_pattern, text)\n",
    "    return(tokens)\n",
    "\n",
    "\n",
    "def remove_whitespace_token(tokens):\n",
    "    \"\"\" Remove whitespace tokens\"\"\"\n",
    "    \n",
    "    # loop through each token to find whitespace token and remove\n",
    "    for i in tokens:\n",
    "        if '' in tokens:\n",
    "            tokens.remove('')\n",
    "    return tokens\n",
    "\n",
    "def prepare(text, pipeline) :\n",
    "    \"\"\"\n",
    "    prepare function applies each cleaning transformation\n",
    "    function onto a column of text\n",
    "    \"\"\"\n",
    "    tokens = str(text)\n",
    "    \n",
    "    for transform in pipeline : \n",
    "        tokens = transform(tokens)\n",
    "        \n",
    "    return(tokens)\n",
    "\n",
    "\n",
    "# list of cleaning functions\n",
    "my_pipeline = [str.lower, decontracted, remove_punctuation, tokenize, remove_whitespace_token, remove_stop]\n",
    "\n"
   ]
  },
  {
   "cell_type": "code",
   "execution_count": null,
   "id": "09a0bf9b",
   "metadata": {
    "ExecuteTime": {
     "start_time": "2022-07-23T01:03:13.452Z"
    }
   },
   "outputs": [],
   "source": [
    "# for cleaning and tokenizng reviews\n",
    "df['clean_reviews'] = df['review_text'].apply(prepare,pipeline=my_pipeline)\n",
    "\n",
    "# remove any unicode characters\n",
    "df['clean_reviews'].replace({r'[^\\x00-\\x7F]+':''}, regex=True, inplace=True)\n",
    "\n",
    "# drop original reviews column\n",
    "df.drop(columns = ['review_text'], axis = 1, inplace = True)\n",
    "\n",
    "# drop rows with no tokens\n",
    "df = df[df['clean_reviews'].str.len() != 0]\n",
    "\n",
    "# untokenize plot descriptions\n",
    "df['clean_reviews'] = df['clean_reviews'].apply(lambda x: TreebankWordDetokenizer().detokenize(x))\n",
    "\n",
    "# 10 random rows\n",
    "df.sample(10)"
   ]
  },
  {
   "cell_type": "markdown",
   "id": "95925eba",
   "metadata": {},
   "source": [
    "# Split the data set for training, validation and test \n",
    "\n",
    "\n",
    "- Checking for Class Imbalance\n",
    "- Convert Review Stars into Positive, Neutral, and Negative classes\n",
    "- Checking for class imbalance after new target classes\n",
    "- Downsampling/Upsampling the Majority/Minority class\n",
    "- Split Data on balanced data set\n"
   ]
  },
  {
   "cell_type": "markdown",
   "id": "37b6d194",
   "metadata": {},
   "source": [
    "## Checking for Class Imbalance"
   ]
  },
  {
   "cell_type": "code",
   "execution_count": null,
   "id": "bb42d6d6",
   "metadata": {
    "ExecuteTime": {
     "start_time": "2022-07-23T01:03:13.605Z"
    }
   },
   "outputs": [],
   "source": [
    "# create a data frame to count the number of customer reviews by products and also rename a column as count\n",
    "rating_counts = pd.DataFrame(df[['review_star']].value_counts()).reset_index().rename( \\\n",
    "    columns={'review_star': 'Ratings', 0:'count'})\n",
    "\n",
    "# add a sort index\n",
    "rating_counts['Ratings_for_sorting'] = rating_counts['Ratings']\n",
    "\n",
    "# convert ratings to str type for visualization\n",
    "rating_counts['Ratings'] = rating_counts['Ratings'].astype(str)\n",
    "\n",
    "# Sort order by custom column and display \n",
    "rating_counts.sort_values(by=['Ratings_for_sorting'], inplace = True)\n",
    "\n",
    "# use plotly to create a bar graph of number of reviews by brand and using customized color coding \n",
    "fig = px.bar(rating_counts, x=\"Ratings\", y=\"count\", color=\"Ratings\", \n",
    "             title= \"Customer Ratings - Checking for Class Imbalance\", text_auto = '.2s', \n",
    "             color_discrete_map={'1.0':'red', '2.0':'orange', '3.0': 'yellow',\n",
    "                                 '4.0':'rgb(179,226,205)', '5.0':'rgb(27,158,119)'})\n",
    "\n",
    "# figure customization\n",
    "fig.update_traces(textfont_size=12, textangle=0, textposition=\"outside\", cliponaxis=False,\n",
    " marker_line_width=1.5, opacity = 0.75)\n"
   ]
  },
  {
   "cell_type": "markdown",
   "id": "96c2f84a",
   "metadata": {},
   "source": [
    "## Convert Review Stars into Positive, Neutral, and Negative classes"
   ]
  },
  {
   "cell_type": "code",
   "execution_count": null,
   "id": "96df6a90",
   "metadata": {
    "ExecuteTime": {
     "start_time": "2022-07-23T01:03:13.685Z"
    }
   },
   "outputs": [],
   "source": [
    "def convert_ratings(x):\n",
    "    \"\"\"\n",
    "    This function takes in a value from `review_star` and convert it into a new class\n",
    "    as either Negative, Neutral, or Positive for the target variable\n",
    "    \n",
    "    \"\"\"\n",
    "    if x <= 2.0:\n",
    "        return 'Negative'\n",
    "    if x <= 4.0:\n",
    "        return 'Neutral'\n",
    "    return 'Positive'\n",
    "\n",
    "# apply the convert rating function\n",
    "df['new_rating'] = df['review_star'].apply(lambda x: convert_ratings(x))\n",
    "df['new_rating'] = pd.Categorical(df['new_rating'], [\"Negative\", \"Neutral\", \"Positive\"])\n",
    "\n",
    "# random 10 rows preview\n",
    "df.sample(10)"
   ]
  },
  {
   "cell_type": "markdown",
   "id": "33a3204c",
   "metadata": {},
   "source": [
    "## Checking for class imbalance after new target classes"
   ]
  },
  {
   "cell_type": "code",
   "execution_count": null,
   "id": "881720ba",
   "metadata": {
    "ExecuteTime": {
     "start_time": "2022-07-23T01:03:13.758Z"
    }
   },
   "outputs": [],
   "source": [
    "# create a data frame to count the number of customer reviews by products and also rename a column as count\n",
    "rating_counts = pd.DataFrame(df[['new_rating']].value_counts()).reset_index().rename( \\\n",
    "    columns={'new_rating': 'Ratings', 0:'count'})\n",
    "\n",
    "# add a sort index\n",
    "rating_counts['Ratings_for_sorting'] = rating_counts['Ratings']\n",
    "\n",
    "# convert ratings to str type for visualization\n",
    "rating_counts['Ratings'] = rating_counts['Ratings'].astype(str)\n",
    "\n",
    "\n",
    "# Sort order by custom column\n",
    "rating_counts.sort_values(by=['Ratings_for_sorting'], inplace = True)\n",
    "\n",
    "# use plotly to create a bar graph of number of reviews by brand and using customized color coding \n",
    "fig = px.bar(rating_counts, x=\"Ratings\", y=\"count\", color=\"Ratings\", \n",
    "             title= \"Customer Ratings - Checking for Class Imbalance\", text_auto = '.2s', \n",
    "             color_discrete_map={'Negative':'red', 'Neutral':'yellow', 'Positive':'rgb(27,158,119)'})\n",
    "\n",
    "# figure customization\n",
    "fig.update_traces(textfont_size=12, textangle=0, textposition=\"outside\", cliponaxis=False,\n",
    " marker_line_width=1.5, opacity = 0.75)\n"
   ]
  },
  {
   "cell_type": "markdown",
   "id": "725d782b",
   "metadata": {},
   "source": [
    "## Downsampling/Upsampling the Majority/Minority class"
   ]
  },
  {
   "cell_type": "code",
   "execution_count": null,
   "id": "ff1cf152",
   "metadata": {},
   "outputs": [],
   "source": []
  }
 ],
 "metadata": {
  "kernelspec": {
   "display_name": "Python [conda env:ads599] *",
   "language": "python",
   "name": "conda-env-ads599-py"
  },
  "language_info": {
   "codemirror_mode": {
    "name": "ipython",
    "version": 3
   },
   "file_extension": ".py",
   "mimetype": "text/x-python",
   "name": "python",
   "nbconvert_exporter": "python",
   "pygments_lexer": "ipython3",
   "version": "3.8.13"
  },
  "toc": {
   "base_numbering": 1,
   "nav_menu": {},
   "number_sections": true,
   "sideBar": true,
   "skip_h1_title": false,
   "title_cell": "Table of Contents",
   "title_sidebar": "Contents",
   "toc_cell": true,
   "toc_position": {
    "height": "calc(100% - 180px)",
    "left": "10px",
    "top": "150px",
    "width": "165px"
   },
   "toc_section_display": true,
   "toc_window_display": false
  }
 },
 "nbformat": 4,
 "nbformat_minor": 5
}
