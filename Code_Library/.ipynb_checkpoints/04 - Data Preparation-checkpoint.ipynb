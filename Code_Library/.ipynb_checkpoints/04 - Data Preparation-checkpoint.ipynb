{
 "cells": [
  {
   "cell_type": "markdown",
   "id": "451864a1",
   "metadata": {
    "toc": true
   },
   "source": [
    "<h1>Table of Contents<span class=\"tocSkip\"></span></h1>\n",
    "<div class=\"toc\"><ul class=\"toc-item\"><li><span><a href=\"#Packages\" data-toc-modified-id=\"Packages-1\"><span class=\"toc-item-num\">1&nbsp;&nbsp;</span>Packages</a></span></li><li><span><a href=\"#Removing-Unecessary-Columns\" data-toc-modified-id=\"Removing-Unecessary-Columns-2\"><span class=\"toc-item-num\">2&nbsp;&nbsp;</span>Removing Unecessary Columns</a></span></li><li><span><a href=\"#Cleaning-Reviews\" data-toc-modified-id=\"Cleaning-Reviews-3\"><span class=\"toc-item-num\">3&nbsp;&nbsp;</span>Cleaning Reviews</a></span></li><li><span><a href=\"#Split-the-data-set-for-training-and-testing\" data-toc-modified-id=\"Split-the-data-set-for-training-and-testing-4\"><span class=\"toc-item-num\">4&nbsp;&nbsp;</span>Split the data set for training and testing</a></span><ul class=\"toc-item\"><li><span><a href=\"#Checking-for-Class-Imbalance\" data-toc-modified-id=\"Checking-for-Class-Imbalance-4.1\"><span class=\"toc-item-num\">4.1&nbsp;&nbsp;</span>Checking for Class Imbalance</a></span></li><li><span><a href=\"#Train-Test-Split\" data-toc-modified-id=\"Train-Test-Split-4.2\"><span class=\"toc-item-num\">4.2&nbsp;&nbsp;</span>Train-Test-Split</a></span></li><li><span><a href=\"#Use-TF-IDF-and-Ordinal-Encoder-for-data-pre-processing\" data-toc-modified-id=\"Use-TF-IDF-and-Ordinal-Encoder-for-data-pre-processing-4.3\"><span class=\"toc-item-num\">4.3&nbsp;&nbsp;</span>Use TF-IDF and Ordinal Encoder for data pre-processing</a></span></li><li><span><a href=\"#Over-sampling-the-Minority-class-using-SMOTE-with-Edited-Nearest-Neighbor-(ENN)\" data-toc-modified-id=\"Over-sampling-the-Minority-class-using-SMOTE-with-Edited-Nearest-Neighbor-(ENN)-4.4\"><span class=\"toc-item-num\">4.4&nbsp;&nbsp;</span>Over-sampling the Minority class using SMOTE with Edited Nearest Neighbor (ENN)</a></span></li><li><span><a href=\"#Checking-for-Class-Imbalance-after-SMOTE-with-ENN\" data-toc-modified-id=\"Checking-for-Class-Imbalance-after-SMOTE-with-ENN-4.5\"><span class=\"toc-item-num\">4.5&nbsp;&nbsp;</span>Checking for Class Imbalance after SMOTE with ENN</a></span></li><li><span><a href=\"#Near-Missing-Undersampling-(Version-3)\" data-toc-modified-id=\"Near-Missing-Undersampling-(Version-3)-4.6\"><span class=\"toc-item-num\">4.6&nbsp;&nbsp;</span>Near-Missing Undersampling (Version 3)</a></span></li><li><span><a href=\"#Checking-for-Class-Imbalance-after-Near-miss-Undersampling\" data-toc-modified-id=\"Checking-for-Class-Imbalance-after-Near-miss-Undersampling-4.7\"><span class=\"toc-item-num\">4.7&nbsp;&nbsp;</span>Checking for Class Imbalance after Near-miss Undersampling</a></span></li><li><span><a href=\"#One-Sided-Selection-Undersampling\" data-toc-modified-id=\"One-Sided-Selection-Undersampling-4.8\"><span class=\"toc-item-num\">4.8&nbsp;&nbsp;</span>One-Sided Selection Undersampling</a></span></li><li><span><a href=\"#Checking-for-Class-Imbalance-after-One-Sided-Selection-Undersampling\" data-toc-modified-id=\"Checking-for-Class-Imbalance-after-One-Sided-Selection-Undersampling-4.9\"><span class=\"toc-item-num\">4.9&nbsp;&nbsp;</span>Checking for Class Imbalance after One-Sided Selection Undersampling</a></span></li></ul></li><li><span><a href=\"#Export-all-different-Sampling-Training-and-Test-data\" data-toc-modified-id=\"Export-all-different-Sampling-Training-and-Test-data-5\"><span class=\"toc-item-num\">5&nbsp;&nbsp;</span>Export all different Sampling Training and Test data</a></span></li></ul></div>"
   ]
  },
  {
   "cell_type": "markdown",
   "id": "a776c057",
   "metadata": {},
   "source": [
    "# Packages "
   ]
  },
  {
   "cell_type": "code",
   "execution_count": 1,
   "id": "33928d6f",
   "metadata": {
    "ExecuteTime": {
     "end_time": "2022-07-23T20:12:19.428162Z",
     "start_time": "2022-07-23T20:12:16.974729Z"
    }
   },
   "outputs": [
    {
     "data": {
      "text/html": [
       "        <script type=\"text/javascript\">\n",
       "        window.PlotlyConfig = {MathJaxConfig: 'local'};\n",
       "        if (window.MathJax && window.MathJax.Hub && window.MathJax.Hub.Config) {window.MathJax.Hub.Config({SVG: {font: \"STIX-Web\"}});}\n",
       "        if (typeof require !== 'undefined') {\n",
       "        require.undef(\"plotly\");\n",
       "        requirejs.config({\n",
       "            paths: {\n",
       "                'plotly': ['https://cdn.plot.ly/plotly-2.12.1.min']\n",
       "            }\n",
       "        });\n",
       "        require(['plotly'], function(Plotly) {\n",
       "            window._Plotly = Plotly;\n",
       "        });\n",
       "        }\n",
       "        </script>\n",
       "        "
      ]
     },
     "metadata": {},
     "output_type": "display_data"
    }
   ],
   "source": [
    "import pandas as pd # pandas package\n",
    "pd.options.display.max_columns = 40\n",
    "\n",
    "import numpy as np # numpy package\n",
    "\n",
    "# matplotlib packages\n",
    "import matplotlib\n",
    "import matplotlib.pyplot as plt \n",
    "%matplotlib inline\n",
    "matplotlib.rcParams['figure.figsize'] = (10.0, 6.0)\n",
    "\n",
    "import seaborn as sns # seaborn package\n",
    "# dictionary package\n",
    "from collections import Counter, defaultdict\n",
    "\n",
    "import warnings  # warnings package\n",
    "warnings.filterwarnings('ignore')\n",
    "\n",
    "# plotly packages\n",
    "from chart_studio import plotly\n",
    "import plotly.express as px\n",
    "import plotly.graph_objs as go\n",
    "import plotly.figure_factory as ff\n",
    "from plotly.offline import iplot\n",
    "\n",
    "# cufflink packages\n",
    "import cufflinks\n",
    "cufflinks.go_offline()\n",
    "cufflinks.set_config_file(world_readable=True, theme='pearl')\n",
    "\n",
    "# interactive shell\n",
    "from IPython.core.interactiveshell import InteractiveShell\n",
    "InteractiveShell.ast_node_interactivity = 'last_expr'\n",
    "\n",
    "from pathlib import Path # path package\n",
    "import re #regex package\n",
    "from textblob import TextBlob #import textblob package\n",
    "\n",
    "# word cloud\n",
    "from wordcloud import WordCloud, STOPWORDS, ImageColorGenerator\n",
    "\n",
    "# nltk packages\n",
    "import nltk\n",
    "\n",
    "#nltk.download('stopwords')\n",
    "# stop words\n",
    "from nltk.corpus import stopwords\n",
    "sw = set(stopwords.words(\"english\"))\n",
    "\n",
    "# punctuation\n",
    "from string import punctuation\n",
    "\n",
    "# detokenizer \n",
    "from nltk.tokenize.treebank import TreebankWordDetokenizer\n",
    "\n",
    "# sklearn packages\n",
    "from sklearn.preprocessing import OrdinalEncoder\n",
    "from sklearn.feature_extraction.text import TfidfVectorizer\n",
    "from sklearn.model_selection import train_test_split\n",
    "from sklearn.svm import LinearSVC\n",
    "from sklearn.metrics import accuracy_score\n",
    "from sklearn.metrics import classification_report\n",
    "from sklearn.pipeline import Pipeline\n",
    "\n",
    "#imblean packages for undersampling/oversampling\n",
    "from imblearn.over_sampling import SMOTE\n",
    "from imblearn.combine import SMOTEENN\n",
    "from imblearn.under_sampling import NearMiss \n",
    "from imblearn.under_sampling import OneSidedSelection\n",
    "\n",
    "# pickle package\n",
    "import _pickle as cPickle"
   ]
  },
  {
   "cell_type": "code",
   "execution_count": 2,
   "id": "a2bc2a63",
   "metadata": {
    "ExecuteTime": {
     "end_time": "2022-07-23T20:12:19.807454Z",
     "start_time": "2022-07-23T20:12:19.430669Z"
    }
   },
   "outputs": [
    {
     "data": {
      "text/html": [
       "<div>\n",
       "<style scoped>\n",
       "    .dataframe tbody tr th:only-of-type {\n",
       "        vertical-align: middle;\n",
       "    }\n",
       "\n",
       "    .dataframe tbody tr th {\n",
       "        vertical-align: top;\n",
       "    }\n",
       "\n",
       "    .dataframe thead th {\n",
       "        text-align: right;\n",
       "    }\n",
       "</style>\n",
       "<table border=\"1\" class=\"dataframe\">\n",
       "  <thead>\n",
       "    <tr style=\"text-align: right;\">\n",
       "      <th></th>\n",
       "      <th>review_title</th>\n",
       "      <th>review_text</th>\n",
       "      <th>review_star</th>\n",
       "      <th>date</th>\n",
       "      <th>author</th>\n",
       "      <th>page</th>\n",
       "      <th>product</th>\n",
       "      <th>polarity</th>\n",
       "      <th>review_len</th>\n",
       "      <th>word_count</th>\n",
       "      <th>clean_reviews</th>\n",
       "      <th>bigrams</th>\n",
       "      <th>trigrams</th>\n",
       "    </tr>\n",
       "  </thead>\n",
       "  <tbody>\n",
       "    <tr>\n",
       "      <th>2430</th>\n",
       "      <td>Excellent product very low price will buy agai...</td>\n",
       "      <td>I like the flexibility and the response of thi...</td>\n",
       "      <td>5.0</td>\n",
       "      <td>12-04-2021</td>\n",
       "      <td>Hassan Kalaji</td>\n",
       "      <td>244</td>\n",
       "      <td>Amazon Fire TV Stick</td>\n",
       "      <td>0.200000</td>\n",
       "      <td>176</td>\n",
       "      <td>33</td>\n",
       "      <td>['like', 'flexibility', 'response', 'download'...</td>\n",
       "      <td>['download third', 'third party', 'party apps'...</td>\n",
       "      <td>['download third party', 'third party apps']</td>\n",
       "    </tr>\n",
       "    <tr>\n",
       "      <th>4392</th>\n",
       "      <td>Es muy bueno</td>\n",
       "      <td>Es muy bueno</td>\n",
       "      <td>5.0</td>\n",
       "      <td>06-02-2022</td>\n",
       "      <td>Javier Rojas</td>\n",
       "      <td>442</td>\n",
       "      <td>Amazon Fire TV Stick</td>\n",
       "      <td>0.000000</td>\n",
       "      <td>12</td>\n",
       "      <td>3</td>\n",
       "      <td>['es', 'muy', 'bueno']</td>\n",
       "      <td>['es muy', 'muy bueno']</td>\n",
       "      <td>['es muy bueno']</td>\n",
       "    </tr>\n",
       "    <tr>\n",
       "      <th>16915</th>\n",
       "      <td>Difficult to use, signs you up for AppleTV wit...</td>\n",
       "      <td>The remote that comes with an AppleTV box is h...</td>\n",
       "      <td>1.0</td>\n",
       "      <td>03-28-2022</td>\n",
       "      <td>Rex Abert</td>\n",
       "      <td>196</td>\n",
       "      <td>Apple TV</td>\n",
       "      <td>-0.055556</td>\n",
       "      <td>470</td>\n",
       "      <td>89</td>\n",
       "      <td>['comes', 'appletv', 'box', 'horrible', 'withi...</td>\n",
       "      <td>['appletv box', 'horrible within', 'appletv se...</td>\n",
       "      <td>['appletv second simply', 'second simply plugg...</td>\n",
       "    </tr>\n",
       "    <tr>\n",
       "      <th>12140</th>\n",
       "      <td>TV</td>\n",
       "      <td>liked. Tv</td>\n",
       "      <td>5.0</td>\n",
       "      <td>07-05-2019</td>\n",
       "      <td>Amazon Customer</td>\n",
       "      <td>219</td>\n",
       "      <td>Roku Remote</td>\n",
       "      <td>0.600000</td>\n",
       "      <td>9</td>\n",
       "      <td>2</td>\n",
       "      <td>['liked']</td>\n",
       "      <td>[]</td>\n",
       "      <td>[]</td>\n",
       "    </tr>\n",
       "    <tr>\n",
       "      <th>11423</th>\n",
       "      <td>Perfect.</td>\n",
       "      <td>This is our 4th TV with Roku. Got rid of satel...</td>\n",
       "      <td>5.0</td>\n",
       "      <td>11-25-2017</td>\n",
       "      <td>DaveEconomist1969</td>\n",
       "      <td>147</td>\n",
       "      <td>Roku Remote</td>\n",
       "      <td>1.000000</td>\n",
       "      <td>147</td>\n",
       "      <td>30</td>\n",
       "      <td>['rid', 'satellite', 'solely', 'use', 'directv...</td>\n",
       "      <td>['solely use', 'samsung uhd', 'looks superb']</td>\n",
       "      <td>[]</td>\n",
       "    </tr>\n",
       "  </tbody>\n",
       "</table>\n",
       "</div>"
      ],
      "text/plain": [
       "                                            review_title  \\\n",
       "2430   Excellent product very low price will buy agai...   \n",
       "4392                                        Es muy bueno   \n",
       "16915  Difficult to use, signs you up for AppleTV wit...   \n",
       "12140                                                 TV   \n",
       "11423                                           Perfect.   \n",
       "\n",
       "                                             review_text  review_star  \\\n",
       "2430   I like the flexibility and the response of thi...          5.0   \n",
       "4392                                        Es muy bueno          5.0   \n",
       "16915  The remote that comes with an AppleTV box is h...          1.0   \n",
       "12140                                          liked. Tv          5.0   \n",
       "11423  This is our 4th TV with Roku. Got rid of satel...          5.0   \n",
       "\n",
       "             date             author  page               product  polarity  \\\n",
       "2430   12-04-2021      Hassan Kalaji   244  Amazon Fire TV Stick  0.200000   \n",
       "4392   06-02-2022       Javier Rojas   442  Amazon Fire TV Stick  0.000000   \n",
       "16915  03-28-2022          Rex Abert   196              Apple TV -0.055556   \n",
       "12140  07-05-2019    Amazon Customer   219           Roku Remote  0.600000   \n",
       "11423  11-25-2017  DaveEconomist1969   147           Roku Remote  1.000000   \n",
       "\n",
       "       review_len  word_count  \\\n",
       "2430          176          33   \n",
       "4392           12           3   \n",
       "16915         470          89   \n",
       "12140           9           2   \n",
       "11423         147          30   \n",
       "\n",
       "                                           clean_reviews  \\\n",
       "2430   ['like', 'flexibility', 'response', 'download'...   \n",
       "4392                              ['es', 'muy', 'bueno']   \n",
       "16915  ['comes', 'appletv', 'box', 'horrible', 'withi...   \n",
       "12140                                          ['liked']   \n",
       "11423  ['rid', 'satellite', 'solely', 'use', 'directv...   \n",
       "\n",
       "                                                 bigrams  \\\n",
       "2430   ['download third', 'third party', 'party apps'...   \n",
       "4392                             ['es muy', 'muy bueno']   \n",
       "16915  ['appletv box', 'horrible within', 'appletv se...   \n",
       "12140                                                 []   \n",
       "11423      ['solely use', 'samsung uhd', 'looks superb']   \n",
       "\n",
       "                                                trigrams  \n",
       "2430        ['download third party', 'third party apps']  \n",
       "4392                                    ['es muy bueno']  \n",
       "16915  ['appletv second simply', 'second simply plugg...  \n",
       "12140                                                 []  \n",
       "11423                                                 []  "
      ]
     },
     "execution_count": 2,
     "metadata": {},
     "output_type": "execute_result"
    }
   ],
   "source": [
    "# load the merged data set into pandas\n",
    "df = pd.read_csv(Path(r\"../Data/EDA Data/eda_data.csv\"))\n",
    "\n",
    "# sample only 5 rows\n",
    "df.sample(5)"
   ]
  },
  {
   "cell_type": "markdown",
   "id": "232f8374",
   "metadata": {},
   "source": [
    "# Removing Unecessary Columns "
   ]
  },
  {
   "cell_type": "code",
   "execution_count": 3,
   "id": "61b73186",
   "metadata": {
    "ExecuteTime": {
     "end_time": "2022-07-23T20:12:19.829347Z",
     "start_time": "2022-07-23T20:12:19.809651Z"
    }
   },
   "outputs": [
    {
     "data": {
      "text/html": [
       "<div>\n",
       "<style scoped>\n",
       "    .dataframe tbody tr th:only-of-type {\n",
       "        vertical-align: middle;\n",
       "    }\n",
       "\n",
       "    .dataframe tbody tr th {\n",
       "        vertical-align: top;\n",
       "    }\n",
       "\n",
       "    .dataframe thead th {\n",
       "        text-align: right;\n",
       "    }\n",
       "</style>\n",
       "<table border=\"1\" class=\"dataframe\">\n",
       "  <thead>\n",
       "    <tr style=\"text-align: right;\">\n",
       "      <th></th>\n",
       "      <th>review_text</th>\n",
       "      <th>review_star</th>\n",
       "    </tr>\n",
       "  </thead>\n",
       "  <tbody>\n",
       "    <tr>\n",
       "      <th>844</th>\n",
       "      <td>I brought this one to use in my vehicle, works...</td>\n",
       "      <td>5.0</td>\n",
       "    </tr>\n",
       "    <tr>\n",
       "      <th>6221</th>\n",
       "      <td>Very good product easy to install Works fantastic</td>\n",
       "      <td>5.0</td>\n",
       "    </tr>\n",
       "    <tr>\n",
       "      <th>3135</th>\n",
       "      <td>Works really well with my wireless internet in...</td>\n",
       "      <td>5.0</td>\n",
       "    </tr>\n",
       "    <tr>\n",
       "      <th>7943</th>\n",
       "      <td>We have had so many problems with the Google c...</td>\n",
       "      <td>2.0</td>\n",
       "    </tr>\n",
       "    <tr>\n",
       "      <th>6934</th>\n",
       "      <td>I bought this specifically so I could cast dow...</td>\n",
       "      <td>2.0</td>\n",
       "    </tr>\n",
       "    <tr>\n",
       "      <th>5691</th>\n",
       "      <td>Works just as I had hoped! Now I can watch dis...</td>\n",
       "      <td>5.0</td>\n",
       "    </tr>\n",
       "    <tr>\n",
       "      <th>10907</th>\n",
       "      <td>Streaming Stick easy to install. The Remote co...</td>\n",
       "      <td>5.0</td>\n",
       "    </tr>\n",
       "    <tr>\n",
       "      <th>8579</th>\n",
       "      <td>When mirroring to the tv sound works for 20 se...</td>\n",
       "      <td>2.0</td>\n",
       "    </tr>\n",
       "    <tr>\n",
       "      <th>14657</th>\n",
       "      <td>When I first purchased the Roku Streaming Stic...</td>\n",
       "      <td>2.0</td>\n",
       "    </tr>\n",
       "    <tr>\n",
       "      <th>12288</th>\n",
       "      <td>My first streaming device. Love it!</td>\n",
       "      <td>5.0</td>\n",
       "    </tr>\n",
       "  </tbody>\n",
       "</table>\n",
       "</div>"
      ],
      "text/plain": [
       "                                             review_text  review_star\n",
       "844    I brought this one to use in my vehicle, works...          5.0\n",
       "6221   Very good product easy to install Works fantastic          5.0\n",
       "3135   Works really well with my wireless internet in...          5.0\n",
       "7943   We have had so many problems with the Google c...          2.0\n",
       "6934   I bought this specifically so I could cast dow...          2.0\n",
       "5691   Works just as I had hoped! Now I can watch dis...          5.0\n",
       "10907  Streaming Stick easy to install. The Remote co...          5.0\n",
       "8579   When mirroring to the tv sound works for 20 se...          2.0\n",
       "14657  When I first purchased the Roku Streaming Stic...          2.0\n",
       "12288                My first streaming device. Love it!          5.0"
      ]
     },
     "execution_count": 3,
     "metadata": {},
     "output_type": "execute_result"
    }
   ],
   "source": [
    "# drop these columns\n",
    "drop_columns = ['review_title', 'date', 'author', 'page', 'product',\n",
    " 'polarity', 'review_len', 'word_count', 'clean_reviews', 'bigrams', 'trigrams']\n",
    "\n",
    "# drop\n",
    "df.drop(drop_columns, inplace=True, axis = 1)\n",
    "\n",
    "# see 10 random samples\n",
    "df.sample(10)"
   ]
  },
  {
   "cell_type": "markdown",
   "id": "2b27c03b",
   "metadata": {},
   "source": [
    "# Cleaning Reviews \n",
    "\n",
    "- Remove Punctuation\n",
    "- Remove extra white space\n",
    "- Tokenize on white space pattern\n",
    "- Fold to lowercase\n",
    "- Remove stopwords\n",
    "- Remove numbers\n",
    "- Remove unicode characters"
   ]
  },
  {
   "cell_type": "code",
   "execution_count": 4,
   "id": "561f3be0",
   "metadata": {
    "ExecuteTime": {
     "end_time": "2022-07-23T20:12:19.856107Z",
     "start_time": "2022-07-23T20:12:19.833274Z"
    }
   },
   "outputs": [],
   "source": [
    "# punctuation dictionary\n",
    "punctuation = set(punctuation) \n",
    "include_punctuation = {'’', '”', '“'}\n",
    "punctuation |= include_punctuation\n",
    "\n",
    "# stop words and other words to be excluded\n",
    "include_stopwords = {'could', 'shouldn', 'oh', 'know', 'im', 'en',\n",
    "'go', 'get', 'got', 'gonna', 'la', 'na', 'de', 'gon', 'got' 'must', 'would', 'also', \n",
    "                    'apple', 'Apple', 'Amazon', 'amazon', \n",
    "                     'roku', 'Roku', 'roku remote', 'Rokue Remote',\n",
    "                     'Google', 'google', 'chromecast', 'Chromecast', \n",
    "                    'Chrome Cast', 'chrome cast', 'chrome', 'cast'\n",
    "                     'Fire TV Stick', 'prime', 'firestick4ktv',\n",
    "                     'firestick', 'fire tv', 'fire tv stick', 'fire', \n",
    "                     'firesticks','tv', 'remote', '4k', 'stick', 'dont', \"it's\", 'tvs',\n",
    "                    'etc'}\n",
    "\n",
    "# include the dictionary of stop words\n",
    "sw |= include_stopwords\n",
    "\n",
    "# useful white space pattern\n",
    "whitespace_pattern = re.compile(r\"\\s+\")\n",
    "\n",
    "def decontracted(phrase):\n",
    "    \"\"\"\n",
    "    split up decontracted words from a column of texts\n",
    "    \n",
    "    \"\"\"\n",
    "    # add extra white space\n",
    "    phrase = re.sub('(?<=[.,!?()/:;])(?=[^\\s])', r' ',  phrase)\n",
    "   \n",
    "    # specific\n",
    "    phrase = re.sub(r\"she/her\", \"she her\",phrase)\n",
    "    phrase = re.sub(r\"he/him\", \"he him\",phrase)\n",
    "    phrase = re.sub(r\"they/them\", \"they them\",phrase)\n",
    "    phrase = re.sub(r\"won\\’t\", \"will not\", phrase)\n",
    "    phrase = re.sub(r\"won\\'t\", \"will not\", phrase)\n",
    "    phrase = re.sub(r\"can\\’t\", \"can not\", phrase)\n",
    "    phrase = re.sub(r\"can\\'t\", \"can not\", phrase)\n",
    "    phrase = re.sub(r'\\<.*\\>', '', phrase)\n",
    "\n",
    "    # general\n",
    "    phrase = re.sub(r\"n\\’t\", \" not\", phrase)\n",
    "    phrase = re.sub(r\"n\\'t\", \" not\", phrase)\n",
    "    phrase = re.sub(r\"\\’re\", \" are\", phrase)\n",
    "    phrase = re.sub(r\"\\'re\", \" are\", phrase)\n",
    "    phrase = re.sub(r\"\\’s\", \" is\", phrase)\n",
    "    phrase = re.sub(r\"\\'s\", \" is\", phrase)\n",
    "    phrase = re.sub(r\"\\’d\", \" would\", phrase)\n",
    "    phrase = re.sub(r\"\\'d\", \" would\", phrase)\n",
    "    phrase = re.sub(r\"\\’ll\", \" will\", phrase)\n",
    "    phrase = re.sub(r\"\\'ll\", \" will\", phrase)\n",
    "    phrase = re.sub(r\"\\'ll\", \" will\", phrase)\n",
    "    phrase = re.sub(r\"\\’t\", \" not\", phrase)\n",
    "    phrase = re.sub(r\"\\'t\", \" not\", phrase)\n",
    "    phrase = re.sub(r\"\\’ve\", \" have\", phrase)\n",
    "    phrase = re.sub(r\"\\'ve\", \" have\", phrase)\n",
    "    phrase = re.sub(r\"\\’m\", \" am\", phrase)\n",
    "    phrase = re.sub(r\"\\'m\", \" am\", phrase)\n",
    "    phrase = re.sub(r\"don’t\", \"do not\", phrase)\n",
    "    phrase = re.sub(r\"it's\", \"it is\", phrase)\n",
    "    phrase = re.sub(r\"it’s\", \"it is\", phrase)\n",
    "    phrase = re.sub(r\"we've\", \"we have\", phrase)\n",
    "    phrase = re.sub(\"\\w+\\d+\", \"\", phrase)\n",
    "    phrase = re.sub(\"\\d+\\w+\", \"\", phrase)\n",
    "    phrase = re.sub(\"\\d+\", \" \", phrase)\n",
    "\n",
    "    return phrase\n",
    "\n",
    "def remove_stop(tokens) :\n",
    "    \"\"\"\n",
    "    remove stop words from a column of texts\n",
    "    \"\"\"\n",
    "    \n",
    "    not_stop_words = [word for word in tokens if word not in sw]\n",
    "    return not_stop_words\n",
    " \n",
    "def remove_punctuation(text) : \n",
    "    \"\"\"\n",
    "    remove punctuation from a column of texts\n",
    "    \"\"\"\n",
    "    return(\"\".join([ch for ch in text if ch not in punctuation]))\n",
    "\n",
    "def tokenize(text) : \n",
    "    \"\"\" Splitting on whitespace\"\"\"\n",
    "    \n",
    "    # modify this function to return tokens\n",
    "    tokens = re.split(whitespace_pattern, text)\n",
    "    return(tokens)\n",
    "\n",
    "\n",
    "def remove_whitespace_token(tokens):\n",
    "    \"\"\" Remove whitespace tokens\"\"\"\n",
    "    \n",
    "    # loop through each token to find whitespace token and remove\n",
    "    for i in tokens:\n",
    "        if '' in tokens:\n",
    "            tokens.remove('')\n",
    "    return tokens\n",
    "\n",
    "def prepare(text, pipeline) :\n",
    "    \"\"\"\n",
    "    prepare function applies each cleaning transformation\n",
    "    function onto a column of text\n",
    "    \"\"\"\n",
    "    tokens = str(text)\n",
    "    \n",
    "    for transform in pipeline : \n",
    "        tokens = transform(tokens)\n",
    "        \n",
    "    return(tokens)\n",
    "\n",
    "\n",
    "# list of cleaning functions\n",
    "my_pipeline = [str.lower, decontracted, remove_punctuation, tokenize, remove_whitespace_token, remove_stop]\n",
    "\n"
   ]
  },
  {
   "cell_type": "code",
   "execution_count": 5,
   "id": "09a0bf9b",
   "metadata": {
    "ExecuteTime": {
     "end_time": "2022-07-23T20:12:23.500732Z",
     "start_time": "2022-07-23T20:12:19.858268Z"
    }
   },
   "outputs": [
    {
     "data": {
      "text/html": [
       "<div>\n",
       "<style scoped>\n",
       "    .dataframe tbody tr th:only-of-type {\n",
       "        vertical-align: middle;\n",
       "    }\n",
       "\n",
       "    .dataframe tbody tr th {\n",
       "        vertical-align: top;\n",
       "    }\n",
       "\n",
       "    .dataframe thead th {\n",
       "        text-align: right;\n",
       "    }\n",
       "</style>\n",
       "<table border=\"1\" class=\"dataframe\">\n",
       "  <thead>\n",
       "    <tr style=\"text-align: right;\">\n",
       "      <th></th>\n",
       "      <th>review_star</th>\n",
       "      <th>clean_reviews</th>\n",
       "    </tr>\n",
       "  </thead>\n",
       "  <tbody>\n",
       "    <tr>\n",
       "      <th>813</th>\n",
       "      <td>5.0</td>\n",
       "      <td>love gadget easy use good stream quality voice...</td>\n",
       "    </tr>\n",
       "    <tr>\n",
       "      <th>13057</th>\n",
       "      <td>1.0</td>\n",
       "      <td>must credit card signup optional make easier b...</td>\n",
       "    </tr>\n",
       "    <tr>\n",
       "      <th>8220</th>\n",
       "      <td>1.0</td>\n",
       "      <td>unable cast photos bought</td>\n",
       "    </tr>\n",
       "    <tr>\n",
       "      <th>9002</th>\n",
       "      <td>4.0</td>\n",
       "      <td>one generation easiest hook picture quality great</td>\n",
       "    </tr>\n",
       "    <tr>\n",
       "      <th>1610</th>\n",
       "      <td>5.0</td>\n",
       "      <td>great product</td>\n",
       "    </tr>\n",
       "    <tr>\n",
       "      <th>4413</th>\n",
       "      <td>5.0</td>\n",
       "      <td>quality</td>\n",
       "    </tr>\n",
       "    <tr>\n",
       "      <th>12216</th>\n",
       "      <td>5.0</td>\n",
       "      <td>love</td>\n",
       "    </tr>\n",
       "    <tr>\n",
       "      <th>7827</th>\n",
       "      <td>5.0</td>\n",
       "      <td>little dongle casts beautifully hd phone well ...</td>\n",
       "    </tr>\n",
       "    <tr>\n",
       "      <th>6461</th>\n",
       "      <td>5.0</td>\n",
       "      <td>good</td>\n",
       "    </tr>\n",
       "    <tr>\n",
       "      <th>16614</th>\n",
       "      <td>1.0</td>\n",
       "      <td>quit working year</td>\n",
       "    </tr>\n",
       "  </tbody>\n",
       "</table>\n",
       "</div>"
      ],
      "text/plain": [
       "       review_star                                      clean_reviews\n",
       "813            5.0  love gadget easy use good stream quality voice...\n",
       "13057          1.0  must credit card signup optional make easier b...\n",
       "8220           1.0                          unable cast photos bought\n",
       "9002           4.0  one generation easiest hook picture quality great\n",
       "1610           5.0                                      great product\n",
       "4413           5.0                                            quality\n",
       "12216          5.0                                               love\n",
       "7827           5.0  little dongle casts beautifully hd phone well ...\n",
       "6461           5.0                                               good\n",
       "16614          1.0                                  quit working year"
      ]
     },
     "execution_count": 5,
     "metadata": {},
     "output_type": "execute_result"
    }
   ],
   "source": [
    "# for cleaning and tokenizng reviews\n",
    "df['clean_reviews'] = df['review_text'].apply(prepare,pipeline=my_pipeline)\n",
    "\n",
    "# remove any unicode characters\n",
    "df['clean_reviews'].replace({r'[^\\x00-\\x7F]+':''}, regex=True, inplace=True)\n",
    "\n",
    "# drop original reviews column\n",
    "df.drop(columns = ['review_text'], axis = 1, inplace = True)\n",
    "\n",
    "# drop rows with no tokens\n",
    "df = df[df['clean_reviews'].str.len() != 0]\n",
    "\n",
    "# untokenize plot descriptions\n",
    "df['clean_reviews'] = df['clean_reviews'].apply(lambda x: TreebankWordDetokenizer().detokenize(x))\n",
    "\n",
    "# 10 random rows\n",
    "df.sample(10)"
   ]
  },
  {
   "cell_type": "markdown",
   "id": "95925eba",
   "metadata": {},
   "source": [
    "# Split the data set for training and testing \n",
    "\n",
    "\n",
    "- Checking for Class Imbalance\n",
    "- Split Data on balanced data set\n",
    "- Use TF-IDF and Ordinal Encoder for data pre-processing on training data\n",
    "\n",
    "\n",
    "\n",
    "- Over-sampling the Minority class with SMOTE-ENN\n",
    "- Checking for Class Imbalance after Oversampling (SMOTE-ENN)\n",
    "\n",
    "\n",
    "\n",
    "- Under-sampling the Majority class with Near-Miss Undersampling\n",
    "- Checking for Class Imbalance after Near-Miss Undersampling\n",
    "\n",
    "\n",
    "\n",
    "- Under-sampling the Majority class with One-Sided Selection (OSS) Undersampling\n",
    "- Checking for Class Imbalance after One-Sided Selection (OSS) Undersampling\n"
   ]
  },
  {
   "cell_type": "markdown",
   "id": "5b46e9e5",
   "metadata": {},
   "source": [
    "## Checking for Class Imbalance"
   ]
  },
  {
   "cell_type": "code",
   "execution_count": 6,
   "id": "eb8d6e0d",
   "metadata": {
    "ExecuteTime": {
     "end_time": "2022-07-23T20:12:23.748174Z",
     "start_time": "2022-07-23T20:12:23.503839Z"
    }
   },
   "outputs": [
    {
     "data": {
      "application/vnd.plotly.v1+json": {
       "config": {
        "plotlyServerURL": "https://plot.ly"
       },
       "data": [
        {
         "alignmentgroup": "True",
         "cliponaxis": false,
         "hovertemplate": "Ratings=%{x}<br>count=%{y}<extra></extra>",
         "legendgroup": "1.0",
         "marker": {
          "color": "red",
          "line": {
           "width": 1.5
          },
          "pattern": {
           "shape": ""
          }
         },
         "name": "1.0",
         "offsetgroup": "1.0",
         "opacity": 0.75,
         "orientation": "v",
         "showlegend": true,
         "textangle": 0,
         "textfont": {
          "size": 12
         },
         "textposition": "outside",
         "texttemplate": "%{y:.2s}",
         "type": "bar",
         "x": [
          "1.0"
         ],
         "xaxis": "x",
         "y": [
          1309
         ],
         "yaxis": "y"
        },
        {
         "alignmentgroup": "True",
         "cliponaxis": false,
         "hovertemplate": "Ratings=%{x}<br>count=%{y}<extra></extra>",
         "legendgroup": "2.0",
         "marker": {
          "color": "orange",
          "line": {
           "width": 1.5
          },
          "pattern": {
           "shape": ""
          }
         },
         "name": "2.0",
         "offsetgroup": "2.0",
         "opacity": 0.75,
         "orientation": "v",
         "showlegend": true,
         "textangle": 0,
         "textfont": {
          "size": 12
         },
         "textposition": "outside",
         "texttemplate": "%{y:.2s}",
         "type": "bar",
         "x": [
          "2.0"
         ],
         "xaxis": "x",
         "y": [
          564
         ],
         "yaxis": "y"
        },
        {
         "alignmentgroup": "True",
         "cliponaxis": false,
         "hovertemplate": "Ratings=%{x}<br>count=%{y}<extra></extra>",
         "legendgroup": "3.0",
         "marker": {
          "color": "yellow",
          "line": {
           "width": 1.5
          },
          "pattern": {
           "shape": ""
          }
         },
         "name": "3.0",
         "offsetgroup": "3.0",
         "opacity": 0.75,
         "orientation": "v",
         "showlegend": true,
         "textangle": 0,
         "textfont": {
          "size": 12
         },
         "textposition": "outside",
         "texttemplate": "%{y:.2s}",
         "type": "bar",
         "x": [
          "3.0"
         ],
         "xaxis": "x",
         "y": [
          670
         ],
         "yaxis": "y"
        },
        {
         "alignmentgroup": "True",
         "cliponaxis": false,
         "hovertemplate": "Ratings=%{x}<br>count=%{y}<extra></extra>",
         "legendgroup": "4.0",
         "marker": {
          "color": "rgb(179,226,205)",
          "line": {
           "width": 1.5
          },
          "pattern": {
           "shape": ""
          }
         },
         "name": "4.0",
         "offsetgroup": "4.0",
         "opacity": 0.75,
         "orientation": "v",
         "showlegend": true,
         "textangle": 0,
         "textfont": {
          "size": 12
         },
         "textposition": "outside",
         "texttemplate": "%{y:.2s}",
         "type": "bar",
         "x": [
          "4.0"
         ],
         "xaxis": "x",
         "y": [
          944
         ],
         "yaxis": "y"
        },
        {
         "alignmentgroup": "True",
         "cliponaxis": false,
         "hovertemplate": "Ratings=%{x}<br>count=%{y}<extra></extra>",
         "legendgroup": "5.0",
         "marker": {
          "color": "rgb(27,158,119)",
          "line": {
           "width": 1.5
          },
          "pattern": {
           "shape": ""
          }
         },
         "name": "5.0",
         "offsetgroup": "5.0",
         "opacity": 0.75,
         "orientation": "v",
         "showlegend": true,
         "textangle": 0,
         "textfont": {
          "size": 12
         },
         "textposition": "outside",
         "texttemplate": "%{y:.2s}",
         "type": "bar",
         "x": [
          "5.0"
         ],
         "xaxis": "x",
         "y": [
          14119
         ],
         "yaxis": "y"
        }
       ],
       "layout": {
        "barmode": "relative",
        "legend": {
         "title": {
          "text": "Ratings"
         },
         "tracegroupgap": 0
        },
        "template": {
         "data": {
          "bar": [
           {
            "error_x": {
             "color": "#2a3f5f"
            },
            "error_y": {
             "color": "#2a3f5f"
            },
            "marker": {
             "line": {
              "color": "#E5ECF6",
              "width": 0.5
             },
             "pattern": {
              "fillmode": "overlay",
              "size": 10,
              "solidity": 0.2
             }
            },
            "type": "bar"
           }
          ],
          "barpolar": [
           {
            "marker": {
             "line": {
              "color": "#E5ECF6",
              "width": 0.5
             },
             "pattern": {
              "fillmode": "overlay",
              "size": 10,
              "solidity": 0.2
             }
            },
            "type": "barpolar"
           }
          ],
          "carpet": [
           {
            "aaxis": {
             "endlinecolor": "#2a3f5f",
             "gridcolor": "white",
             "linecolor": "white",
             "minorgridcolor": "white",
             "startlinecolor": "#2a3f5f"
            },
            "baxis": {
             "endlinecolor": "#2a3f5f",
             "gridcolor": "white",
             "linecolor": "white",
             "minorgridcolor": "white",
             "startlinecolor": "#2a3f5f"
            },
            "type": "carpet"
           }
          ],
          "choropleth": [
           {
            "colorbar": {
             "outlinewidth": 0,
             "ticks": ""
            },
            "type": "choropleth"
           }
          ],
          "contour": [
           {
            "colorbar": {
             "outlinewidth": 0,
             "ticks": ""
            },
            "colorscale": [
             [
              0,
              "#0d0887"
             ],
             [
              0.1111111111111111,
              "#46039f"
             ],
             [
              0.2222222222222222,
              "#7201a8"
             ],
             [
              0.3333333333333333,
              "#9c179e"
             ],
             [
              0.4444444444444444,
              "#bd3786"
             ],
             [
              0.5555555555555556,
              "#d8576b"
             ],
             [
              0.6666666666666666,
              "#ed7953"
             ],
             [
              0.7777777777777778,
              "#fb9f3a"
             ],
             [
              0.8888888888888888,
              "#fdca26"
             ],
             [
              1,
              "#f0f921"
             ]
            ],
            "type": "contour"
           }
          ],
          "contourcarpet": [
           {
            "colorbar": {
             "outlinewidth": 0,
             "ticks": ""
            },
            "type": "contourcarpet"
           }
          ],
          "heatmap": [
           {
            "colorbar": {
             "outlinewidth": 0,
             "ticks": ""
            },
            "colorscale": [
             [
              0,
              "#0d0887"
             ],
             [
              0.1111111111111111,
              "#46039f"
             ],
             [
              0.2222222222222222,
              "#7201a8"
             ],
             [
              0.3333333333333333,
              "#9c179e"
             ],
             [
              0.4444444444444444,
              "#bd3786"
             ],
             [
              0.5555555555555556,
              "#d8576b"
             ],
             [
              0.6666666666666666,
              "#ed7953"
             ],
             [
              0.7777777777777778,
              "#fb9f3a"
             ],
             [
              0.8888888888888888,
              "#fdca26"
             ],
             [
              1,
              "#f0f921"
             ]
            ],
            "type": "heatmap"
           }
          ],
          "heatmapgl": [
           {
            "colorbar": {
             "outlinewidth": 0,
             "ticks": ""
            },
            "colorscale": [
             [
              0,
              "#0d0887"
             ],
             [
              0.1111111111111111,
              "#46039f"
             ],
             [
              0.2222222222222222,
              "#7201a8"
             ],
             [
              0.3333333333333333,
              "#9c179e"
             ],
             [
              0.4444444444444444,
              "#bd3786"
             ],
             [
              0.5555555555555556,
              "#d8576b"
             ],
             [
              0.6666666666666666,
              "#ed7953"
             ],
             [
              0.7777777777777778,
              "#fb9f3a"
             ],
             [
              0.8888888888888888,
              "#fdca26"
             ],
             [
              1,
              "#f0f921"
             ]
            ],
            "type": "heatmapgl"
           }
          ],
          "histogram": [
           {
            "marker": {
             "pattern": {
              "fillmode": "overlay",
              "size": 10,
              "solidity": 0.2
             }
            },
            "type": "histogram"
           }
          ],
          "histogram2d": [
           {
            "colorbar": {
             "outlinewidth": 0,
             "ticks": ""
            },
            "colorscale": [
             [
              0,
              "#0d0887"
             ],
             [
              0.1111111111111111,
              "#46039f"
             ],
             [
              0.2222222222222222,
              "#7201a8"
             ],
             [
              0.3333333333333333,
              "#9c179e"
             ],
             [
              0.4444444444444444,
              "#bd3786"
             ],
             [
              0.5555555555555556,
              "#d8576b"
             ],
             [
              0.6666666666666666,
              "#ed7953"
             ],
             [
              0.7777777777777778,
              "#fb9f3a"
             ],
             [
              0.8888888888888888,
              "#fdca26"
             ],
             [
              1,
              "#f0f921"
             ]
            ],
            "type": "histogram2d"
           }
          ],
          "histogram2dcontour": [
           {
            "colorbar": {
             "outlinewidth": 0,
             "ticks": ""
            },
            "colorscale": [
             [
              0,
              "#0d0887"
             ],
             [
              0.1111111111111111,
              "#46039f"
             ],
             [
              0.2222222222222222,
              "#7201a8"
             ],
             [
              0.3333333333333333,
              "#9c179e"
             ],
             [
              0.4444444444444444,
              "#bd3786"
             ],
             [
              0.5555555555555556,
              "#d8576b"
             ],
             [
              0.6666666666666666,
              "#ed7953"
             ],
             [
              0.7777777777777778,
              "#fb9f3a"
             ],
             [
              0.8888888888888888,
              "#fdca26"
             ],
             [
              1,
              "#f0f921"
             ]
            ],
            "type": "histogram2dcontour"
           }
          ],
          "mesh3d": [
           {
            "colorbar": {
             "outlinewidth": 0,
             "ticks": ""
            },
            "type": "mesh3d"
           }
          ],
          "parcoords": [
           {
            "line": {
             "colorbar": {
              "outlinewidth": 0,
              "ticks": ""
             }
            },
            "type": "parcoords"
           }
          ],
          "pie": [
           {
            "automargin": true,
            "type": "pie"
           }
          ],
          "scatter": [
           {
            "fillpattern": {
             "fillmode": "overlay",
             "size": 10,
             "solidity": 0.2
            },
            "type": "scatter"
           }
          ],
          "scatter3d": [
           {
            "line": {
             "colorbar": {
              "outlinewidth": 0,
              "ticks": ""
             }
            },
            "marker": {
             "colorbar": {
              "outlinewidth": 0,
              "ticks": ""
             }
            },
            "type": "scatter3d"
           }
          ],
          "scattercarpet": [
           {
            "marker": {
             "colorbar": {
              "outlinewidth": 0,
              "ticks": ""
             }
            },
            "type": "scattercarpet"
           }
          ],
          "scattergeo": [
           {
            "marker": {
             "colorbar": {
              "outlinewidth": 0,
              "ticks": ""
             }
            },
            "type": "scattergeo"
           }
          ],
          "scattergl": [
           {
            "marker": {
             "colorbar": {
              "outlinewidth": 0,
              "ticks": ""
             }
            },
            "type": "scattergl"
           }
          ],
          "scattermapbox": [
           {
            "marker": {
             "colorbar": {
              "outlinewidth": 0,
              "ticks": ""
             }
            },
            "type": "scattermapbox"
           }
          ],
          "scatterpolar": [
           {
            "marker": {
             "colorbar": {
              "outlinewidth": 0,
              "ticks": ""
             }
            },
            "type": "scatterpolar"
           }
          ],
          "scatterpolargl": [
           {
            "marker": {
             "colorbar": {
              "outlinewidth": 0,
              "ticks": ""
             }
            },
            "type": "scatterpolargl"
           }
          ],
          "scatterternary": [
           {
            "marker": {
             "colorbar": {
              "outlinewidth": 0,
              "ticks": ""
             }
            },
            "type": "scatterternary"
           }
          ],
          "surface": [
           {
            "colorbar": {
             "outlinewidth": 0,
             "ticks": ""
            },
            "colorscale": [
             [
              0,
              "#0d0887"
             ],
             [
              0.1111111111111111,
              "#46039f"
             ],
             [
              0.2222222222222222,
              "#7201a8"
             ],
             [
              0.3333333333333333,
              "#9c179e"
             ],
             [
              0.4444444444444444,
              "#bd3786"
             ],
             [
              0.5555555555555556,
              "#d8576b"
             ],
             [
              0.6666666666666666,
              "#ed7953"
             ],
             [
              0.7777777777777778,
              "#fb9f3a"
             ],
             [
              0.8888888888888888,
              "#fdca26"
             ],
             [
              1,
              "#f0f921"
             ]
            ],
            "type": "surface"
           }
          ],
          "table": [
           {
            "cells": {
             "fill": {
              "color": "#EBF0F8"
             },
             "line": {
              "color": "white"
             }
            },
            "header": {
             "fill": {
              "color": "#C8D4E3"
             },
             "line": {
              "color": "white"
             }
            },
            "type": "table"
           }
          ]
         },
         "layout": {
          "annotationdefaults": {
           "arrowcolor": "#2a3f5f",
           "arrowhead": 0,
           "arrowwidth": 1
          },
          "autotypenumbers": "strict",
          "coloraxis": {
           "colorbar": {
            "outlinewidth": 0,
            "ticks": ""
           }
          },
          "colorscale": {
           "diverging": [
            [
             0,
             "#8e0152"
            ],
            [
             0.1,
             "#c51b7d"
            ],
            [
             0.2,
             "#de77ae"
            ],
            [
             0.3,
             "#f1b6da"
            ],
            [
             0.4,
             "#fde0ef"
            ],
            [
             0.5,
             "#f7f7f7"
            ],
            [
             0.6,
             "#e6f5d0"
            ],
            [
             0.7,
             "#b8e186"
            ],
            [
             0.8,
             "#7fbc41"
            ],
            [
             0.9,
             "#4d9221"
            ],
            [
             1,
             "#276419"
            ]
           ],
           "sequential": [
            [
             0,
             "#0d0887"
            ],
            [
             0.1111111111111111,
             "#46039f"
            ],
            [
             0.2222222222222222,
             "#7201a8"
            ],
            [
             0.3333333333333333,
             "#9c179e"
            ],
            [
             0.4444444444444444,
             "#bd3786"
            ],
            [
             0.5555555555555556,
             "#d8576b"
            ],
            [
             0.6666666666666666,
             "#ed7953"
            ],
            [
             0.7777777777777778,
             "#fb9f3a"
            ],
            [
             0.8888888888888888,
             "#fdca26"
            ],
            [
             1,
             "#f0f921"
            ]
           ],
           "sequentialminus": [
            [
             0,
             "#0d0887"
            ],
            [
             0.1111111111111111,
             "#46039f"
            ],
            [
             0.2222222222222222,
             "#7201a8"
            ],
            [
             0.3333333333333333,
             "#9c179e"
            ],
            [
             0.4444444444444444,
             "#bd3786"
            ],
            [
             0.5555555555555556,
             "#d8576b"
            ],
            [
             0.6666666666666666,
             "#ed7953"
            ],
            [
             0.7777777777777778,
             "#fb9f3a"
            ],
            [
             0.8888888888888888,
             "#fdca26"
            ],
            [
             1,
             "#f0f921"
            ]
           ]
          },
          "colorway": [
           "#636efa",
           "#EF553B",
           "#00cc96",
           "#ab63fa",
           "#FFA15A",
           "#19d3f3",
           "#FF6692",
           "#B6E880",
           "#FF97FF",
           "#FECB52"
          ],
          "font": {
           "color": "#2a3f5f"
          },
          "geo": {
           "bgcolor": "white",
           "lakecolor": "white",
           "landcolor": "#E5ECF6",
           "showlakes": true,
           "showland": true,
           "subunitcolor": "white"
          },
          "hoverlabel": {
           "align": "left"
          },
          "hovermode": "closest",
          "mapbox": {
           "style": "light"
          },
          "paper_bgcolor": "white",
          "plot_bgcolor": "#E5ECF6",
          "polar": {
           "angularaxis": {
            "gridcolor": "white",
            "linecolor": "white",
            "ticks": ""
           },
           "bgcolor": "#E5ECF6",
           "radialaxis": {
            "gridcolor": "white",
            "linecolor": "white",
            "ticks": ""
           }
          },
          "scene": {
           "xaxis": {
            "backgroundcolor": "#E5ECF6",
            "gridcolor": "white",
            "gridwidth": 2,
            "linecolor": "white",
            "showbackground": true,
            "ticks": "",
            "zerolinecolor": "white"
           },
           "yaxis": {
            "backgroundcolor": "#E5ECF6",
            "gridcolor": "white",
            "gridwidth": 2,
            "linecolor": "white",
            "showbackground": true,
            "ticks": "",
            "zerolinecolor": "white"
           },
           "zaxis": {
            "backgroundcolor": "#E5ECF6",
            "gridcolor": "white",
            "gridwidth": 2,
            "linecolor": "white",
            "showbackground": true,
            "ticks": "",
            "zerolinecolor": "white"
           }
          },
          "shapedefaults": {
           "line": {
            "color": "#2a3f5f"
           }
          },
          "ternary": {
           "aaxis": {
            "gridcolor": "white",
            "linecolor": "white",
            "ticks": ""
           },
           "baxis": {
            "gridcolor": "white",
            "linecolor": "white",
            "ticks": ""
           },
           "bgcolor": "#E5ECF6",
           "caxis": {
            "gridcolor": "white",
            "linecolor": "white",
            "ticks": ""
           }
          },
          "title": {
           "x": 0.05
          },
          "xaxis": {
           "automargin": true,
           "gridcolor": "white",
           "linecolor": "white",
           "ticks": "",
           "title": {
            "standoff": 15
           },
           "zerolinecolor": "white",
           "zerolinewidth": 2
          },
          "yaxis": {
           "automargin": true,
           "gridcolor": "white",
           "linecolor": "white",
           "ticks": "",
           "title": {
            "standoff": 15
           },
           "zerolinecolor": "white",
           "zerolinewidth": 2
          }
         }
        },
        "title": {
         "text": "Customer Ratings - Checking for Class Imbalance"
        },
        "xaxis": {
         "anchor": "y",
         "categoryarray": [
          "1.0",
          "2.0",
          "3.0",
          "4.0",
          "5.0"
         ],
         "categoryorder": "array",
         "domain": [
          0,
          1
         ],
         "title": {
          "text": "Ratings"
         }
        },
        "yaxis": {
         "anchor": "x",
         "domain": [
          0,
          1
         ],
         "title": {
          "text": "count"
         }
        }
       }
      },
      "text/html": [
       "<div>                            <div id=\"2f9ffa0f-c9e9-4cd3-8659-d3627381a842\" class=\"plotly-graph-div\" style=\"height:525px; width:100%;\"></div>            <script type=\"text/javascript\">                require([\"plotly\"], function(Plotly) {                    window.PLOTLYENV=window.PLOTLYENV || {};                                    if (document.getElementById(\"2f9ffa0f-c9e9-4cd3-8659-d3627381a842\")) {                    Plotly.newPlot(                        \"2f9ffa0f-c9e9-4cd3-8659-d3627381a842\",                        [{\"alignmentgroup\":\"True\",\"hovertemplate\":\"Ratings=%{x}<br>count=%{y}<extra></extra>\",\"legendgroup\":\"1.0\",\"marker\":{\"color\":\"red\",\"pattern\":{\"shape\":\"\"},\"line\":{\"width\":1.5}},\"name\":\"1.0\",\"offsetgroup\":\"1.0\",\"orientation\":\"v\",\"showlegend\":true,\"textposition\":\"outside\",\"texttemplate\":\"%{y:.2s}\",\"x\":[\"1.0\"],\"xaxis\":\"x\",\"y\":[1309],\"yaxis\":\"y\",\"type\":\"bar\",\"textfont\":{\"size\":12},\"cliponaxis\":false,\"opacity\":0.75,\"textangle\":0},{\"alignmentgroup\":\"True\",\"hovertemplate\":\"Ratings=%{x}<br>count=%{y}<extra></extra>\",\"legendgroup\":\"2.0\",\"marker\":{\"color\":\"orange\",\"pattern\":{\"shape\":\"\"},\"line\":{\"width\":1.5}},\"name\":\"2.0\",\"offsetgroup\":\"2.0\",\"orientation\":\"v\",\"showlegend\":true,\"textposition\":\"outside\",\"texttemplate\":\"%{y:.2s}\",\"x\":[\"2.0\"],\"xaxis\":\"x\",\"y\":[564],\"yaxis\":\"y\",\"type\":\"bar\",\"textfont\":{\"size\":12},\"cliponaxis\":false,\"opacity\":0.75,\"textangle\":0},{\"alignmentgroup\":\"True\",\"hovertemplate\":\"Ratings=%{x}<br>count=%{y}<extra></extra>\",\"legendgroup\":\"3.0\",\"marker\":{\"color\":\"yellow\",\"pattern\":{\"shape\":\"\"},\"line\":{\"width\":1.5}},\"name\":\"3.0\",\"offsetgroup\":\"3.0\",\"orientation\":\"v\",\"showlegend\":true,\"textposition\":\"outside\",\"texttemplate\":\"%{y:.2s}\",\"x\":[\"3.0\"],\"xaxis\":\"x\",\"y\":[670],\"yaxis\":\"y\",\"type\":\"bar\",\"textfont\":{\"size\":12},\"cliponaxis\":false,\"opacity\":0.75,\"textangle\":0},{\"alignmentgroup\":\"True\",\"hovertemplate\":\"Ratings=%{x}<br>count=%{y}<extra></extra>\",\"legendgroup\":\"4.0\",\"marker\":{\"color\":\"rgb(179,226,205)\",\"pattern\":{\"shape\":\"\"},\"line\":{\"width\":1.5}},\"name\":\"4.0\",\"offsetgroup\":\"4.0\",\"orientation\":\"v\",\"showlegend\":true,\"textposition\":\"outside\",\"texttemplate\":\"%{y:.2s}\",\"x\":[\"4.0\"],\"xaxis\":\"x\",\"y\":[944],\"yaxis\":\"y\",\"type\":\"bar\",\"textfont\":{\"size\":12},\"cliponaxis\":false,\"opacity\":0.75,\"textangle\":0},{\"alignmentgroup\":\"True\",\"hovertemplate\":\"Ratings=%{x}<br>count=%{y}<extra></extra>\",\"legendgroup\":\"5.0\",\"marker\":{\"color\":\"rgb(27,158,119)\",\"pattern\":{\"shape\":\"\"},\"line\":{\"width\":1.5}},\"name\":\"5.0\",\"offsetgroup\":\"5.0\",\"orientation\":\"v\",\"showlegend\":true,\"textposition\":\"outside\",\"texttemplate\":\"%{y:.2s}\",\"x\":[\"5.0\"],\"xaxis\":\"x\",\"y\":[14119],\"yaxis\":\"y\",\"type\":\"bar\",\"textfont\":{\"size\":12},\"cliponaxis\":false,\"opacity\":0.75,\"textangle\":0}],                        {\"template\":{\"data\":{\"histogram2dcontour\":[{\"type\":\"histogram2dcontour\",\"colorbar\":{\"outlinewidth\":0,\"ticks\":\"\"},\"colorscale\":[[0.0,\"#0d0887\"],[0.1111111111111111,\"#46039f\"],[0.2222222222222222,\"#7201a8\"],[0.3333333333333333,\"#9c179e\"],[0.4444444444444444,\"#bd3786\"],[0.5555555555555556,\"#d8576b\"],[0.6666666666666666,\"#ed7953\"],[0.7777777777777778,\"#fb9f3a\"],[0.8888888888888888,\"#fdca26\"],[1.0,\"#f0f921\"]]}],\"choropleth\":[{\"type\":\"choropleth\",\"colorbar\":{\"outlinewidth\":0,\"ticks\":\"\"}}],\"histogram2d\":[{\"type\":\"histogram2d\",\"colorbar\":{\"outlinewidth\":0,\"ticks\":\"\"},\"colorscale\":[[0.0,\"#0d0887\"],[0.1111111111111111,\"#46039f\"],[0.2222222222222222,\"#7201a8\"],[0.3333333333333333,\"#9c179e\"],[0.4444444444444444,\"#bd3786\"],[0.5555555555555556,\"#d8576b\"],[0.6666666666666666,\"#ed7953\"],[0.7777777777777778,\"#fb9f3a\"],[0.8888888888888888,\"#fdca26\"],[1.0,\"#f0f921\"]]}],\"heatmap\":[{\"type\":\"heatmap\",\"colorbar\":{\"outlinewidth\":0,\"ticks\":\"\"},\"colorscale\":[[0.0,\"#0d0887\"],[0.1111111111111111,\"#46039f\"],[0.2222222222222222,\"#7201a8\"],[0.3333333333333333,\"#9c179e\"],[0.4444444444444444,\"#bd3786\"],[0.5555555555555556,\"#d8576b\"],[0.6666666666666666,\"#ed7953\"],[0.7777777777777778,\"#fb9f3a\"],[0.8888888888888888,\"#fdca26\"],[1.0,\"#f0f921\"]]}],\"heatmapgl\":[{\"type\":\"heatmapgl\",\"colorbar\":{\"outlinewidth\":0,\"ticks\":\"\"},\"colorscale\":[[0.0,\"#0d0887\"],[0.1111111111111111,\"#46039f\"],[0.2222222222222222,\"#7201a8\"],[0.3333333333333333,\"#9c179e\"],[0.4444444444444444,\"#bd3786\"],[0.5555555555555556,\"#d8576b\"],[0.6666666666666666,\"#ed7953\"],[0.7777777777777778,\"#fb9f3a\"],[0.8888888888888888,\"#fdca26\"],[1.0,\"#f0f921\"]]}],\"contourcarpet\":[{\"type\":\"contourcarpet\",\"colorbar\":{\"outlinewidth\":0,\"ticks\":\"\"}}],\"contour\":[{\"type\":\"contour\",\"colorbar\":{\"outlinewidth\":0,\"ticks\":\"\"},\"colorscale\":[[0.0,\"#0d0887\"],[0.1111111111111111,\"#46039f\"],[0.2222222222222222,\"#7201a8\"],[0.3333333333333333,\"#9c179e\"],[0.4444444444444444,\"#bd3786\"],[0.5555555555555556,\"#d8576b\"],[0.6666666666666666,\"#ed7953\"],[0.7777777777777778,\"#fb9f3a\"],[0.8888888888888888,\"#fdca26\"],[1.0,\"#f0f921\"]]}],\"surface\":[{\"type\":\"surface\",\"colorbar\":{\"outlinewidth\":0,\"ticks\":\"\"},\"colorscale\":[[0.0,\"#0d0887\"],[0.1111111111111111,\"#46039f\"],[0.2222222222222222,\"#7201a8\"],[0.3333333333333333,\"#9c179e\"],[0.4444444444444444,\"#bd3786\"],[0.5555555555555556,\"#d8576b\"],[0.6666666666666666,\"#ed7953\"],[0.7777777777777778,\"#fb9f3a\"],[0.8888888888888888,\"#fdca26\"],[1.0,\"#f0f921\"]]}],\"mesh3d\":[{\"type\":\"mesh3d\",\"colorbar\":{\"outlinewidth\":0,\"ticks\":\"\"}}],\"scatter\":[{\"fillpattern\":{\"fillmode\":\"overlay\",\"size\":10,\"solidity\":0.2},\"type\":\"scatter\"}],\"parcoords\":[{\"type\":\"parcoords\",\"line\":{\"colorbar\":{\"outlinewidth\":0,\"ticks\":\"\"}}}],\"scatterpolargl\":[{\"type\":\"scatterpolargl\",\"marker\":{\"colorbar\":{\"outlinewidth\":0,\"ticks\":\"\"}}}],\"bar\":[{\"error_x\":{\"color\":\"#2a3f5f\"},\"error_y\":{\"color\":\"#2a3f5f\"},\"marker\":{\"line\":{\"color\":\"#E5ECF6\",\"width\":0.5},\"pattern\":{\"fillmode\":\"overlay\",\"size\":10,\"solidity\":0.2}},\"type\":\"bar\"}],\"scattergeo\":[{\"type\":\"scattergeo\",\"marker\":{\"colorbar\":{\"outlinewidth\":0,\"ticks\":\"\"}}}],\"scatterpolar\":[{\"type\":\"scatterpolar\",\"marker\":{\"colorbar\":{\"outlinewidth\":0,\"ticks\":\"\"}}}],\"histogram\":[{\"marker\":{\"pattern\":{\"fillmode\":\"overlay\",\"size\":10,\"solidity\":0.2}},\"type\":\"histogram\"}],\"scattergl\":[{\"type\":\"scattergl\",\"marker\":{\"colorbar\":{\"outlinewidth\":0,\"ticks\":\"\"}}}],\"scatter3d\":[{\"type\":\"scatter3d\",\"line\":{\"colorbar\":{\"outlinewidth\":0,\"ticks\":\"\"}},\"marker\":{\"colorbar\":{\"outlinewidth\":0,\"ticks\":\"\"}}}],\"scattermapbox\":[{\"type\":\"scattermapbox\",\"marker\":{\"colorbar\":{\"outlinewidth\":0,\"ticks\":\"\"}}}],\"scatterternary\":[{\"type\":\"scatterternary\",\"marker\":{\"colorbar\":{\"outlinewidth\":0,\"ticks\":\"\"}}}],\"scattercarpet\":[{\"type\":\"scattercarpet\",\"marker\":{\"colorbar\":{\"outlinewidth\":0,\"ticks\":\"\"}}}],\"carpet\":[{\"aaxis\":{\"endlinecolor\":\"#2a3f5f\",\"gridcolor\":\"white\",\"linecolor\":\"white\",\"minorgridcolor\":\"white\",\"startlinecolor\":\"#2a3f5f\"},\"baxis\":{\"endlinecolor\":\"#2a3f5f\",\"gridcolor\":\"white\",\"linecolor\":\"white\",\"minorgridcolor\":\"white\",\"startlinecolor\":\"#2a3f5f\"},\"type\":\"carpet\"}],\"table\":[{\"cells\":{\"fill\":{\"color\":\"#EBF0F8\"},\"line\":{\"color\":\"white\"}},\"header\":{\"fill\":{\"color\":\"#C8D4E3\"},\"line\":{\"color\":\"white\"}},\"type\":\"table\"}],\"barpolar\":[{\"marker\":{\"line\":{\"color\":\"#E5ECF6\",\"width\":0.5},\"pattern\":{\"fillmode\":\"overlay\",\"size\":10,\"solidity\":0.2}},\"type\":\"barpolar\"}],\"pie\":[{\"automargin\":true,\"type\":\"pie\"}]},\"layout\":{\"autotypenumbers\":\"strict\",\"colorway\":[\"#636efa\",\"#EF553B\",\"#00cc96\",\"#ab63fa\",\"#FFA15A\",\"#19d3f3\",\"#FF6692\",\"#B6E880\",\"#FF97FF\",\"#FECB52\"],\"font\":{\"color\":\"#2a3f5f\"},\"hovermode\":\"closest\",\"hoverlabel\":{\"align\":\"left\"},\"paper_bgcolor\":\"white\",\"plot_bgcolor\":\"#E5ECF6\",\"polar\":{\"bgcolor\":\"#E5ECF6\",\"angularaxis\":{\"gridcolor\":\"white\",\"linecolor\":\"white\",\"ticks\":\"\"},\"radialaxis\":{\"gridcolor\":\"white\",\"linecolor\":\"white\",\"ticks\":\"\"}},\"ternary\":{\"bgcolor\":\"#E5ECF6\",\"aaxis\":{\"gridcolor\":\"white\",\"linecolor\":\"white\",\"ticks\":\"\"},\"baxis\":{\"gridcolor\":\"white\",\"linecolor\":\"white\",\"ticks\":\"\"},\"caxis\":{\"gridcolor\":\"white\",\"linecolor\":\"white\",\"ticks\":\"\"}},\"coloraxis\":{\"colorbar\":{\"outlinewidth\":0,\"ticks\":\"\"}},\"colorscale\":{\"sequential\":[[0.0,\"#0d0887\"],[0.1111111111111111,\"#46039f\"],[0.2222222222222222,\"#7201a8\"],[0.3333333333333333,\"#9c179e\"],[0.4444444444444444,\"#bd3786\"],[0.5555555555555556,\"#d8576b\"],[0.6666666666666666,\"#ed7953\"],[0.7777777777777778,\"#fb9f3a\"],[0.8888888888888888,\"#fdca26\"],[1.0,\"#f0f921\"]],\"sequentialminus\":[[0.0,\"#0d0887\"],[0.1111111111111111,\"#46039f\"],[0.2222222222222222,\"#7201a8\"],[0.3333333333333333,\"#9c179e\"],[0.4444444444444444,\"#bd3786\"],[0.5555555555555556,\"#d8576b\"],[0.6666666666666666,\"#ed7953\"],[0.7777777777777778,\"#fb9f3a\"],[0.8888888888888888,\"#fdca26\"],[1.0,\"#f0f921\"]],\"diverging\":[[0,\"#8e0152\"],[0.1,\"#c51b7d\"],[0.2,\"#de77ae\"],[0.3,\"#f1b6da\"],[0.4,\"#fde0ef\"],[0.5,\"#f7f7f7\"],[0.6,\"#e6f5d0\"],[0.7,\"#b8e186\"],[0.8,\"#7fbc41\"],[0.9,\"#4d9221\"],[1,\"#276419\"]]},\"xaxis\":{\"gridcolor\":\"white\",\"linecolor\":\"white\",\"ticks\":\"\",\"title\":{\"standoff\":15},\"zerolinecolor\":\"white\",\"automargin\":true,\"zerolinewidth\":2},\"yaxis\":{\"gridcolor\":\"white\",\"linecolor\":\"white\",\"ticks\":\"\",\"title\":{\"standoff\":15},\"zerolinecolor\":\"white\",\"automargin\":true,\"zerolinewidth\":2},\"scene\":{\"xaxis\":{\"backgroundcolor\":\"#E5ECF6\",\"gridcolor\":\"white\",\"linecolor\":\"white\",\"showbackground\":true,\"ticks\":\"\",\"zerolinecolor\":\"white\",\"gridwidth\":2},\"yaxis\":{\"backgroundcolor\":\"#E5ECF6\",\"gridcolor\":\"white\",\"linecolor\":\"white\",\"showbackground\":true,\"ticks\":\"\",\"zerolinecolor\":\"white\",\"gridwidth\":2},\"zaxis\":{\"backgroundcolor\":\"#E5ECF6\",\"gridcolor\":\"white\",\"linecolor\":\"white\",\"showbackground\":true,\"ticks\":\"\",\"zerolinecolor\":\"white\",\"gridwidth\":2}},\"shapedefaults\":{\"line\":{\"color\":\"#2a3f5f\"}},\"annotationdefaults\":{\"arrowcolor\":\"#2a3f5f\",\"arrowhead\":0,\"arrowwidth\":1},\"geo\":{\"bgcolor\":\"white\",\"landcolor\":\"#E5ECF6\",\"subunitcolor\":\"white\",\"showland\":true,\"showlakes\":true,\"lakecolor\":\"white\"},\"title\":{\"x\":0.05},\"mapbox\":{\"style\":\"light\"}}},\"xaxis\":{\"anchor\":\"y\",\"domain\":[0.0,1.0],\"title\":{\"text\":\"Ratings\"},\"categoryorder\":\"array\",\"categoryarray\":[\"1.0\",\"2.0\",\"3.0\",\"4.0\",\"5.0\"]},\"yaxis\":{\"anchor\":\"x\",\"domain\":[0.0,1.0],\"title\":{\"text\":\"count\"}},\"legend\":{\"title\":{\"text\":\"Ratings\"},\"tracegroupgap\":0},\"title\":{\"text\":\"Customer Ratings - Checking for Class Imbalance\"},\"barmode\":\"relative\"},                        {\"responsive\": true}                    ).then(function(){\n",
       "                            \n",
       "var gd = document.getElementById('2f9ffa0f-c9e9-4cd3-8659-d3627381a842');\n",
       "var x = new MutationObserver(function (mutations, observer) {{\n",
       "        var display = window.getComputedStyle(gd).display;\n",
       "        if (!display || display === 'none') {{\n",
       "            console.log([gd, 'removed!']);\n",
       "            Plotly.purge(gd);\n",
       "            observer.disconnect();\n",
       "        }}\n",
       "}});\n",
       "\n",
       "// Listen for the removal of the full notebook cells\n",
       "var notebookContainer = gd.closest('#notebook-container');\n",
       "if (notebookContainer) {{\n",
       "    x.observe(notebookContainer, {childList: true});\n",
       "}}\n",
       "\n",
       "// Listen for the clearing of the current output cell\n",
       "var outputEl = gd.closest('.output');\n",
       "if (outputEl) {{\n",
       "    x.observe(outputEl, {childList: true});\n",
       "}}\n",
       "\n",
       "                        })                };                });            </script>        </div>"
      ]
     },
     "metadata": {},
     "output_type": "display_data"
    }
   ],
   "source": [
    "# create a data frame to count the number of customer reviews by products and also rename a column as count\n",
    "rating_counts = pd.DataFrame(df[['review_star']].value_counts()).reset_index().rename( \\\n",
    "    columns={'review_star': 'Ratings', 0:'count'})\n",
    "\n",
    "# add a sort index\n",
    "rating_counts['Ratings_for_sorting'] = rating_counts['Ratings']\n",
    "\n",
    "# convert ratings to str type for visualization\n",
    "rating_counts['Ratings'] = rating_counts['Ratings'].astype(str)\n",
    "\n",
    "# Sort order by custom column and display \n",
    "rating_counts.sort_values(by=['Ratings_for_sorting'], inplace = True)\n",
    "\n",
    "# use plotly to create a bar graph of number of reviews by brand and using customized color coding \n",
    "fig = px.bar(rating_counts, x=\"Ratings\", y=\"count\", color=\"Ratings\", \n",
    "             title= \"Customer Ratings - Checking for Class Imbalance\", text_auto = '.2s', \n",
    "             color_discrete_map={'1.0':'red', '2.0':'orange', '3.0': 'yellow',\n",
    "                                 '4.0':'rgb(179,226,205)', '5.0':'rgb(27,158,119)'})\n",
    "\n",
    "# figure customization\n",
    "fig.update_traces(textfont_size=12, textangle=0, textposition=\"outside\", cliponaxis=False,\n",
    " marker_line_width=1.5, opacity = 0.75)\n"
   ]
  },
  {
   "cell_type": "markdown",
   "id": "7c91ccb3",
   "metadata": {},
   "source": [
    "## Train-Test-Split"
   ]
  },
  {
   "cell_type": "code",
   "execution_count": 7,
   "id": "637bffbb",
   "metadata": {
    "ExecuteTime": {
     "end_time": "2022-07-23T20:12:23.829987Z",
     "start_time": "2022-07-23T20:12:23.750757Z"
    }
   },
   "outputs": [
    {
     "name": "stdout",
     "output_type": "stream",
     "text": [
      "Size of Training Data  14084\n",
      "Size of Test Data  3522\n"
     ]
    }
   ],
   "source": [
    "# Features\n",
    "X = df['clean_reviews']\n",
    "\n",
    "# Target Variable\n",
    "y = df[['review_star']]\n",
    "\n",
    "# Split data set on 80% training and 20% test and keep target variable classes balanced\n",
    "X_train, X_test, Y_train, Y_test = train_test_split(X,\n",
    "y, test_size=0.2, random_state=42, stratify=y)\n",
    "\n",
    "# Print shapes of training and testing data\n",
    "print('Size of Training Data ', X_train.shape[0])\n",
    "print('Size of Test Data ', X_test.shape[0])"
   ]
  },
  {
   "cell_type": "markdown",
   "id": "ab84b58d",
   "metadata": {
    "ExecuteTime": {
     "end_time": "2022-07-23T09:12:05.785345Z",
     "start_time": "2022-07-23T09:12:05.781725Z"
    }
   },
   "source": [
    "## Use TF-IDF and Ordinal Encoder for data pre-processing"
   ]
  },
  {
   "cell_type": "code",
   "execution_count": 8,
   "id": "a90e7856",
   "metadata": {
    "ExecuteTime": {
     "end_time": "2022-07-23T20:12:24.352531Z",
     "start_time": "2022-07-23T20:12:23.832340Z"
    }
   },
   "outputs": [],
   "source": [
    "# use tfidf vectorizer\n",
    "tfidf = TfidfVectorizer(stop_words=sw)\n",
    "tfidf.fit(X_train)\n",
    "X_train = tfidf.transform(X_train)\n",
    "\n",
    "# use ordinal encoder\n",
    "ord_en = OrdinalEncoder()\n",
    "ord_en.fit(Y_train)\n",
    "Y_train = ord_en.transform(Y_train)"
   ]
  },
  {
   "cell_type": "markdown",
   "id": "da03750d",
   "metadata": {},
   "source": [
    "## Over-sampling the Minority class using SMOTE with Edited Nearest Neighbor (ENN)\n",
    "\n",
    "This method combines the SMOTE ability to generate synthetic examples for minority class and ENN ability to delete some observations from both classes that are identified as having different class between the observation’s class and its K-nearest neighbor majority class."
   ]
  },
  {
   "cell_type": "code",
   "execution_count": 9,
   "id": "44cac2f7",
   "metadata": {
    "ExecuteTime": {
     "end_time": "2022-07-23T20:15:04.840464Z",
     "start_time": "2022-07-23T20:12:24.355896Z"
    }
   },
   "outputs": [],
   "source": [
    "# use SMOTE method for over-sampling on training set only\n",
    "oversample = SMOTEENN()\n",
    "X_train_smote, Y_train_smote = oversample.fit_resample(X_train, Y_train)"
   ]
  },
  {
   "cell_type": "markdown",
   "id": "0b98489a",
   "metadata": {},
   "source": [
    "## Checking for Class Imbalance after SMOTE with ENN"
   ]
  },
  {
   "cell_type": "code",
   "execution_count": 10,
   "id": "d7f10746",
   "metadata": {
    "ExecuteTime": {
     "end_time": "2022-07-23T20:15:04.951441Z",
     "start_time": "2022-07-23T20:15:04.847628Z"
    }
   },
   "outputs": [
    {
     "data": {
      "application/vnd.plotly.v1+json": {
       "config": {
        "plotlyServerURL": "https://plot.ly"
       },
       "data": [
        {
         "alignmentgroup": "True",
         "cliponaxis": false,
         "hovertemplate": "Ratings=%{x}<br>count=%{y}<extra></extra>",
         "legendgroup": "0.0",
         "marker": {
          "color": "red",
          "line": {
           "width": 1.5
          },
          "pattern": {
           "shape": ""
          }
         },
         "name": "0.0",
         "offsetgroup": "0.0",
         "opacity": 0.75,
         "orientation": "v",
         "showlegend": true,
         "textangle": 0,
         "textfont": {
          "size": 12
         },
         "textposition": "outside",
         "texttemplate": "%{y:.2s}",
         "type": "bar",
         "x": [
          "0.0"
         ],
         "xaxis": "x",
         "y": [
          11067
         ],
         "yaxis": "y"
        },
        {
         "alignmentgroup": "True",
         "cliponaxis": false,
         "hovertemplate": "Ratings=%{x}<br>count=%{y}<extra></extra>",
         "legendgroup": "1.0",
         "marker": {
          "color": "orange",
          "line": {
           "width": 1.5
          },
          "pattern": {
           "shape": ""
          }
         },
         "name": "1.0",
         "offsetgroup": "1.0",
         "opacity": 0.75,
         "orientation": "v",
         "showlegend": true,
         "textangle": 0,
         "textfont": {
          "size": 12
         },
         "textposition": "outside",
         "texttemplate": "%{y:.2s}",
         "type": "bar",
         "x": [
          "1.0"
         ],
         "xaxis": "x",
         "y": [
          11155
         ],
         "yaxis": "y"
        },
        {
         "alignmentgroup": "True",
         "cliponaxis": false,
         "hovertemplate": "Ratings=%{x}<br>count=%{y}<extra></extra>",
         "legendgroup": "2.0",
         "marker": {
          "color": "yellow",
          "line": {
           "width": 1.5
          },
          "pattern": {
           "shape": ""
          }
         },
         "name": "2.0",
         "offsetgroup": "2.0",
         "opacity": 0.75,
         "orientation": "v",
         "showlegend": true,
         "textangle": 0,
         "textfont": {
          "size": 12
         },
         "textposition": "outside",
         "texttemplate": "%{y:.2s}",
         "type": "bar",
         "x": [
          "2.0"
         ],
         "xaxis": "x",
         "y": [
          11182
         ],
         "yaxis": "y"
        },
        {
         "alignmentgroup": "True",
         "cliponaxis": false,
         "hovertemplate": "Ratings=%{x}<br>count=%{y}<extra></extra>",
         "legendgroup": "3.0",
         "marker": {
          "color": "rgb(179,226,205)",
          "line": {
           "width": 1.5
          },
          "pattern": {
           "shape": ""
          }
         },
         "name": "3.0",
         "offsetgroup": "3.0",
         "opacity": 0.75,
         "orientation": "v",
         "showlegend": true,
         "textangle": 0,
         "textfont": {
          "size": 12
         },
         "textposition": "outside",
         "texttemplate": "%{y:.2s}",
         "type": "bar",
         "x": [
          "3.0"
         ],
         "xaxis": "x",
         "y": [
          11018
         ],
         "yaxis": "y"
        },
        {
         "alignmentgroup": "True",
         "cliponaxis": false,
         "hovertemplate": "Ratings=%{x}<br>count=%{y}<extra></extra>",
         "legendgroup": "4.0",
         "marker": {
          "color": "rgb(27,158,119)",
          "line": {
           "width": 1.5
          },
          "pattern": {
           "shape": ""
          }
         },
         "name": "4.0",
         "offsetgroup": "4.0",
         "opacity": 0.75,
         "orientation": "v",
         "showlegend": true,
         "textangle": 0,
         "textfont": {
          "size": 12
         },
         "textposition": "outside",
         "texttemplate": "%{y:.2s}",
         "type": "bar",
         "x": [
          "4.0"
         ],
         "xaxis": "x",
         "y": [
          3397
         ],
         "yaxis": "y"
        }
       ],
       "layout": {
        "barmode": "relative",
        "legend": {
         "title": {
          "text": "Ratings"
         },
         "tracegroupgap": 0
        },
        "template": {
         "data": {
          "bar": [
           {
            "error_x": {
             "color": "#2a3f5f"
            },
            "error_y": {
             "color": "#2a3f5f"
            },
            "marker": {
             "line": {
              "color": "#E5ECF6",
              "width": 0.5
             },
             "pattern": {
              "fillmode": "overlay",
              "size": 10,
              "solidity": 0.2
             }
            },
            "type": "bar"
           }
          ],
          "barpolar": [
           {
            "marker": {
             "line": {
              "color": "#E5ECF6",
              "width": 0.5
             },
             "pattern": {
              "fillmode": "overlay",
              "size": 10,
              "solidity": 0.2
             }
            },
            "type": "barpolar"
           }
          ],
          "carpet": [
           {
            "aaxis": {
             "endlinecolor": "#2a3f5f",
             "gridcolor": "white",
             "linecolor": "white",
             "minorgridcolor": "white",
             "startlinecolor": "#2a3f5f"
            },
            "baxis": {
             "endlinecolor": "#2a3f5f",
             "gridcolor": "white",
             "linecolor": "white",
             "minorgridcolor": "white",
             "startlinecolor": "#2a3f5f"
            },
            "type": "carpet"
           }
          ],
          "choropleth": [
           {
            "colorbar": {
             "outlinewidth": 0,
             "ticks": ""
            },
            "type": "choropleth"
           }
          ],
          "contour": [
           {
            "colorbar": {
             "outlinewidth": 0,
             "ticks": ""
            },
            "colorscale": [
             [
              0,
              "#0d0887"
             ],
             [
              0.1111111111111111,
              "#46039f"
             ],
             [
              0.2222222222222222,
              "#7201a8"
             ],
             [
              0.3333333333333333,
              "#9c179e"
             ],
             [
              0.4444444444444444,
              "#bd3786"
             ],
             [
              0.5555555555555556,
              "#d8576b"
             ],
             [
              0.6666666666666666,
              "#ed7953"
             ],
             [
              0.7777777777777778,
              "#fb9f3a"
             ],
             [
              0.8888888888888888,
              "#fdca26"
             ],
             [
              1,
              "#f0f921"
             ]
            ],
            "type": "contour"
           }
          ],
          "contourcarpet": [
           {
            "colorbar": {
             "outlinewidth": 0,
             "ticks": ""
            },
            "type": "contourcarpet"
           }
          ],
          "heatmap": [
           {
            "colorbar": {
             "outlinewidth": 0,
             "ticks": ""
            },
            "colorscale": [
             [
              0,
              "#0d0887"
             ],
             [
              0.1111111111111111,
              "#46039f"
             ],
             [
              0.2222222222222222,
              "#7201a8"
             ],
             [
              0.3333333333333333,
              "#9c179e"
             ],
             [
              0.4444444444444444,
              "#bd3786"
             ],
             [
              0.5555555555555556,
              "#d8576b"
             ],
             [
              0.6666666666666666,
              "#ed7953"
             ],
             [
              0.7777777777777778,
              "#fb9f3a"
             ],
             [
              0.8888888888888888,
              "#fdca26"
             ],
             [
              1,
              "#f0f921"
             ]
            ],
            "type": "heatmap"
           }
          ],
          "heatmapgl": [
           {
            "colorbar": {
             "outlinewidth": 0,
             "ticks": ""
            },
            "colorscale": [
             [
              0,
              "#0d0887"
             ],
             [
              0.1111111111111111,
              "#46039f"
             ],
             [
              0.2222222222222222,
              "#7201a8"
             ],
             [
              0.3333333333333333,
              "#9c179e"
             ],
             [
              0.4444444444444444,
              "#bd3786"
             ],
             [
              0.5555555555555556,
              "#d8576b"
             ],
             [
              0.6666666666666666,
              "#ed7953"
             ],
             [
              0.7777777777777778,
              "#fb9f3a"
             ],
             [
              0.8888888888888888,
              "#fdca26"
             ],
             [
              1,
              "#f0f921"
             ]
            ],
            "type": "heatmapgl"
           }
          ],
          "histogram": [
           {
            "marker": {
             "pattern": {
              "fillmode": "overlay",
              "size": 10,
              "solidity": 0.2
             }
            },
            "type": "histogram"
           }
          ],
          "histogram2d": [
           {
            "colorbar": {
             "outlinewidth": 0,
             "ticks": ""
            },
            "colorscale": [
             [
              0,
              "#0d0887"
             ],
             [
              0.1111111111111111,
              "#46039f"
             ],
             [
              0.2222222222222222,
              "#7201a8"
             ],
             [
              0.3333333333333333,
              "#9c179e"
             ],
             [
              0.4444444444444444,
              "#bd3786"
             ],
             [
              0.5555555555555556,
              "#d8576b"
             ],
             [
              0.6666666666666666,
              "#ed7953"
             ],
             [
              0.7777777777777778,
              "#fb9f3a"
             ],
             [
              0.8888888888888888,
              "#fdca26"
             ],
             [
              1,
              "#f0f921"
             ]
            ],
            "type": "histogram2d"
           }
          ],
          "histogram2dcontour": [
           {
            "colorbar": {
             "outlinewidth": 0,
             "ticks": ""
            },
            "colorscale": [
             [
              0,
              "#0d0887"
             ],
             [
              0.1111111111111111,
              "#46039f"
             ],
             [
              0.2222222222222222,
              "#7201a8"
             ],
             [
              0.3333333333333333,
              "#9c179e"
             ],
             [
              0.4444444444444444,
              "#bd3786"
             ],
             [
              0.5555555555555556,
              "#d8576b"
             ],
             [
              0.6666666666666666,
              "#ed7953"
             ],
             [
              0.7777777777777778,
              "#fb9f3a"
             ],
             [
              0.8888888888888888,
              "#fdca26"
             ],
             [
              1,
              "#f0f921"
             ]
            ],
            "type": "histogram2dcontour"
           }
          ],
          "mesh3d": [
           {
            "colorbar": {
             "outlinewidth": 0,
             "ticks": ""
            },
            "type": "mesh3d"
           }
          ],
          "parcoords": [
           {
            "line": {
             "colorbar": {
              "outlinewidth": 0,
              "ticks": ""
             }
            },
            "type": "parcoords"
           }
          ],
          "pie": [
           {
            "automargin": true,
            "type": "pie"
           }
          ],
          "scatter": [
           {
            "fillpattern": {
             "fillmode": "overlay",
             "size": 10,
             "solidity": 0.2
            },
            "type": "scatter"
           }
          ],
          "scatter3d": [
           {
            "line": {
             "colorbar": {
              "outlinewidth": 0,
              "ticks": ""
             }
            },
            "marker": {
             "colorbar": {
              "outlinewidth": 0,
              "ticks": ""
             }
            },
            "type": "scatter3d"
           }
          ],
          "scattercarpet": [
           {
            "marker": {
             "colorbar": {
              "outlinewidth": 0,
              "ticks": ""
             }
            },
            "type": "scattercarpet"
           }
          ],
          "scattergeo": [
           {
            "marker": {
             "colorbar": {
              "outlinewidth": 0,
              "ticks": ""
             }
            },
            "type": "scattergeo"
           }
          ],
          "scattergl": [
           {
            "marker": {
             "colorbar": {
              "outlinewidth": 0,
              "ticks": ""
             }
            },
            "type": "scattergl"
           }
          ],
          "scattermapbox": [
           {
            "marker": {
             "colorbar": {
              "outlinewidth": 0,
              "ticks": ""
             }
            },
            "type": "scattermapbox"
           }
          ],
          "scatterpolar": [
           {
            "marker": {
             "colorbar": {
              "outlinewidth": 0,
              "ticks": ""
             }
            },
            "type": "scatterpolar"
           }
          ],
          "scatterpolargl": [
           {
            "marker": {
             "colorbar": {
              "outlinewidth": 0,
              "ticks": ""
             }
            },
            "type": "scatterpolargl"
           }
          ],
          "scatterternary": [
           {
            "marker": {
             "colorbar": {
              "outlinewidth": 0,
              "ticks": ""
             }
            },
            "type": "scatterternary"
           }
          ],
          "surface": [
           {
            "colorbar": {
             "outlinewidth": 0,
             "ticks": ""
            },
            "colorscale": [
             [
              0,
              "#0d0887"
             ],
             [
              0.1111111111111111,
              "#46039f"
             ],
             [
              0.2222222222222222,
              "#7201a8"
             ],
             [
              0.3333333333333333,
              "#9c179e"
             ],
             [
              0.4444444444444444,
              "#bd3786"
             ],
             [
              0.5555555555555556,
              "#d8576b"
             ],
             [
              0.6666666666666666,
              "#ed7953"
             ],
             [
              0.7777777777777778,
              "#fb9f3a"
             ],
             [
              0.8888888888888888,
              "#fdca26"
             ],
             [
              1,
              "#f0f921"
             ]
            ],
            "type": "surface"
           }
          ],
          "table": [
           {
            "cells": {
             "fill": {
              "color": "#EBF0F8"
             },
             "line": {
              "color": "white"
             }
            },
            "header": {
             "fill": {
              "color": "#C8D4E3"
             },
             "line": {
              "color": "white"
             }
            },
            "type": "table"
           }
          ]
         },
         "layout": {
          "annotationdefaults": {
           "arrowcolor": "#2a3f5f",
           "arrowhead": 0,
           "arrowwidth": 1
          },
          "autotypenumbers": "strict",
          "coloraxis": {
           "colorbar": {
            "outlinewidth": 0,
            "ticks": ""
           }
          },
          "colorscale": {
           "diverging": [
            [
             0,
             "#8e0152"
            ],
            [
             0.1,
             "#c51b7d"
            ],
            [
             0.2,
             "#de77ae"
            ],
            [
             0.3,
             "#f1b6da"
            ],
            [
             0.4,
             "#fde0ef"
            ],
            [
             0.5,
             "#f7f7f7"
            ],
            [
             0.6,
             "#e6f5d0"
            ],
            [
             0.7,
             "#b8e186"
            ],
            [
             0.8,
             "#7fbc41"
            ],
            [
             0.9,
             "#4d9221"
            ],
            [
             1,
             "#276419"
            ]
           ],
           "sequential": [
            [
             0,
             "#0d0887"
            ],
            [
             0.1111111111111111,
             "#46039f"
            ],
            [
             0.2222222222222222,
             "#7201a8"
            ],
            [
             0.3333333333333333,
             "#9c179e"
            ],
            [
             0.4444444444444444,
             "#bd3786"
            ],
            [
             0.5555555555555556,
             "#d8576b"
            ],
            [
             0.6666666666666666,
             "#ed7953"
            ],
            [
             0.7777777777777778,
             "#fb9f3a"
            ],
            [
             0.8888888888888888,
             "#fdca26"
            ],
            [
             1,
             "#f0f921"
            ]
           ],
           "sequentialminus": [
            [
             0,
             "#0d0887"
            ],
            [
             0.1111111111111111,
             "#46039f"
            ],
            [
             0.2222222222222222,
             "#7201a8"
            ],
            [
             0.3333333333333333,
             "#9c179e"
            ],
            [
             0.4444444444444444,
             "#bd3786"
            ],
            [
             0.5555555555555556,
             "#d8576b"
            ],
            [
             0.6666666666666666,
             "#ed7953"
            ],
            [
             0.7777777777777778,
             "#fb9f3a"
            ],
            [
             0.8888888888888888,
             "#fdca26"
            ],
            [
             1,
             "#f0f921"
            ]
           ]
          },
          "colorway": [
           "#636efa",
           "#EF553B",
           "#00cc96",
           "#ab63fa",
           "#FFA15A",
           "#19d3f3",
           "#FF6692",
           "#B6E880",
           "#FF97FF",
           "#FECB52"
          ],
          "font": {
           "color": "#2a3f5f"
          },
          "geo": {
           "bgcolor": "white",
           "lakecolor": "white",
           "landcolor": "#E5ECF6",
           "showlakes": true,
           "showland": true,
           "subunitcolor": "white"
          },
          "hoverlabel": {
           "align": "left"
          },
          "hovermode": "closest",
          "mapbox": {
           "style": "light"
          },
          "paper_bgcolor": "white",
          "plot_bgcolor": "#E5ECF6",
          "polar": {
           "angularaxis": {
            "gridcolor": "white",
            "linecolor": "white",
            "ticks": ""
           },
           "bgcolor": "#E5ECF6",
           "radialaxis": {
            "gridcolor": "white",
            "linecolor": "white",
            "ticks": ""
           }
          },
          "scene": {
           "xaxis": {
            "backgroundcolor": "#E5ECF6",
            "gridcolor": "white",
            "gridwidth": 2,
            "linecolor": "white",
            "showbackground": true,
            "ticks": "",
            "zerolinecolor": "white"
           },
           "yaxis": {
            "backgroundcolor": "#E5ECF6",
            "gridcolor": "white",
            "gridwidth": 2,
            "linecolor": "white",
            "showbackground": true,
            "ticks": "",
            "zerolinecolor": "white"
           },
           "zaxis": {
            "backgroundcolor": "#E5ECF6",
            "gridcolor": "white",
            "gridwidth": 2,
            "linecolor": "white",
            "showbackground": true,
            "ticks": "",
            "zerolinecolor": "white"
           }
          },
          "shapedefaults": {
           "line": {
            "color": "#2a3f5f"
           }
          },
          "ternary": {
           "aaxis": {
            "gridcolor": "white",
            "linecolor": "white",
            "ticks": ""
           },
           "baxis": {
            "gridcolor": "white",
            "linecolor": "white",
            "ticks": ""
           },
           "bgcolor": "#E5ECF6",
           "caxis": {
            "gridcolor": "white",
            "linecolor": "white",
            "ticks": ""
           }
          },
          "title": {
           "x": 0.05
          },
          "xaxis": {
           "automargin": true,
           "gridcolor": "white",
           "linecolor": "white",
           "ticks": "",
           "title": {
            "standoff": 15
           },
           "zerolinecolor": "white",
           "zerolinewidth": 2
          },
          "yaxis": {
           "automargin": true,
           "gridcolor": "white",
           "linecolor": "white",
           "ticks": "",
           "title": {
            "standoff": 15
           },
           "zerolinecolor": "white",
           "zerolinewidth": 2
          }
         }
        },
        "title": {
         "text": "Customer Ratings - After SMOTE (Oversampling)"
        },
        "xaxis": {
         "anchor": "y",
         "categoryarray": [
          "0.0",
          "1.0",
          "2.0",
          "3.0",
          "4.0"
         ],
         "categoryorder": "array",
         "domain": [
          0,
          1
         ],
         "title": {
          "text": "Ratings"
         }
        },
        "yaxis": {
         "anchor": "x",
         "domain": [
          0,
          1
         ],
         "title": {
          "text": "count"
         }
        }
       }
      },
      "text/html": [
       "<div>                            <div id=\"1fbf2487-04b3-4c48-805a-5689ab29f76c\" class=\"plotly-graph-div\" style=\"height:525px; width:100%;\"></div>            <script type=\"text/javascript\">                require([\"plotly\"], function(Plotly) {                    window.PLOTLYENV=window.PLOTLYENV || {};                                    if (document.getElementById(\"1fbf2487-04b3-4c48-805a-5689ab29f76c\")) {                    Plotly.newPlot(                        \"1fbf2487-04b3-4c48-805a-5689ab29f76c\",                        [{\"alignmentgroup\":\"True\",\"hovertemplate\":\"Ratings=%{x}<br>count=%{y}<extra></extra>\",\"legendgroup\":\"0.0\",\"marker\":{\"color\":\"red\",\"pattern\":{\"shape\":\"\"},\"line\":{\"width\":1.5}},\"name\":\"0.0\",\"offsetgroup\":\"0.0\",\"orientation\":\"v\",\"showlegend\":true,\"textposition\":\"outside\",\"texttemplate\":\"%{y:.2s}\",\"x\":[\"0.0\"],\"xaxis\":\"x\",\"y\":[11067],\"yaxis\":\"y\",\"type\":\"bar\",\"textfont\":{\"size\":12},\"cliponaxis\":false,\"opacity\":0.75,\"textangle\":0},{\"alignmentgroup\":\"True\",\"hovertemplate\":\"Ratings=%{x}<br>count=%{y}<extra></extra>\",\"legendgroup\":\"1.0\",\"marker\":{\"color\":\"orange\",\"pattern\":{\"shape\":\"\"},\"line\":{\"width\":1.5}},\"name\":\"1.0\",\"offsetgroup\":\"1.0\",\"orientation\":\"v\",\"showlegend\":true,\"textposition\":\"outside\",\"texttemplate\":\"%{y:.2s}\",\"x\":[\"1.0\"],\"xaxis\":\"x\",\"y\":[11155],\"yaxis\":\"y\",\"type\":\"bar\",\"textfont\":{\"size\":12},\"cliponaxis\":false,\"opacity\":0.75,\"textangle\":0},{\"alignmentgroup\":\"True\",\"hovertemplate\":\"Ratings=%{x}<br>count=%{y}<extra></extra>\",\"legendgroup\":\"2.0\",\"marker\":{\"color\":\"yellow\",\"pattern\":{\"shape\":\"\"},\"line\":{\"width\":1.5}},\"name\":\"2.0\",\"offsetgroup\":\"2.0\",\"orientation\":\"v\",\"showlegend\":true,\"textposition\":\"outside\",\"texttemplate\":\"%{y:.2s}\",\"x\":[\"2.0\"],\"xaxis\":\"x\",\"y\":[11182],\"yaxis\":\"y\",\"type\":\"bar\",\"textfont\":{\"size\":12},\"cliponaxis\":false,\"opacity\":0.75,\"textangle\":0},{\"alignmentgroup\":\"True\",\"hovertemplate\":\"Ratings=%{x}<br>count=%{y}<extra></extra>\",\"legendgroup\":\"3.0\",\"marker\":{\"color\":\"rgb(179,226,205)\",\"pattern\":{\"shape\":\"\"},\"line\":{\"width\":1.5}},\"name\":\"3.0\",\"offsetgroup\":\"3.0\",\"orientation\":\"v\",\"showlegend\":true,\"textposition\":\"outside\",\"texttemplate\":\"%{y:.2s}\",\"x\":[\"3.0\"],\"xaxis\":\"x\",\"y\":[11018],\"yaxis\":\"y\",\"type\":\"bar\",\"textfont\":{\"size\":12},\"cliponaxis\":false,\"opacity\":0.75,\"textangle\":0},{\"alignmentgroup\":\"True\",\"hovertemplate\":\"Ratings=%{x}<br>count=%{y}<extra></extra>\",\"legendgroup\":\"4.0\",\"marker\":{\"color\":\"rgb(27,158,119)\",\"pattern\":{\"shape\":\"\"},\"line\":{\"width\":1.5}},\"name\":\"4.0\",\"offsetgroup\":\"4.0\",\"orientation\":\"v\",\"showlegend\":true,\"textposition\":\"outside\",\"texttemplate\":\"%{y:.2s}\",\"x\":[\"4.0\"],\"xaxis\":\"x\",\"y\":[3397],\"yaxis\":\"y\",\"type\":\"bar\",\"textfont\":{\"size\":12},\"cliponaxis\":false,\"opacity\":0.75,\"textangle\":0}],                        {\"template\":{\"data\":{\"histogram2dcontour\":[{\"type\":\"histogram2dcontour\",\"colorbar\":{\"outlinewidth\":0,\"ticks\":\"\"},\"colorscale\":[[0.0,\"#0d0887\"],[0.1111111111111111,\"#46039f\"],[0.2222222222222222,\"#7201a8\"],[0.3333333333333333,\"#9c179e\"],[0.4444444444444444,\"#bd3786\"],[0.5555555555555556,\"#d8576b\"],[0.6666666666666666,\"#ed7953\"],[0.7777777777777778,\"#fb9f3a\"],[0.8888888888888888,\"#fdca26\"],[1.0,\"#f0f921\"]]}],\"choropleth\":[{\"type\":\"choropleth\",\"colorbar\":{\"outlinewidth\":0,\"ticks\":\"\"}}],\"histogram2d\":[{\"type\":\"histogram2d\",\"colorbar\":{\"outlinewidth\":0,\"ticks\":\"\"},\"colorscale\":[[0.0,\"#0d0887\"],[0.1111111111111111,\"#46039f\"],[0.2222222222222222,\"#7201a8\"],[0.3333333333333333,\"#9c179e\"],[0.4444444444444444,\"#bd3786\"],[0.5555555555555556,\"#d8576b\"],[0.6666666666666666,\"#ed7953\"],[0.7777777777777778,\"#fb9f3a\"],[0.8888888888888888,\"#fdca26\"],[1.0,\"#f0f921\"]]}],\"heatmap\":[{\"type\":\"heatmap\",\"colorbar\":{\"outlinewidth\":0,\"ticks\":\"\"},\"colorscale\":[[0.0,\"#0d0887\"],[0.1111111111111111,\"#46039f\"],[0.2222222222222222,\"#7201a8\"],[0.3333333333333333,\"#9c179e\"],[0.4444444444444444,\"#bd3786\"],[0.5555555555555556,\"#d8576b\"],[0.6666666666666666,\"#ed7953\"],[0.7777777777777778,\"#fb9f3a\"],[0.8888888888888888,\"#fdca26\"],[1.0,\"#f0f921\"]]}],\"heatmapgl\":[{\"type\":\"heatmapgl\",\"colorbar\":{\"outlinewidth\":0,\"ticks\":\"\"},\"colorscale\":[[0.0,\"#0d0887\"],[0.1111111111111111,\"#46039f\"],[0.2222222222222222,\"#7201a8\"],[0.3333333333333333,\"#9c179e\"],[0.4444444444444444,\"#bd3786\"],[0.5555555555555556,\"#d8576b\"],[0.6666666666666666,\"#ed7953\"],[0.7777777777777778,\"#fb9f3a\"],[0.8888888888888888,\"#fdca26\"],[1.0,\"#f0f921\"]]}],\"contourcarpet\":[{\"type\":\"contourcarpet\",\"colorbar\":{\"outlinewidth\":0,\"ticks\":\"\"}}],\"contour\":[{\"type\":\"contour\",\"colorbar\":{\"outlinewidth\":0,\"ticks\":\"\"},\"colorscale\":[[0.0,\"#0d0887\"],[0.1111111111111111,\"#46039f\"],[0.2222222222222222,\"#7201a8\"],[0.3333333333333333,\"#9c179e\"],[0.4444444444444444,\"#bd3786\"],[0.5555555555555556,\"#d8576b\"],[0.6666666666666666,\"#ed7953\"],[0.7777777777777778,\"#fb9f3a\"],[0.8888888888888888,\"#fdca26\"],[1.0,\"#f0f921\"]]}],\"surface\":[{\"type\":\"surface\",\"colorbar\":{\"outlinewidth\":0,\"ticks\":\"\"},\"colorscale\":[[0.0,\"#0d0887\"],[0.1111111111111111,\"#46039f\"],[0.2222222222222222,\"#7201a8\"],[0.3333333333333333,\"#9c179e\"],[0.4444444444444444,\"#bd3786\"],[0.5555555555555556,\"#d8576b\"],[0.6666666666666666,\"#ed7953\"],[0.7777777777777778,\"#fb9f3a\"],[0.8888888888888888,\"#fdca26\"],[1.0,\"#f0f921\"]]}],\"mesh3d\":[{\"type\":\"mesh3d\",\"colorbar\":{\"outlinewidth\":0,\"ticks\":\"\"}}],\"scatter\":[{\"fillpattern\":{\"fillmode\":\"overlay\",\"size\":10,\"solidity\":0.2},\"type\":\"scatter\"}],\"parcoords\":[{\"type\":\"parcoords\",\"line\":{\"colorbar\":{\"outlinewidth\":0,\"ticks\":\"\"}}}],\"scatterpolargl\":[{\"type\":\"scatterpolargl\",\"marker\":{\"colorbar\":{\"outlinewidth\":0,\"ticks\":\"\"}}}],\"bar\":[{\"error_x\":{\"color\":\"#2a3f5f\"},\"error_y\":{\"color\":\"#2a3f5f\"},\"marker\":{\"line\":{\"color\":\"#E5ECF6\",\"width\":0.5},\"pattern\":{\"fillmode\":\"overlay\",\"size\":10,\"solidity\":0.2}},\"type\":\"bar\"}],\"scattergeo\":[{\"type\":\"scattergeo\",\"marker\":{\"colorbar\":{\"outlinewidth\":0,\"ticks\":\"\"}}}],\"scatterpolar\":[{\"type\":\"scatterpolar\",\"marker\":{\"colorbar\":{\"outlinewidth\":0,\"ticks\":\"\"}}}],\"histogram\":[{\"marker\":{\"pattern\":{\"fillmode\":\"overlay\",\"size\":10,\"solidity\":0.2}},\"type\":\"histogram\"}],\"scattergl\":[{\"type\":\"scattergl\",\"marker\":{\"colorbar\":{\"outlinewidth\":0,\"ticks\":\"\"}}}],\"scatter3d\":[{\"type\":\"scatter3d\",\"line\":{\"colorbar\":{\"outlinewidth\":0,\"ticks\":\"\"}},\"marker\":{\"colorbar\":{\"outlinewidth\":0,\"ticks\":\"\"}}}],\"scattermapbox\":[{\"type\":\"scattermapbox\",\"marker\":{\"colorbar\":{\"outlinewidth\":0,\"ticks\":\"\"}}}],\"scatterternary\":[{\"type\":\"scatterternary\",\"marker\":{\"colorbar\":{\"outlinewidth\":0,\"ticks\":\"\"}}}],\"scattercarpet\":[{\"type\":\"scattercarpet\",\"marker\":{\"colorbar\":{\"outlinewidth\":0,\"ticks\":\"\"}}}],\"carpet\":[{\"aaxis\":{\"endlinecolor\":\"#2a3f5f\",\"gridcolor\":\"white\",\"linecolor\":\"white\",\"minorgridcolor\":\"white\",\"startlinecolor\":\"#2a3f5f\"},\"baxis\":{\"endlinecolor\":\"#2a3f5f\",\"gridcolor\":\"white\",\"linecolor\":\"white\",\"minorgridcolor\":\"white\",\"startlinecolor\":\"#2a3f5f\"},\"type\":\"carpet\"}],\"table\":[{\"cells\":{\"fill\":{\"color\":\"#EBF0F8\"},\"line\":{\"color\":\"white\"}},\"header\":{\"fill\":{\"color\":\"#C8D4E3\"},\"line\":{\"color\":\"white\"}},\"type\":\"table\"}],\"barpolar\":[{\"marker\":{\"line\":{\"color\":\"#E5ECF6\",\"width\":0.5},\"pattern\":{\"fillmode\":\"overlay\",\"size\":10,\"solidity\":0.2}},\"type\":\"barpolar\"}],\"pie\":[{\"automargin\":true,\"type\":\"pie\"}]},\"layout\":{\"autotypenumbers\":\"strict\",\"colorway\":[\"#636efa\",\"#EF553B\",\"#00cc96\",\"#ab63fa\",\"#FFA15A\",\"#19d3f3\",\"#FF6692\",\"#B6E880\",\"#FF97FF\",\"#FECB52\"],\"font\":{\"color\":\"#2a3f5f\"},\"hovermode\":\"closest\",\"hoverlabel\":{\"align\":\"left\"},\"paper_bgcolor\":\"white\",\"plot_bgcolor\":\"#E5ECF6\",\"polar\":{\"bgcolor\":\"#E5ECF6\",\"angularaxis\":{\"gridcolor\":\"white\",\"linecolor\":\"white\",\"ticks\":\"\"},\"radialaxis\":{\"gridcolor\":\"white\",\"linecolor\":\"white\",\"ticks\":\"\"}},\"ternary\":{\"bgcolor\":\"#E5ECF6\",\"aaxis\":{\"gridcolor\":\"white\",\"linecolor\":\"white\",\"ticks\":\"\"},\"baxis\":{\"gridcolor\":\"white\",\"linecolor\":\"white\",\"ticks\":\"\"},\"caxis\":{\"gridcolor\":\"white\",\"linecolor\":\"white\",\"ticks\":\"\"}},\"coloraxis\":{\"colorbar\":{\"outlinewidth\":0,\"ticks\":\"\"}},\"colorscale\":{\"sequential\":[[0.0,\"#0d0887\"],[0.1111111111111111,\"#46039f\"],[0.2222222222222222,\"#7201a8\"],[0.3333333333333333,\"#9c179e\"],[0.4444444444444444,\"#bd3786\"],[0.5555555555555556,\"#d8576b\"],[0.6666666666666666,\"#ed7953\"],[0.7777777777777778,\"#fb9f3a\"],[0.8888888888888888,\"#fdca26\"],[1.0,\"#f0f921\"]],\"sequentialminus\":[[0.0,\"#0d0887\"],[0.1111111111111111,\"#46039f\"],[0.2222222222222222,\"#7201a8\"],[0.3333333333333333,\"#9c179e\"],[0.4444444444444444,\"#bd3786\"],[0.5555555555555556,\"#d8576b\"],[0.6666666666666666,\"#ed7953\"],[0.7777777777777778,\"#fb9f3a\"],[0.8888888888888888,\"#fdca26\"],[1.0,\"#f0f921\"]],\"diverging\":[[0,\"#8e0152\"],[0.1,\"#c51b7d\"],[0.2,\"#de77ae\"],[0.3,\"#f1b6da\"],[0.4,\"#fde0ef\"],[0.5,\"#f7f7f7\"],[0.6,\"#e6f5d0\"],[0.7,\"#b8e186\"],[0.8,\"#7fbc41\"],[0.9,\"#4d9221\"],[1,\"#276419\"]]},\"xaxis\":{\"gridcolor\":\"white\",\"linecolor\":\"white\",\"ticks\":\"\",\"title\":{\"standoff\":15},\"zerolinecolor\":\"white\",\"automargin\":true,\"zerolinewidth\":2},\"yaxis\":{\"gridcolor\":\"white\",\"linecolor\":\"white\",\"ticks\":\"\",\"title\":{\"standoff\":15},\"zerolinecolor\":\"white\",\"automargin\":true,\"zerolinewidth\":2},\"scene\":{\"xaxis\":{\"backgroundcolor\":\"#E5ECF6\",\"gridcolor\":\"white\",\"linecolor\":\"white\",\"showbackground\":true,\"ticks\":\"\",\"zerolinecolor\":\"white\",\"gridwidth\":2},\"yaxis\":{\"backgroundcolor\":\"#E5ECF6\",\"gridcolor\":\"white\",\"linecolor\":\"white\",\"showbackground\":true,\"ticks\":\"\",\"zerolinecolor\":\"white\",\"gridwidth\":2},\"zaxis\":{\"backgroundcolor\":\"#E5ECF6\",\"gridcolor\":\"white\",\"linecolor\":\"white\",\"showbackground\":true,\"ticks\":\"\",\"zerolinecolor\":\"white\",\"gridwidth\":2}},\"shapedefaults\":{\"line\":{\"color\":\"#2a3f5f\"}},\"annotationdefaults\":{\"arrowcolor\":\"#2a3f5f\",\"arrowhead\":0,\"arrowwidth\":1},\"geo\":{\"bgcolor\":\"white\",\"landcolor\":\"#E5ECF6\",\"subunitcolor\":\"white\",\"showland\":true,\"showlakes\":true,\"lakecolor\":\"white\"},\"title\":{\"x\":0.05},\"mapbox\":{\"style\":\"light\"}}},\"xaxis\":{\"anchor\":\"y\",\"domain\":[0.0,1.0],\"title\":{\"text\":\"Ratings\"},\"categoryorder\":\"array\",\"categoryarray\":[\"0.0\",\"1.0\",\"2.0\",\"3.0\",\"4.0\"]},\"yaxis\":{\"anchor\":\"x\",\"domain\":[0.0,1.0],\"title\":{\"text\":\"count\"}},\"legend\":{\"title\":{\"text\":\"Ratings\"},\"tracegroupgap\":0},\"title\":{\"text\":\"Customer Ratings - After SMOTE (Oversampling)\"},\"barmode\":\"relative\"},                        {\"responsive\": true}                    ).then(function(){\n",
       "                            \n",
       "var gd = document.getElementById('1fbf2487-04b3-4c48-805a-5689ab29f76c');\n",
       "var x = new MutationObserver(function (mutations, observer) {{\n",
       "        var display = window.getComputedStyle(gd).display;\n",
       "        if (!display || display === 'none') {{\n",
       "            console.log([gd, 'removed!']);\n",
       "            Plotly.purge(gd);\n",
       "            observer.disconnect();\n",
       "        }}\n",
       "}});\n",
       "\n",
       "// Listen for the removal of the full notebook cells\n",
       "var notebookContainer = gd.closest('#notebook-container');\n",
       "if (notebookContainer) {{\n",
       "    x.observe(notebookContainer, {childList: true});\n",
       "}}\n",
       "\n",
       "// Listen for the clearing of the current output cell\n",
       "var outputEl = gd.closest('.output');\n",
       "if (outputEl) {{\n",
       "    x.observe(outputEl, {childList: true});\n",
       "}}\n",
       "\n",
       "                        })                };                });            </script>        </div>"
      ]
     },
     "metadata": {},
     "output_type": "display_data"
    }
   ],
   "source": [
    "# create a data frame to count the number of customer reviews by products and also rename a column as count\n",
    "rating_counts = pd.DataFrame(pd.DataFrame(Y_train_smote).rename(columns = {0:'review_star'}).value_counts()).reset_index().rename( \\\n",
    "    columns={'review_star': 'Ratings', 0:'count'})\n",
    "\n",
    "# add a sort index\n",
    "rating_counts['Ratings_for_sorting'] = rating_counts['Ratings']\n",
    "\n",
    "# convert ratings to str type for visualization\n",
    "rating_counts['Ratings'] = rating_counts['Ratings'].astype(str)\n",
    "\n",
    "# Sort order by custom column and display \n",
    "rating_counts.sort_values(by=['Ratings_for_sorting'], inplace = True)\n",
    "\n",
    "# use plotly to create a bar graph of number of reviews by brand and using customized color coding \n",
    "fig = px.bar(rating_counts, x=\"Ratings\", y=\"count\", color=\"Ratings\", \n",
    "             title= \"Customer Ratings - After SMOTE (Oversampling)\", text_auto = '.2s', \n",
    "             color_discrete_map={'0.0':'red', '1.0':'orange', '2.0': 'yellow',\n",
    "                                 '3.0':'rgb(179,226,205)', '4.0':'rgb(27,158,119)'})\n",
    "\n",
    "# figure customization\n",
    "fig.update_traces(textfont_size=12, textangle=0, textposition=\"outside\", cliponaxis=False,\n",
    " marker_line_width=1.5, opacity = 0.75)\n"
   ]
  },
  {
   "cell_type": "markdown",
   "id": "c1ff9b6f",
   "metadata": {
    "ExecuteTime": {
     "end_time": "2022-07-23T19:25:35.489042Z",
     "start_time": "2022-07-23T19:25:35.485279Z"
    }
   },
   "source": [
    "## Near-Missing Undersampling (Version 3)\n",
    "\n",
    "NearMiss-1 selects examples from the majority class that have the smallest average distance to the three closest examples from the minority class. NearMiss-2 selects examples from the majority class that have the smallest average distance to the three furthest examples from the minority class. NearMiss-3 involves selecting a given number of majority class examples for each example in the minority class that are closest.\n",
    "\n",
    "We will use version 3."
   ]
  },
  {
   "cell_type": "code",
   "execution_count": 11,
   "id": "9e9540c3",
   "metadata": {
    "ExecuteTime": {
     "end_time": "2022-07-23T20:15:05.219980Z",
     "start_time": "2022-07-23T20:15:04.959144Z"
    }
   },
   "outputs": [],
   "source": [
    "# near miss undersampling\n",
    "nr = NearMiss(version = 1, n_neighbors=3) \n",
    "\n",
    "# fit to training data only\n",
    "X_train_near, Y_train_near= nr.fit_resample(X_train, Y_train) \n"
   ]
  },
  {
   "cell_type": "markdown",
   "id": "2ddebc48",
   "metadata": {},
   "source": [
    "## Checking for Class Imbalance after Near-miss Undersampling "
   ]
  },
  {
   "cell_type": "code",
   "execution_count": 12,
   "id": "e2b5ff57",
   "metadata": {
    "ExecuteTime": {
     "end_time": "2022-07-23T20:15:05.322097Z",
     "start_time": "2022-07-23T20:15:05.222451Z"
    }
   },
   "outputs": [
    {
     "data": {
      "application/vnd.plotly.v1+json": {
       "config": {
        "plotlyServerURL": "https://plot.ly"
       },
       "data": [
        {
         "alignmentgroup": "True",
         "cliponaxis": false,
         "hovertemplate": "Ratings=%{x}<br>count=%{y}<extra></extra>",
         "legendgroup": "0.0",
         "marker": {
          "color": "red",
          "line": {
           "width": 1.5
          },
          "pattern": {
           "shape": ""
          }
         },
         "name": "0.0",
         "offsetgroup": "0.0",
         "opacity": 0.75,
         "orientation": "v",
         "showlegend": true,
         "textangle": 0,
         "textfont": {
          "size": 12
         },
         "textposition": "outside",
         "texttemplate": "%{y:.2s}",
         "type": "bar",
         "x": [
          "0.0"
         ],
         "xaxis": "x",
         "y": [
          451
         ],
         "yaxis": "y"
        },
        {
         "alignmentgroup": "True",
         "cliponaxis": false,
         "hovertemplate": "Ratings=%{x}<br>count=%{y}<extra></extra>",
         "legendgroup": "1.0",
         "marker": {
          "color": "orange",
          "line": {
           "width": 1.5
          },
          "pattern": {
           "shape": ""
          }
         },
         "name": "1.0",
         "offsetgroup": "1.0",
         "opacity": 0.75,
         "orientation": "v",
         "showlegend": true,
         "textangle": 0,
         "textfont": {
          "size": 12
         },
         "textposition": "outside",
         "texttemplate": "%{y:.2s}",
         "type": "bar",
         "x": [
          "1.0"
         ],
         "xaxis": "x",
         "y": [
          451
         ],
         "yaxis": "y"
        },
        {
         "alignmentgroup": "True",
         "cliponaxis": false,
         "hovertemplate": "Ratings=%{x}<br>count=%{y}<extra></extra>",
         "legendgroup": "2.0",
         "marker": {
          "color": "yellow",
          "line": {
           "width": 1.5
          },
          "pattern": {
           "shape": ""
          }
         },
         "name": "2.0",
         "offsetgroup": "2.0",
         "opacity": 0.75,
         "orientation": "v",
         "showlegend": true,
         "textangle": 0,
         "textfont": {
          "size": 12
         },
         "textposition": "outside",
         "texttemplate": "%{y:.2s}",
         "type": "bar",
         "x": [
          "2.0"
         ],
         "xaxis": "x",
         "y": [
          451
         ],
         "yaxis": "y"
        },
        {
         "alignmentgroup": "True",
         "cliponaxis": false,
         "hovertemplate": "Ratings=%{x}<br>count=%{y}<extra></extra>",
         "legendgroup": "3.0",
         "marker": {
          "color": "rgb(179,226,205)",
          "line": {
           "width": 1.5
          },
          "pattern": {
           "shape": ""
          }
         },
         "name": "3.0",
         "offsetgroup": "3.0",
         "opacity": 0.75,
         "orientation": "v",
         "showlegend": true,
         "textangle": 0,
         "textfont": {
          "size": 12
         },
         "textposition": "outside",
         "texttemplate": "%{y:.2s}",
         "type": "bar",
         "x": [
          "3.0"
         ],
         "xaxis": "x",
         "y": [
          451
         ],
         "yaxis": "y"
        },
        {
         "alignmentgroup": "True",
         "cliponaxis": false,
         "hovertemplate": "Ratings=%{x}<br>count=%{y}<extra></extra>",
         "legendgroup": "4.0",
         "marker": {
          "color": "rgb(27,158,119)",
          "line": {
           "width": 1.5
          },
          "pattern": {
           "shape": ""
          }
         },
         "name": "4.0",
         "offsetgroup": "4.0",
         "opacity": 0.75,
         "orientation": "v",
         "showlegend": true,
         "textangle": 0,
         "textfont": {
          "size": 12
         },
         "textposition": "outside",
         "texttemplate": "%{y:.2s}",
         "type": "bar",
         "x": [
          "4.0"
         ],
         "xaxis": "x",
         "y": [
          451
         ],
         "yaxis": "y"
        }
       ],
       "layout": {
        "barmode": "relative",
        "legend": {
         "title": {
          "text": "Ratings"
         },
         "tracegroupgap": 0
        },
        "template": {
         "data": {
          "bar": [
           {
            "error_x": {
             "color": "#2a3f5f"
            },
            "error_y": {
             "color": "#2a3f5f"
            },
            "marker": {
             "line": {
              "color": "#E5ECF6",
              "width": 0.5
             },
             "pattern": {
              "fillmode": "overlay",
              "size": 10,
              "solidity": 0.2
             }
            },
            "type": "bar"
           }
          ],
          "barpolar": [
           {
            "marker": {
             "line": {
              "color": "#E5ECF6",
              "width": 0.5
             },
             "pattern": {
              "fillmode": "overlay",
              "size": 10,
              "solidity": 0.2
             }
            },
            "type": "barpolar"
           }
          ],
          "carpet": [
           {
            "aaxis": {
             "endlinecolor": "#2a3f5f",
             "gridcolor": "white",
             "linecolor": "white",
             "minorgridcolor": "white",
             "startlinecolor": "#2a3f5f"
            },
            "baxis": {
             "endlinecolor": "#2a3f5f",
             "gridcolor": "white",
             "linecolor": "white",
             "minorgridcolor": "white",
             "startlinecolor": "#2a3f5f"
            },
            "type": "carpet"
           }
          ],
          "choropleth": [
           {
            "colorbar": {
             "outlinewidth": 0,
             "ticks": ""
            },
            "type": "choropleth"
           }
          ],
          "contour": [
           {
            "colorbar": {
             "outlinewidth": 0,
             "ticks": ""
            },
            "colorscale": [
             [
              0,
              "#0d0887"
             ],
             [
              0.1111111111111111,
              "#46039f"
             ],
             [
              0.2222222222222222,
              "#7201a8"
             ],
             [
              0.3333333333333333,
              "#9c179e"
             ],
             [
              0.4444444444444444,
              "#bd3786"
             ],
             [
              0.5555555555555556,
              "#d8576b"
             ],
             [
              0.6666666666666666,
              "#ed7953"
             ],
             [
              0.7777777777777778,
              "#fb9f3a"
             ],
             [
              0.8888888888888888,
              "#fdca26"
             ],
             [
              1,
              "#f0f921"
             ]
            ],
            "type": "contour"
           }
          ],
          "contourcarpet": [
           {
            "colorbar": {
             "outlinewidth": 0,
             "ticks": ""
            },
            "type": "contourcarpet"
           }
          ],
          "heatmap": [
           {
            "colorbar": {
             "outlinewidth": 0,
             "ticks": ""
            },
            "colorscale": [
             [
              0,
              "#0d0887"
             ],
             [
              0.1111111111111111,
              "#46039f"
             ],
             [
              0.2222222222222222,
              "#7201a8"
             ],
             [
              0.3333333333333333,
              "#9c179e"
             ],
             [
              0.4444444444444444,
              "#bd3786"
             ],
             [
              0.5555555555555556,
              "#d8576b"
             ],
             [
              0.6666666666666666,
              "#ed7953"
             ],
             [
              0.7777777777777778,
              "#fb9f3a"
             ],
             [
              0.8888888888888888,
              "#fdca26"
             ],
             [
              1,
              "#f0f921"
             ]
            ],
            "type": "heatmap"
           }
          ],
          "heatmapgl": [
           {
            "colorbar": {
             "outlinewidth": 0,
             "ticks": ""
            },
            "colorscale": [
             [
              0,
              "#0d0887"
             ],
             [
              0.1111111111111111,
              "#46039f"
             ],
             [
              0.2222222222222222,
              "#7201a8"
             ],
             [
              0.3333333333333333,
              "#9c179e"
             ],
             [
              0.4444444444444444,
              "#bd3786"
             ],
             [
              0.5555555555555556,
              "#d8576b"
             ],
             [
              0.6666666666666666,
              "#ed7953"
             ],
             [
              0.7777777777777778,
              "#fb9f3a"
             ],
             [
              0.8888888888888888,
              "#fdca26"
             ],
             [
              1,
              "#f0f921"
             ]
            ],
            "type": "heatmapgl"
           }
          ],
          "histogram": [
           {
            "marker": {
             "pattern": {
              "fillmode": "overlay",
              "size": 10,
              "solidity": 0.2
             }
            },
            "type": "histogram"
           }
          ],
          "histogram2d": [
           {
            "colorbar": {
             "outlinewidth": 0,
             "ticks": ""
            },
            "colorscale": [
             [
              0,
              "#0d0887"
             ],
             [
              0.1111111111111111,
              "#46039f"
             ],
             [
              0.2222222222222222,
              "#7201a8"
             ],
             [
              0.3333333333333333,
              "#9c179e"
             ],
             [
              0.4444444444444444,
              "#bd3786"
             ],
             [
              0.5555555555555556,
              "#d8576b"
             ],
             [
              0.6666666666666666,
              "#ed7953"
             ],
             [
              0.7777777777777778,
              "#fb9f3a"
             ],
             [
              0.8888888888888888,
              "#fdca26"
             ],
             [
              1,
              "#f0f921"
             ]
            ],
            "type": "histogram2d"
           }
          ],
          "histogram2dcontour": [
           {
            "colorbar": {
             "outlinewidth": 0,
             "ticks": ""
            },
            "colorscale": [
             [
              0,
              "#0d0887"
             ],
             [
              0.1111111111111111,
              "#46039f"
             ],
             [
              0.2222222222222222,
              "#7201a8"
             ],
             [
              0.3333333333333333,
              "#9c179e"
             ],
             [
              0.4444444444444444,
              "#bd3786"
             ],
             [
              0.5555555555555556,
              "#d8576b"
             ],
             [
              0.6666666666666666,
              "#ed7953"
             ],
             [
              0.7777777777777778,
              "#fb9f3a"
             ],
             [
              0.8888888888888888,
              "#fdca26"
             ],
             [
              1,
              "#f0f921"
             ]
            ],
            "type": "histogram2dcontour"
           }
          ],
          "mesh3d": [
           {
            "colorbar": {
             "outlinewidth": 0,
             "ticks": ""
            },
            "type": "mesh3d"
           }
          ],
          "parcoords": [
           {
            "line": {
             "colorbar": {
              "outlinewidth": 0,
              "ticks": ""
             }
            },
            "type": "parcoords"
           }
          ],
          "pie": [
           {
            "automargin": true,
            "type": "pie"
           }
          ],
          "scatter": [
           {
            "fillpattern": {
             "fillmode": "overlay",
             "size": 10,
             "solidity": 0.2
            },
            "type": "scatter"
           }
          ],
          "scatter3d": [
           {
            "line": {
             "colorbar": {
              "outlinewidth": 0,
              "ticks": ""
             }
            },
            "marker": {
             "colorbar": {
              "outlinewidth": 0,
              "ticks": ""
             }
            },
            "type": "scatter3d"
           }
          ],
          "scattercarpet": [
           {
            "marker": {
             "colorbar": {
              "outlinewidth": 0,
              "ticks": ""
             }
            },
            "type": "scattercarpet"
           }
          ],
          "scattergeo": [
           {
            "marker": {
             "colorbar": {
              "outlinewidth": 0,
              "ticks": ""
             }
            },
            "type": "scattergeo"
           }
          ],
          "scattergl": [
           {
            "marker": {
             "colorbar": {
              "outlinewidth": 0,
              "ticks": ""
             }
            },
            "type": "scattergl"
           }
          ],
          "scattermapbox": [
           {
            "marker": {
             "colorbar": {
              "outlinewidth": 0,
              "ticks": ""
             }
            },
            "type": "scattermapbox"
           }
          ],
          "scatterpolar": [
           {
            "marker": {
             "colorbar": {
              "outlinewidth": 0,
              "ticks": ""
             }
            },
            "type": "scatterpolar"
           }
          ],
          "scatterpolargl": [
           {
            "marker": {
             "colorbar": {
              "outlinewidth": 0,
              "ticks": ""
             }
            },
            "type": "scatterpolargl"
           }
          ],
          "scatterternary": [
           {
            "marker": {
             "colorbar": {
              "outlinewidth": 0,
              "ticks": ""
             }
            },
            "type": "scatterternary"
           }
          ],
          "surface": [
           {
            "colorbar": {
             "outlinewidth": 0,
             "ticks": ""
            },
            "colorscale": [
             [
              0,
              "#0d0887"
             ],
             [
              0.1111111111111111,
              "#46039f"
             ],
             [
              0.2222222222222222,
              "#7201a8"
             ],
             [
              0.3333333333333333,
              "#9c179e"
             ],
             [
              0.4444444444444444,
              "#bd3786"
             ],
             [
              0.5555555555555556,
              "#d8576b"
             ],
             [
              0.6666666666666666,
              "#ed7953"
             ],
             [
              0.7777777777777778,
              "#fb9f3a"
             ],
             [
              0.8888888888888888,
              "#fdca26"
             ],
             [
              1,
              "#f0f921"
             ]
            ],
            "type": "surface"
           }
          ],
          "table": [
           {
            "cells": {
             "fill": {
              "color": "#EBF0F8"
             },
             "line": {
              "color": "white"
             }
            },
            "header": {
             "fill": {
              "color": "#C8D4E3"
             },
             "line": {
              "color": "white"
             }
            },
            "type": "table"
           }
          ]
         },
         "layout": {
          "annotationdefaults": {
           "arrowcolor": "#2a3f5f",
           "arrowhead": 0,
           "arrowwidth": 1
          },
          "autotypenumbers": "strict",
          "coloraxis": {
           "colorbar": {
            "outlinewidth": 0,
            "ticks": ""
           }
          },
          "colorscale": {
           "diverging": [
            [
             0,
             "#8e0152"
            ],
            [
             0.1,
             "#c51b7d"
            ],
            [
             0.2,
             "#de77ae"
            ],
            [
             0.3,
             "#f1b6da"
            ],
            [
             0.4,
             "#fde0ef"
            ],
            [
             0.5,
             "#f7f7f7"
            ],
            [
             0.6,
             "#e6f5d0"
            ],
            [
             0.7,
             "#b8e186"
            ],
            [
             0.8,
             "#7fbc41"
            ],
            [
             0.9,
             "#4d9221"
            ],
            [
             1,
             "#276419"
            ]
           ],
           "sequential": [
            [
             0,
             "#0d0887"
            ],
            [
             0.1111111111111111,
             "#46039f"
            ],
            [
             0.2222222222222222,
             "#7201a8"
            ],
            [
             0.3333333333333333,
             "#9c179e"
            ],
            [
             0.4444444444444444,
             "#bd3786"
            ],
            [
             0.5555555555555556,
             "#d8576b"
            ],
            [
             0.6666666666666666,
             "#ed7953"
            ],
            [
             0.7777777777777778,
             "#fb9f3a"
            ],
            [
             0.8888888888888888,
             "#fdca26"
            ],
            [
             1,
             "#f0f921"
            ]
           ],
           "sequentialminus": [
            [
             0,
             "#0d0887"
            ],
            [
             0.1111111111111111,
             "#46039f"
            ],
            [
             0.2222222222222222,
             "#7201a8"
            ],
            [
             0.3333333333333333,
             "#9c179e"
            ],
            [
             0.4444444444444444,
             "#bd3786"
            ],
            [
             0.5555555555555556,
             "#d8576b"
            ],
            [
             0.6666666666666666,
             "#ed7953"
            ],
            [
             0.7777777777777778,
             "#fb9f3a"
            ],
            [
             0.8888888888888888,
             "#fdca26"
            ],
            [
             1,
             "#f0f921"
            ]
           ]
          },
          "colorway": [
           "#636efa",
           "#EF553B",
           "#00cc96",
           "#ab63fa",
           "#FFA15A",
           "#19d3f3",
           "#FF6692",
           "#B6E880",
           "#FF97FF",
           "#FECB52"
          ],
          "font": {
           "color": "#2a3f5f"
          },
          "geo": {
           "bgcolor": "white",
           "lakecolor": "white",
           "landcolor": "#E5ECF6",
           "showlakes": true,
           "showland": true,
           "subunitcolor": "white"
          },
          "hoverlabel": {
           "align": "left"
          },
          "hovermode": "closest",
          "mapbox": {
           "style": "light"
          },
          "paper_bgcolor": "white",
          "plot_bgcolor": "#E5ECF6",
          "polar": {
           "angularaxis": {
            "gridcolor": "white",
            "linecolor": "white",
            "ticks": ""
           },
           "bgcolor": "#E5ECF6",
           "radialaxis": {
            "gridcolor": "white",
            "linecolor": "white",
            "ticks": ""
           }
          },
          "scene": {
           "xaxis": {
            "backgroundcolor": "#E5ECF6",
            "gridcolor": "white",
            "gridwidth": 2,
            "linecolor": "white",
            "showbackground": true,
            "ticks": "",
            "zerolinecolor": "white"
           },
           "yaxis": {
            "backgroundcolor": "#E5ECF6",
            "gridcolor": "white",
            "gridwidth": 2,
            "linecolor": "white",
            "showbackground": true,
            "ticks": "",
            "zerolinecolor": "white"
           },
           "zaxis": {
            "backgroundcolor": "#E5ECF6",
            "gridcolor": "white",
            "gridwidth": 2,
            "linecolor": "white",
            "showbackground": true,
            "ticks": "",
            "zerolinecolor": "white"
           }
          },
          "shapedefaults": {
           "line": {
            "color": "#2a3f5f"
           }
          },
          "ternary": {
           "aaxis": {
            "gridcolor": "white",
            "linecolor": "white",
            "ticks": ""
           },
           "baxis": {
            "gridcolor": "white",
            "linecolor": "white",
            "ticks": ""
           },
           "bgcolor": "#E5ECF6",
           "caxis": {
            "gridcolor": "white",
            "linecolor": "white",
            "ticks": ""
           }
          },
          "title": {
           "x": 0.05
          },
          "xaxis": {
           "automargin": true,
           "gridcolor": "white",
           "linecolor": "white",
           "ticks": "",
           "title": {
            "standoff": 15
           },
           "zerolinecolor": "white",
           "zerolinewidth": 2
          },
          "yaxis": {
           "automargin": true,
           "gridcolor": "white",
           "linecolor": "white",
           "ticks": "",
           "title": {
            "standoff": 15
           },
           "zerolinecolor": "white",
           "zerolinewidth": 2
          }
         }
        },
        "title": {
         "text": "Customer Ratings - After Near-Miss Undersampling"
        },
        "xaxis": {
         "anchor": "y",
         "categoryarray": [
          "0.0",
          "1.0",
          "2.0",
          "3.0",
          "4.0"
         ],
         "categoryorder": "array",
         "domain": [
          0,
          1
         ],
         "title": {
          "text": "Ratings"
         }
        },
        "yaxis": {
         "anchor": "x",
         "domain": [
          0,
          1
         ],
         "title": {
          "text": "count"
         }
        }
       }
      },
      "text/html": [
       "<div>                            <div id=\"a0ba21ff-75eb-46e0-af75-ee2bf2fb8348\" class=\"plotly-graph-div\" style=\"height:525px; width:100%;\"></div>            <script type=\"text/javascript\">                require([\"plotly\"], function(Plotly) {                    window.PLOTLYENV=window.PLOTLYENV || {};                                    if (document.getElementById(\"a0ba21ff-75eb-46e0-af75-ee2bf2fb8348\")) {                    Plotly.newPlot(                        \"a0ba21ff-75eb-46e0-af75-ee2bf2fb8348\",                        [{\"alignmentgroup\":\"True\",\"hovertemplate\":\"Ratings=%{x}<br>count=%{y}<extra></extra>\",\"legendgroup\":\"0.0\",\"marker\":{\"color\":\"red\",\"pattern\":{\"shape\":\"\"},\"line\":{\"width\":1.5}},\"name\":\"0.0\",\"offsetgroup\":\"0.0\",\"orientation\":\"v\",\"showlegend\":true,\"textposition\":\"outside\",\"texttemplate\":\"%{y:.2s}\",\"x\":[\"0.0\"],\"xaxis\":\"x\",\"y\":[451],\"yaxis\":\"y\",\"type\":\"bar\",\"textfont\":{\"size\":12},\"cliponaxis\":false,\"opacity\":0.75,\"textangle\":0},{\"alignmentgroup\":\"True\",\"hovertemplate\":\"Ratings=%{x}<br>count=%{y}<extra></extra>\",\"legendgroup\":\"1.0\",\"marker\":{\"color\":\"orange\",\"pattern\":{\"shape\":\"\"},\"line\":{\"width\":1.5}},\"name\":\"1.0\",\"offsetgroup\":\"1.0\",\"orientation\":\"v\",\"showlegend\":true,\"textposition\":\"outside\",\"texttemplate\":\"%{y:.2s}\",\"x\":[\"1.0\"],\"xaxis\":\"x\",\"y\":[451],\"yaxis\":\"y\",\"type\":\"bar\",\"textfont\":{\"size\":12},\"cliponaxis\":false,\"opacity\":0.75,\"textangle\":0},{\"alignmentgroup\":\"True\",\"hovertemplate\":\"Ratings=%{x}<br>count=%{y}<extra></extra>\",\"legendgroup\":\"2.0\",\"marker\":{\"color\":\"yellow\",\"pattern\":{\"shape\":\"\"},\"line\":{\"width\":1.5}},\"name\":\"2.0\",\"offsetgroup\":\"2.0\",\"orientation\":\"v\",\"showlegend\":true,\"textposition\":\"outside\",\"texttemplate\":\"%{y:.2s}\",\"x\":[\"2.0\"],\"xaxis\":\"x\",\"y\":[451],\"yaxis\":\"y\",\"type\":\"bar\",\"textfont\":{\"size\":12},\"cliponaxis\":false,\"opacity\":0.75,\"textangle\":0},{\"alignmentgroup\":\"True\",\"hovertemplate\":\"Ratings=%{x}<br>count=%{y}<extra></extra>\",\"legendgroup\":\"3.0\",\"marker\":{\"color\":\"rgb(179,226,205)\",\"pattern\":{\"shape\":\"\"},\"line\":{\"width\":1.5}},\"name\":\"3.0\",\"offsetgroup\":\"3.0\",\"orientation\":\"v\",\"showlegend\":true,\"textposition\":\"outside\",\"texttemplate\":\"%{y:.2s}\",\"x\":[\"3.0\"],\"xaxis\":\"x\",\"y\":[451],\"yaxis\":\"y\",\"type\":\"bar\",\"textfont\":{\"size\":12},\"cliponaxis\":false,\"opacity\":0.75,\"textangle\":0},{\"alignmentgroup\":\"True\",\"hovertemplate\":\"Ratings=%{x}<br>count=%{y}<extra></extra>\",\"legendgroup\":\"4.0\",\"marker\":{\"color\":\"rgb(27,158,119)\",\"pattern\":{\"shape\":\"\"},\"line\":{\"width\":1.5}},\"name\":\"4.0\",\"offsetgroup\":\"4.0\",\"orientation\":\"v\",\"showlegend\":true,\"textposition\":\"outside\",\"texttemplate\":\"%{y:.2s}\",\"x\":[\"4.0\"],\"xaxis\":\"x\",\"y\":[451],\"yaxis\":\"y\",\"type\":\"bar\",\"textfont\":{\"size\":12},\"cliponaxis\":false,\"opacity\":0.75,\"textangle\":0}],                        {\"template\":{\"data\":{\"histogram2dcontour\":[{\"type\":\"histogram2dcontour\",\"colorbar\":{\"outlinewidth\":0,\"ticks\":\"\"},\"colorscale\":[[0.0,\"#0d0887\"],[0.1111111111111111,\"#46039f\"],[0.2222222222222222,\"#7201a8\"],[0.3333333333333333,\"#9c179e\"],[0.4444444444444444,\"#bd3786\"],[0.5555555555555556,\"#d8576b\"],[0.6666666666666666,\"#ed7953\"],[0.7777777777777778,\"#fb9f3a\"],[0.8888888888888888,\"#fdca26\"],[1.0,\"#f0f921\"]]}],\"choropleth\":[{\"type\":\"choropleth\",\"colorbar\":{\"outlinewidth\":0,\"ticks\":\"\"}}],\"histogram2d\":[{\"type\":\"histogram2d\",\"colorbar\":{\"outlinewidth\":0,\"ticks\":\"\"},\"colorscale\":[[0.0,\"#0d0887\"],[0.1111111111111111,\"#46039f\"],[0.2222222222222222,\"#7201a8\"],[0.3333333333333333,\"#9c179e\"],[0.4444444444444444,\"#bd3786\"],[0.5555555555555556,\"#d8576b\"],[0.6666666666666666,\"#ed7953\"],[0.7777777777777778,\"#fb9f3a\"],[0.8888888888888888,\"#fdca26\"],[1.0,\"#f0f921\"]]}],\"heatmap\":[{\"type\":\"heatmap\",\"colorbar\":{\"outlinewidth\":0,\"ticks\":\"\"},\"colorscale\":[[0.0,\"#0d0887\"],[0.1111111111111111,\"#46039f\"],[0.2222222222222222,\"#7201a8\"],[0.3333333333333333,\"#9c179e\"],[0.4444444444444444,\"#bd3786\"],[0.5555555555555556,\"#d8576b\"],[0.6666666666666666,\"#ed7953\"],[0.7777777777777778,\"#fb9f3a\"],[0.8888888888888888,\"#fdca26\"],[1.0,\"#f0f921\"]]}],\"heatmapgl\":[{\"type\":\"heatmapgl\",\"colorbar\":{\"outlinewidth\":0,\"ticks\":\"\"},\"colorscale\":[[0.0,\"#0d0887\"],[0.1111111111111111,\"#46039f\"],[0.2222222222222222,\"#7201a8\"],[0.3333333333333333,\"#9c179e\"],[0.4444444444444444,\"#bd3786\"],[0.5555555555555556,\"#d8576b\"],[0.6666666666666666,\"#ed7953\"],[0.7777777777777778,\"#fb9f3a\"],[0.8888888888888888,\"#fdca26\"],[1.0,\"#f0f921\"]]}],\"contourcarpet\":[{\"type\":\"contourcarpet\",\"colorbar\":{\"outlinewidth\":0,\"ticks\":\"\"}}],\"contour\":[{\"type\":\"contour\",\"colorbar\":{\"outlinewidth\":0,\"ticks\":\"\"},\"colorscale\":[[0.0,\"#0d0887\"],[0.1111111111111111,\"#46039f\"],[0.2222222222222222,\"#7201a8\"],[0.3333333333333333,\"#9c179e\"],[0.4444444444444444,\"#bd3786\"],[0.5555555555555556,\"#d8576b\"],[0.6666666666666666,\"#ed7953\"],[0.7777777777777778,\"#fb9f3a\"],[0.8888888888888888,\"#fdca26\"],[1.0,\"#f0f921\"]]}],\"surface\":[{\"type\":\"surface\",\"colorbar\":{\"outlinewidth\":0,\"ticks\":\"\"},\"colorscale\":[[0.0,\"#0d0887\"],[0.1111111111111111,\"#46039f\"],[0.2222222222222222,\"#7201a8\"],[0.3333333333333333,\"#9c179e\"],[0.4444444444444444,\"#bd3786\"],[0.5555555555555556,\"#d8576b\"],[0.6666666666666666,\"#ed7953\"],[0.7777777777777778,\"#fb9f3a\"],[0.8888888888888888,\"#fdca26\"],[1.0,\"#f0f921\"]]}],\"mesh3d\":[{\"type\":\"mesh3d\",\"colorbar\":{\"outlinewidth\":0,\"ticks\":\"\"}}],\"scatter\":[{\"fillpattern\":{\"fillmode\":\"overlay\",\"size\":10,\"solidity\":0.2},\"type\":\"scatter\"}],\"parcoords\":[{\"type\":\"parcoords\",\"line\":{\"colorbar\":{\"outlinewidth\":0,\"ticks\":\"\"}}}],\"scatterpolargl\":[{\"type\":\"scatterpolargl\",\"marker\":{\"colorbar\":{\"outlinewidth\":0,\"ticks\":\"\"}}}],\"bar\":[{\"error_x\":{\"color\":\"#2a3f5f\"},\"error_y\":{\"color\":\"#2a3f5f\"},\"marker\":{\"line\":{\"color\":\"#E5ECF6\",\"width\":0.5},\"pattern\":{\"fillmode\":\"overlay\",\"size\":10,\"solidity\":0.2}},\"type\":\"bar\"}],\"scattergeo\":[{\"type\":\"scattergeo\",\"marker\":{\"colorbar\":{\"outlinewidth\":0,\"ticks\":\"\"}}}],\"scatterpolar\":[{\"type\":\"scatterpolar\",\"marker\":{\"colorbar\":{\"outlinewidth\":0,\"ticks\":\"\"}}}],\"histogram\":[{\"marker\":{\"pattern\":{\"fillmode\":\"overlay\",\"size\":10,\"solidity\":0.2}},\"type\":\"histogram\"}],\"scattergl\":[{\"type\":\"scattergl\",\"marker\":{\"colorbar\":{\"outlinewidth\":0,\"ticks\":\"\"}}}],\"scatter3d\":[{\"type\":\"scatter3d\",\"line\":{\"colorbar\":{\"outlinewidth\":0,\"ticks\":\"\"}},\"marker\":{\"colorbar\":{\"outlinewidth\":0,\"ticks\":\"\"}}}],\"scattermapbox\":[{\"type\":\"scattermapbox\",\"marker\":{\"colorbar\":{\"outlinewidth\":0,\"ticks\":\"\"}}}],\"scatterternary\":[{\"type\":\"scatterternary\",\"marker\":{\"colorbar\":{\"outlinewidth\":0,\"ticks\":\"\"}}}],\"scattercarpet\":[{\"type\":\"scattercarpet\",\"marker\":{\"colorbar\":{\"outlinewidth\":0,\"ticks\":\"\"}}}],\"carpet\":[{\"aaxis\":{\"endlinecolor\":\"#2a3f5f\",\"gridcolor\":\"white\",\"linecolor\":\"white\",\"minorgridcolor\":\"white\",\"startlinecolor\":\"#2a3f5f\"},\"baxis\":{\"endlinecolor\":\"#2a3f5f\",\"gridcolor\":\"white\",\"linecolor\":\"white\",\"minorgridcolor\":\"white\",\"startlinecolor\":\"#2a3f5f\"},\"type\":\"carpet\"}],\"table\":[{\"cells\":{\"fill\":{\"color\":\"#EBF0F8\"},\"line\":{\"color\":\"white\"}},\"header\":{\"fill\":{\"color\":\"#C8D4E3\"},\"line\":{\"color\":\"white\"}},\"type\":\"table\"}],\"barpolar\":[{\"marker\":{\"line\":{\"color\":\"#E5ECF6\",\"width\":0.5},\"pattern\":{\"fillmode\":\"overlay\",\"size\":10,\"solidity\":0.2}},\"type\":\"barpolar\"}],\"pie\":[{\"automargin\":true,\"type\":\"pie\"}]},\"layout\":{\"autotypenumbers\":\"strict\",\"colorway\":[\"#636efa\",\"#EF553B\",\"#00cc96\",\"#ab63fa\",\"#FFA15A\",\"#19d3f3\",\"#FF6692\",\"#B6E880\",\"#FF97FF\",\"#FECB52\"],\"font\":{\"color\":\"#2a3f5f\"},\"hovermode\":\"closest\",\"hoverlabel\":{\"align\":\"left\"},\"paper_bgcolor\":\"white\",\"plot_bgcolor\":\"#E5ECF6\",\"polar\":{\"bgcolor\":\"#E5ECF6\",\"angularaxis\":{\"gridcolor\":\"white\",\"linecolor\":\"white\",\"ticks\":\"\"},\"radialaxis\":{\"gridcolor\":\"white\",\"linecolor\":\"white\",\"ticks\":\"\"}},\"ternary\":{\"bgcolor\":\"#E5ECF6\",\"aaxis\":{\"gridcolor\":\"white\",\"linecolor\":\"white\",\"ticks\":\"\"},\"baxis\":{\"gridcolor\":\"white\",\"linecolor\":\"white\",\"ticks\":\"\"},\"caxis\":{\"gridcolor\":\"white\",\"linecolor\":\"white\",\"ticks\":\"\"}},\"coloraxis\":{\"colorbar\":{\"outlinewidth\":0,\"ticks\":\"\"}},\"colorscale\":{\"sequential\":[[0.0,\"#0d0887\"],[0.1111111111111111,\"#46039f\"],[0.2222222222222222,\"#7201a8\"],[0.3333333333333333,\"#9c179e\"],[0.4444444444444444,\"#bd3786\"],[0.5555555555555556,\"#d8576b\"],[0.6666666666666666,\"#ed7953\"],[0.7777777777777778,\"#fb9f3a\"],[0.8888888888888888,\"#fdca26\"],[1.0,\"#f0f921\"]],\"sequentialminus\":[[0.0,\"#0d0887\"],[0.1111111111111111,\"#46039f\"],[0.2222222222222222,\"#7201a8\"],[0.3333333333333333,\"#9c179e\"],[0.4444444444444444,\"#bd3786\"],[0.5555555555555556,\"#d8576b\"],[0.6666666666666666,\"#ed7953\"],[0.7777777777777778,\"#fb9f3a\"],[0.8888888888888888,\"#fdca26\"],[1.0,\"#f0f921\"]],\"diverging\":[[0,\"#8e0152\"],[0.1,\"#c51b7d\"],[0.2,\"#de77ae\"],[0.3,\"#f1b6da\"],[0.4,\"#fde0ef\"],[0.5,\"#f7f7f7\"],[0.6,\"#e6f5d0\"],[0.7,\"#b8e186\"],[0.8,\"#7fbc41\"],[0.9,\"#4d9221\"],[1,\"#276419\"]]},\"xaxis\":{\"gridcolor\":\"white\",\"linecolor\":\"white\",\"ticks\":\"\",\"title\":{\"standoff\":15},\"zerolinecolor\":\"white\",\"automargin\":true,\"zerolinewidth\":2},\"yaxis\":{\"gridcolor\":\"white\",\"linecolor\":\"white\",\"ticks\":\"\",\"title\":{\"standoff\":15},\"zerolinecolor\":\"white\",\"automargin\":true,\"zerolinewidth\":2},\"scene\":{\"xaxis\":{\"backgroundcolor\":\"#E5ECF6\",\"gridcolor\":\"white\",\"linecolor\":\"white\",\"showbackground\":true,\"ticks\":\"\",\"zerolinecolor\":\"white\",\"gridwidth\":2},\"yaxis\":{\"backgroundcolor\":\"#E5ECF6\",\"gridcolor\":\"white\",\"linecolor\":\"white\",\"showbackground\":true,\"ticks\":\"\",\"zerolinecolor\":\"white\",\"gridwidth\":2},\"zaxis\":{\"backgroundcolor\":\"#E5ECF6\",\"gridcolor\":\"white\",\"linecolor\":\"white\",\"showbackground\":true,\"ticks\":\"\",\"zerolinecolor\":\"white\",\"gridwidth\":2}},\"shapedefaults\":{\"line\":{\"color\":\"#2a3f5f\"}},\"annotationdefaults\":{\"arrowcolor\":\"#2a3f5f\",\"arrowhead\":0,\"arrowwidth\":1},\"geo\":{\"bgcolor\":\"white\",\"landcolor\":\"#E5ECF6\",\"subunitcolor\":\"white\",\"showland\":true,\"showlakes\":true,\"lakecolor\":\"white\"},\"title\":{\"x\":0.05},\"mapbox\":{\"style\":\"light\"}}},\"xaxis\":{\"anchor\":\"y\",\"domain\":[0.0,1.0],\"title\":{\"text\":\"Ratings\"},\"categoryorder\":\"array\",\"categoryarray\":[\"0.0\",\"1.0\",\"2.0\",\"3.0\",\"4.0\"]},\"yaxis\":{\"anchor\":\"x\",\"domain\":[0.0,1.0],\"title\":{\"text\":\"count\"}},\"legend\":{\"title\":{\"text\":\"Ratings\"},\"tracegroupgap\":0},\"title\":{\"text\":\"Customer Ratings - After Near-Miss Undersampling\"},\"barmode\":\"relative\"},                        {\"responsive\": true}                    ).then(function(){\n",
       "                            \n",
       "var gd = document.getElementById('a0ba21ff-75eb-46e0-af75-ee2bf2fb8348');\n",
       "var x = new MutationObserver(function (mutations, observer) {{\n",
       "        var display = window.getComputedStyle(gd).display;\n",
       "        if (!display || display === 'none') {{\n",
       "            console.log([gd, 'removed!']);\n",
       "            Plotly.purge(gd);\n",
       "            observer.disconnect();\n",
       "        }}\n",
       "}});\n",
       "\n",
       "// Listen for the removal of the full notebook cells\n",
       "var notebookContainer = gd.closest('#notebook-container');\n",
       "if (notebookContainer) {{\n",
       "    x.observe(notebookContainer, {childList: true});\n",
       "}}\n",
       "\n",
       "// Listen for the clearing of the current output cell\n",
       "var outputEl = gd.closest('.output');\n",
       "if (outputEl) {{\n",
       "    x.observe(outputEl, {childList: true});\n",
       "}}\n",
       "\n",
       "                        })                };                });            </script>        </div>"
      ]
     },
     "metadata": {},
     "output_type": "display_data"
    }
   ],
   "source": [
    "# create a data frame to count the number of customer reviews by products and also rename a column as count\n",
    "rating_counts = pd.DataFrame(pd.DataFrame(Y_train_near).rename(columns = {0:'review_star'}).value_counts()).reset_index().rename( \\\n",
    "    columns={'review_star': 'Ratings', 0:'count'})\n",
    "\n",
    "# add a sort index\n",
    "rating_counts['Ratings_for_sorting'] = rating_counts['Ratings']\n",
    "\n",
    "# convert ratings to str type for visualization\n",
    "rating_counts['Ratings'] = rating_counts['Ratings'].astype(str)\n",
    "\n",
    "# Sort order by custom column and display \n",
    "rating_counts.sort_values(by=['Ratings_for_sorting'], inplace = True)\n",
    "\n",
    "# use plotly to create a bar graph of number of reviews by brand and using customized color coding \n",
    "fig = px.bar(rating_counts, x=\"Ratings\", y=\"count\", color=\"Ratings\", \n",
    "             title= \"Customer Ratings - After Near-Miss Undersampling\", text_auto = '.2s', \n",
    "             color_discrete_map={'0.0':'red', '1.0':'orange', '2.0': 'yellow',\n",
    "                                 '3.0':'rgb(179,226,205)', '4.0':'rgb(27,158,119)'})\n",
    "\n",
    "# figure customization\n",
    "fig.update_traces(textfont_size=12, textangle=0, textposition=\"outside\", cliponaxis=False,\n",
    " marker_line_width=1.5, opacity = 0.75)"
   ]
  },
  {
   "cell_type": "markdown",
   "id": "cd5872b3",
   "metadata": {},
   "source": [
    "## One-Sided Selection Undersampling\n",
    "\n",
    "One-Sided Selection, or OSS for short, is an undersampling technique that combines Tomek Links and the Condensed Nearest Neighbor (CNN) Rule."
   ]
  },
  {
   "cell_type": "code",
   "execution_count": 13,
   "id": "1f8ebd2f",
   "metadata": {
    "ExecuteTime": {
     "end_time": "2022-07-23T20:15:10.265702Z",
     "start_time": "2022-07-23T20:15:05.324724Z"
    }
   },
   "outputs": [],
   "source": [
    "# condensed nearest neighbor undersampling\n",
    "oss = OneSidedSelection(n_neighbors=1, n_seeds_S=200)\n",
    "\n",
    "# fit to training data only\n",
    "X_train_oss, Y_train_oss= oss.fit_resample(X_train, Y_train) "
   ]
  },
  {
   "cell_type": "markdown",
   "id": "d875b755",
   "metadata": {},
   "source": [
    "## Checking for Class Imbalance after One-Sided Selection Undersampling"
   ]
  },
  {
   "cell_type": "code",
   "execution_count": 14,
   "id": "632ae861",
   "metadata": {
    "ExecuteTime": {
     "end_time": "2022-07-23T20:15:10.394606Z",
     "start_time": "2022-07-23T20:15:10.273321Z"
    }
   },
   "outputs": [
    {
     "data": {
      "application/vnd.plotly.v1+json": {
       "config": {
        "plotlyServerURL": "https://plot.ly"
       },
       "data": [
        {
         "alignmentgroup": "True",
         "cliponaxis": false,
         "hovertemplate": "Ratings=%{x}<br>count=%{y}<extra></extra>",
         "legendgroup": "0.0",
         "marker": {
          "color": "red",
          "line": {
           "width": 1.5
          },
          "pattern": {
           "shape": ""
          }
         },
         "name": "0.0",
         "offsetgroup": "0.0",
         "opacity": 0.75,
         "orientation": "v",
         "showlegend": true,
         "textangle": 0,
         "textfont": {
          "size": 12
         },
         "textposition": "outside",
         "texttemplate": "%{y:.2s}",
         "type": "bar",
         "x": [
          "0.0"
         ],
         "xaxis": "x",
         "y": [
          1035
         ],
         "yaxis": "y"
        },
        {
         "alignmentgroup": "True",
         "cliponaxis": false,
         "hovertemplate": "Ratings=%{x}<br>count=%{y}<extra></extra>",
         "legendgroup": "1.0",
         "marker": {
          "color": "orange",
          "line": {
           "width": 1.5
          },
          "pattern": {
           "shape": ""
          }
         },
         "name": "1.0",
         "offsetgroup": "1.0",
         "opacity": 0.75,
         "orientation": "v",
         "showlegend": true,
         "textangle": 0,
         "textfont": {
          "size": 12
         },
         "textposition": "outside",
         "texttemplate": "%{y:.2s}",
         "type": "bar",
         "x": [
          "1.0"
         ],
         "xaxis": "x",
         "y": [
          451
         ],
         "yaxis": "y"
        },
        {
         "alignmentgroup": "True",
         "cliponaxis": false,
         "hovertemplate": "Ratings=%{x}<br>count=%{y}<extra></extra>",
         "legendgroup": "2.0",
         "marker": {
          "color": "yellow",
          "line": {
           "width": 1.5
          },
          "pattern": {
           "shape": ""
          }
         },
         "name": "2.0",
         "offsetgroup": "2.0",
         "opacity": 0.75,
         "orientation": "v",
         "showlegend": true,
         "textangle": 0,
         "textfont": {
          "size": 12
         },
         "textposition": "outside",
         "texttemplate": "%{y:.2s}",
         "type": "bar",
         "x": [
          "2.0"
         ],
         "xaxis": "x",
         "y": [
          548
         ],
         "yaxis": "y"
        },
        {
         "alignmentgroup": "True",
         "cliponaxis": false,
         "hovertemplate": "Ratings=%{x}<br>count=%{y}<extra></extra>",
         "legendgroup": "3.0",
         "marker": {
          "color": "rgb(179,226,205)",
          "line": {
           "width": 1.5
          },
          "pattern": {
           "shape": ""
          }
         },
         "name": "3.0",
         "offsetgroup": "3.0",
         "opacity": 0.75,
         "orientation": "v",
         "showlegend": true,
         "textangle": 0,
         "textfont": {
          "size": 12
         },
         "textposition": "outside",
         "texttemplate": "%{y:.2s}",
         "type": "bar",
         "x": [
          "3.0"
         ],
         "xaxis": "x",
         "y": [
          715
         ],
         "yaxis": "y"
        },
        {
         "alignmentgroup": "True",
         "cliponaxis": false,
         "hovertemplate": "Ratings=%{x}<br>count=%{y}<extra></extra>",
         "legendgroup": "4.0",
         "marker": {
          "color": "rgb(27,158,119)",
          "line": {
           "width": 1.5
          },
          "pattern": {
           "shape": ""
          }
         },
         "name": "4.0",
         "offsetgroup": "4.0",
         "opacity": 0.75,
         "orientation": "v",
         "showlegend": true,
         "textangle": 0,
         "textfont": {
          "size": 12
         },
         "textposition": "outside",
         "texttemplate": "%{y:.2s}",
         "type": "bar",
         "x": [
          "4.0"
         ],
         "xaxis": "x",
         "y": [
          9064
         ],
         "yaxis": "y"
        }
       ],
       "layout": {
        "barmode": "relative",
        "legend": {
         "title": {
          "text": "Ratings"
         },
         "tracegroupgap": 0
        },
        "template": {
         "data": {
          "bar": [
           {
            "error_x": {
             "color": "#2a3f5f"
            },
            "error_y": {
             "color": "#2a3f5f"
            },
            "marker": {
             "line": {
              "color": "#E5ECF6",
              "width": 0.5
             },
             "pattern": {
              "fillmode": "overlay",
              "size": 10,
              "solidity": 0.2
             }
            },
            "type": "bar"
           }
          ],
          "barpolar": [
           {
            "marker": {
             "line": {
              "color": "#E5ECF6",
              "width": 0.5
             },
             "pattern": {
              "fillmode": "overlay",
              "size": 10,
              "solidity": 0.2
             }
            },
            "type": "barpolar"
           }
          ],
          "carpet": [
           {
            "aaxis": {
             "endlinecolor": "#2a3f5f",
             "gridcolor": "white",
             "linecolor": "white",
             "minorgridcolor": "white",
             "startlinecolor": "#2a3f5f"
            },
            "baxis": {
             "endlinecolor": "#2a3f5f",
             "gridcolor": "white",
             "linecolor": "white",
             "minorgridcolor": "white",
             "startlinecolor": "#2a3f5f"
            },
            "type": "carpet"
           }
          ],
          "choropleth": [
           {
            "colorbar": {
             "outlinewidth": 0,
             "ticks": ""
            },
            "type": "choropleth"
           }
          ],
          "contour": [
           {
            "colorbar": {
             "outlinewidth": 0,
             "ticks": ""
            },
            "colorscale": [
             [
              0,
              "#0d0887"
             ],
             [
              0.1111111111111111,
              "#46039f"
             ],
             [
              0.2222222222222222,
              "#7201a8"
             ],
             [
              0.3333333333333333,
              "#9c179e"
             ],
             [
              0.4444444444444444,
              "#bd3786"
             ],
             [
              0.5555555555555556,
              "#d8576b"
             ],
             [
              0.6666666666666666,
              "#ed7953"
             ],
             [
              0.7777777777777778,
              "#fb9f3a"
             ],
             [
              0.8888888888888888,
              "#fdca26"
             ],
             [
              1,
              "#f0f921"
             ]
            ],
            "type": "contour"
           }
          ],
          "contourcarpet": [
           {
            "colorbar": {
             "outlinewidth": 0,
             "ticks": ""
            },
            "type": "contourcarpet"
           }
          ],
          "heatmap": [
           {
            "colorbar": {
             "outlinewidth": 0,
             "ticks": ""
            },
            "colorscale": [
             [
              0,
              "#0d0887"
             ],
             [
              0.1111111111111111,
              "#46039f"
             ],
             [
              0.2222222222222222,
              "#7201a8"
             ],
             [
              0.3333333333333333,
              "#9c179e"
             ],
             [
              0.4444444444444444,
              "#bd3786"
             ],
             [
              0.5555555555555556,
              "#d8576b"
             ],
             [
              0.6666666666666666,
              "#ed7953"
             ],
             [
              0.7777777777777778,
              "#fb9f3a"
             ],
             [
              0.8888888888888888,
              "#fdca26"
             ],
             [
              1,
              "#f0f921"
             ]
            ],
            "type": "heatmap"
           }
          ],
          "heatmapgl": [
           {
            "colorbar": {
             "outlinewidth": 0,
             "ticks": ""
            },
            "colorscale": [
             [
              0,
              "#0d0887"
             ],
             [
              0.1111111111111111,
              "#46039f"
             ],
             [
              0.2222222222222222,
              "#7201a8"
             ],
             [
              0.3333333333333333,
              "#9c179e"
             ],
             [
              0.4444444444444444,
              "#bd3786"
             ],
             [
              0.5555555555555556,
              "#d8576b"
             ],
             [
              0.6666666666666666,
              "#ed7953"
             ],
             [
              0.7777777777777778,
              "#fb9f3a"
             ],
             [
              0.8888888888888888,
              "#fdca26"
             ],
             [
              1,
              "#f0f921"
             ]
            ],
            "type": "heatmapgl"
           }
          ],
          "histogram": [
           {
            "marker": {
             "pattern": {
              "fillmode": "overlay",
              "size": 10,
              "solidity": 0.2
             }
            },
            "type": "histogram"
           }
          ],
          "histogram2d": [
           {
            "colorbar": {
             "outlinewidth": 0,
             "ticks": ""
            },
            "colorscale": [
             [
              0,
              "#0d0887"
             ],
             [
              0.1111111111111111,
              "#46039f"
             ],
             [
              0.2222222222222222,
              "#7201a8"
             ],
             [
              0.3333333333333333,
              "#9c179e"
             ],
             [
              0.4444444444444444,
              "#bd3786"
             ],
             [
              0.5555555555555556,
              "#d8576b"
             ],
             [
              0.6666666666666666,
              "#ed7953"
             ],
             [
              0.7777777777777778,
              "#fb9f3a"
             ],
             [
              0.8888888888888888,
              "#fdca26"
             ],
             [
              1,
              "#f0f921"
             ]
            ],
            "type": "histogram2d"
           }
          ],
          "histogram2dcontour": [
           {
            "colorbar": {
             "outlinewidth": 0,
             "ticks": ""
            },
            "colorscale": [
             [
              0,
              "#0d0887"
             ],
             [
              0.1111111111111111,
              "#46039f"
             ],
             [
              0.2222222222222222,
              "#7201a8"
             ],
             [
              0.3333333333333333,
              "#9c179e"
             ],
             [
              0.4444444444444444,
              "#bd3786"
             ],
             [
              0.5555555555555556,
              "#d8576b"
             ],
             [
              0.6666666666666666,
              "#ed7953"
             ],
             [
              0.7777777777777778,
              "#fb9f3a"
             ],
             [
              0.8888888888888888,
              "#fdca26"
             ],
             [
              1,
              "#f0f921"
             ]
            ],
            "type": "histogram2dcontour"
           }
          ],
          "mesh3d": [
           {
            "colorbar": {
             "outlinewidth": 0,
             "ticks": ""
            },
            "type": "mesh3d"
           }
          ],
          "parcoords": [
           {
            "line": {
             "colorbar": {
              "outlinewidth": 0,
              "ticks": ""
             }
            },
            "type": "parcoords"
           }
          ],
          "pie": [
           {
            "automargin": true,
            "type": "pie"
           }
          ],
          "scatter": [
           {
            "fillpattern": {
             "fillmode": "overlay",
             "size": 10,
             "solidity": 0.2
            },
            "type": "scatter"
           }
          ],
          "scatter3d": [
           {
            "line": {
             "colorbar": {
              "outlinewidth": 0,
              "ticks": ""
             }
            },
            "marker": {
             "colorbar": {
              "outlinewidth": 0,
              "ticks": ""
             }
            },
            "type": "scatter3d"
           }
          ],
          "scattercarpet": [
           {
            "marker": {
             "colorbar": {
              "outlinewidth": 0,
              "ticks": ""
             }
            },
            "type": "scattercarpet"
           }
          ],
          "scattergeo": [
           {
            "marker": {
             "colorbar": {
              "outlinewidth": 0,
              "ticks": ""
             }
            },
            "type": "scattergeo"
           }
          ],
          "scattergl": [
           {
            "marker": {
             "colorbar": {
              "outlinewidth": 0,
              "ticks": ""
             }
            },
            "type": "scattergl"
           }
          ],
          "scattermapbox": [
           {
            "marker": {
             "colorbar": {
              "outlinewidth": 0,
              "ticks": ""
             }
            },
            "type": "scattermapbox"
           }
          ],
          "scatterpolar": [
           {
            "marker": {
             "colorbar": {
              "outlinewidth": 0,
              "ticks": ""
             }
            },
            "type": "scatterpolar"
           }
          ],
          "scatterpolargl": [
           {
            "marker": {
             "colorbar": {
              "outlinewidth": 0,
              "ticks": ""
             }
            },
            "type": "scatterpolargl"
           }
          ],
          "scatterternary": [
           {
            "marker": {
             "colorbar": {
              "outlinewidth": 0,
              "ticks": ""
             }
            },
            "type": "scatterternary"
           }
          ],
          "surface": [
           {
            "colorbar": {
             "outlinewidth": 0,
             "ticks": ""
            },
            "colorscale": [
             [
              0,
              "#0d0887"
             ],
             [
              0.1111111111111111,
              "#46039f"
             ],
             [
              0.2222222222222222,
              "#7201a8"
             ],
             [
              0.3333333333333333,
              "#9c179e"
             ],
             [
              0.4444444444444444,
              "#bd3786"
             ],
             [
              0.5555555555555556,
              "#d8576b"
             ],
             [
              0.6666666666666666,
              "#ed7953"
             ],
             [
              0.7777777777777778,
              "#fb9f3a"
             ],
             [
              0.8888888888888888,
              "#fdca26"
             ],
             [
              1,
              "#f0f921"
             ]
            ],
            "type": "surface"
           }
          ],
          "table": [
           {
            "cells": {
             "fill": {
              "color": "#EBF0F8"
             },
             "line": {
              "color": "white"
             }
            },
            "header": {
             "fill": {
              "color": "#C8D4E3"
             },
             "line": {
              "color": "white"
             }
            },
            "type": "table"
           }
          ]
         },
         "layout": {
          "annotationdefaults": {
           "arrowcolor": "#2a3f5f",
           "arrowhead": 0,
           "arrowwidth": 1
          },
          "autotypenumbers": "strict",
          "coloraxis": {
           "colorbar": {
            "outlinewidth": 0,
            "ticks": ""
           }
          },
          "colorscale": {
           "diverging": [
            [
             0,
             "#8e0152"
            ],
            [
             0.1,
             "#c51b7d"
            ],
            [
             0.2,
             "#de77ae"
            ],
            [
             0.3,
             "#f1b6da"
            ],
            [
             0.4,
             "#fde0ef"
            ],
            [
             0.5,
             "#f7f7f7"
            ],
            [
             0.6,
             "#e6f5d0"
            ],
            [
             0.7,
             "#b8e186"
            ],
            [
             0.8,
             "#7fbc41"
            ],
            [
             0.9,
             "#4d9221"
            ],
            [
             1,
             "#276419"
            ]
           ],
           "sequential": [
            [
             0,
             "#0d0887"
            ],
            [
             0.1111111111111111,
             "#46039f"
            ],
            [
             0.2222222222222222,
             "#7201a8"
            ],
            [
             0.3333333333333333,
             "#9c179e"
            ],
            [
             0.4444444444444444,
             "#bd3786"
            ],
            [
             0.5555555555555556,
             "#d8576b"
            ],
            [
             0.6666666666666666,
             "#ed7953"
            ],
            [
             0.7777777777777778,
             "#fb9f3a"
            ],
            [
             0.8888888888888888,
             "#fdca26"
            ],
            [
             1,
             "#f0f921"
            ]
           ],
           "sequentialminus": [
            [
             0,
             "#0d0887"
            ],
            [
             0.1111111111111111,
             "#46039f"
            ],
            [
             0.2222222222222222,
             "#7201a8"
            ],
            [
             0.3333333333333333,
             "#9c179e"
            ],
            [
             0.4444444444444444,
             "#bd3786"
            ],
            [
             0.5555555555555556,
             "#d8576b"
            ],
            [
             0.6666666666666666,
             "#ed7953"
            ],
            [
             0.7777777777777778,
             "#fb9f3a"
            ],
            [
             0.8888888888888888,
             "#fdca26"
            ],
            [
             1,
             "#f0f921"
            ]
           ]
          },
          "colorway": [
           "#636efa",
           "#EF553B",
           "#00cc96",
           "#ab63fa",
           "#FFA15A",
           "#19d3f3",
           "#FF6692",
           "#B6E880",
           "#FF97FF",
           "#FECB52"
          ],
          "font": {
           "color": "#2a3f5f"
          },
          "geo": {
           "bgcolor": "white",
           "lakecolor": "white",
           "landcolor": "#E5ECF6",
           "showlakes": true,
           "showland": true,
           "subunitcolor": "white"
          },
          "hoverlabel": {
           "align": "left"
          },
          "hovermode": "closest",
          "mapbox": {
           "style": "light"
          },
          "paper_bgcolor": "white",
          "plot_bgcolor": "#E5ECF6",
          "polar": {
           "angularaxis": {
            "gridcolor": "white",
            "linecolor": "white",
            "ticks": ""
           },
           "bgcolor": "#E5ECF6",
           "radialaxis": {
            "gridcolor": "white",
            "linecolor": "white",
            "ticks": ""
           }
          },
          "scene": {
           "xaxis": {
            "backgroundcolor": "#E5ECF6",
            "gridcolor": "white",
            "gridwidth": 2,
            "linecolor": "white",
            "showbackground": true,
            "ticks": "",
            "zerolinecolor": "white"
           },
           "yaxis": {
            "backgroundcolor": "#E5ECF6",
            "gridcolor": "white",
            "gridwidth": 2,
            "linecolor": "white",
            "showbackground": true,
            "ticks": "",
            "zerolinecolor": "white"
           },
           "zaxis": {
            "backgroundcolor": "#E5ECF6",
            "gridcolor": "white",
            "gridwidth": 2,
            "linecolor": "white",
            "showbackground": true,
            "ticks": "",
            "zerolinecolor": "white"
           }
          },
          "shapedefaults": {
           "line": {
            "color": "#2a3f5f"
           }
          },
          "ternary": {
           "aaxis": {
            "gridcolor": "white",
            "linecolor": "white",
            "ticks": ""
           },
           "baxis": {
            "gridcolor": "white",
            "linecolor": "white",
            "ticks": ""
           },
           "bgcolor": "#E5ECF6",
           "caxis": {
            "gridcolor": "white",
            "linecolor": "white",
            "ticks": ""
           }
          },
          "title": {
           "x": 0.05
          },
          "xaxis": {
           "automargin": true,
           "gridcolor": "white",
           "linecolor": "white",
           "ticks": "",
           "title": {
            "standoff": 15
           },
           "zerolinecolor": "white",
           "zerolinewidth": 2
          },
          "yaxis": {
           "automargin": true,
           "gridcolor": "white",
           "linecolor": "white",
           "ticks": "",
           "title": {
            "standoff": 15
           },
           "zerolinecolor": "white",
           "zerolinewidth": 2
          }
         }
        },
        "title": {
         "text": "Customer Ratings - After One-Sided Selection Undersampling"
        },
        "xaxis": {
         "anchor": "y",
         "categoryarray": [
          "0.0",
          "1.0",
          "2.0",
          "3.0",
          "4.0"
         ],
         "categoryorder": "array",
         "domain": [
          0,
          1
         ],
         "title": {
          "text": "Ratings"
         }
        },
        "yaxis": {
         "anchor": "x",
         "domain": [
          0,
          1
         ],
         "title": {
          "text": "count"
         }
        }
       }
      },
      "text/html": [
       "<div>                            <div id=\"b01218cf-a99b-4b70-be52-5d083187be47\" class=\"plotly-graph-div\" style=\"height:525px; width:100%;\"></div>            <script type=\"text/javascript\">                require([\"plotly\"], function(Plotly) {                    window.PLOTLYENV=window.PLOTLYENV || {};                                    if (document.getElementById(\"b01218cf-a99b-4b70-be52-5d083187be47\")) {                    Plotly.newPlot(                        \"b01218cf-a99b-4b70-be52-5d083187be47\",                        [{\"alignmentgroup\":\"True\",\"hovertemplate\":\"Ratings=%{x}<br>count=%{y}<extra></extra>\",\"legendgroup\":\"0.0\",\"marker\":{\"color\":\"red\",\"pattern\":{\"shape\":\"\"},\"line\":{\"width\":1.5}},\"name\":\"0.0\",\"offsetgroup\":\"0.0\",\"orientation\":\"v\",\"showlegend\":true,\"textposition\":\"outside\",\"texttemplate\":\"%{y:.2s}\",\"x\":[\"0.0\"],\"xaxis\":\"x\",\"y\":[1035],\"yaxis\":\"y\",\"type\":\"bar\",\"textfont\":{\"size\":12},\"cliponaxis\":false,\"opacity\":0.75,\"textangle\":0},{\"alignmentgroup\":\"True\",\"hovertemplate\":\"Ratings=%{x}<br>count=%{y}<extra></extra>\",\"legendgroup\":\"1.0\",\"marker\":{\"color\":\"orange\",\"pattern\":{\"shape\":\"\"},\"line\":{\"width\":1.5}},\"name\":\"1.0\",\"offsetgroup\":\"1.0\",\"orientation\":\"v\",\"showlegend\":true,\"textposition\":\"outside\",\"texttemplate\":\"%{y:.2s}\",\"x\":[\"1.0\"],\"xaxis\":\"x\",\"y\":[451],\"yaxis\":\"y\",\"type\":\"bar\",\"textfont\":{\"size\":12},\"cliponaxis\":false,\"opacity\":0.75,\"textangle\":0},{\"alignmentgroup\":\"True\",\"hovertemplate\":\"Ratings=%{x}<br>count=%{y}<extra></extra>\",\"legendgroup\":\"2.0\",\"marker\":{\"color\":\"yellow\",\"pattern\":{\"shape\":\"\"},\"line\":{\"width\":1.5}},\"name\":\"2.0\",\"offsetgroup\":\"2.0\",\"orientation\":\"v\",\"showlegend\":true,\"textposition\":\"outside\",\"texttemplate\":\"%{y:.2s}\",\"x\":[\"2.0\"],\"xaxis\":\"x\",\"y\":[548],\"yaxis\":\"y\",\"type\":\"bar\",\"textfont\":{\"size\":12},\"cliponaxis\":false,\"opacity\":0.75,\"textangle\":0},{\"alignmentgroup\":\"True\",\"hovertemplate\":\"Ratings=%{x}<br>count=%{y}<extra></extra>\",\"legendgroup\":\"3.0\",\"marker\":{\"color\":\"rgb(179,226,205)\",\"pattern\":{\"shape\":\"\"},\"line\":{\"width\":1.5}},\"name\":\"3.0\",\"offsetgroup\":\"3.0\",\"orientation\":\"v\",\"showlegend\":true,\"textposition\":\"outside\",\"texttemplate\":\"%{y:.2s}\",\"x\":[\"3.0\"],\"xaxis\":\"x\",\"y\":[715],\"yaxis\":\"y\",\"type\":\"bar\",\"textfont\":{\"size\":12},\"cliponaxis\":false,\"opacity\":0.75,\"textangle\":0},{\"alignmentgroup\":\"True\",\"hovertemplate\":\"Ratings=%{x}<br>count=%{y}<extra></extra>\",\"legendgroup\":\"4.0\",\"marker\":{\"color\":\"rgb(27,158,119)\",\"pattern\":{\"shape\":\"\"},\"line\":{\"width\":1.5}},\"name\":\"4.0\",\"offsetgroup\":\"4.0\",\"orientation\":\"v\",\"showlegend\":true,\"textposition\":\"outside\",\"texttemplate\":\"%{y:.2s}\",\"x\":[\"4.0\"],\"xaxis\":\"x\",\"y\":[9064],\"yaxis\":\"y\",\"type\":\"bar\",\"textfont\":{\"size\":12},\"cliponaxis\":false,\"opacity\":0.75,\"textangle\":0}],                        {\"template\":{\"data\":{\"histogram2dcontour\":[{\"type\":\"histogram2dcontour\",\"colorbar\":{\"outlinewidth\":0,\"ticks\":\"\"},\"colorscale\":[[0.0,\"#0d0887\"],[0.1111111111111111,\"#46039f\"],[0.2222222222222222,\"#7201a8\"],[0.3333333333333333,\"#9c179e\"],[0.4444444444444444,\"#bd3786\"],[0.5555555555555556,\"#d8576b\"],[0.6666666666666666,\"#ed7953\"],[0.7777777777777778,\"#fb9f3a\"],[0.8888888888888888,\"#fdca26\"],[1.0,\"#f0f921\"]]}],\"choropleth\":[{\"type\":\"choropleth\",\"colorbar\":{\"outlinewidth\":0,\"ticks\":\"\"}}],\"histogram2d\":[{\"type\":\"histogram2d\",\"colorbar\":{\"outlinewidth\":0,\"ticks\":\"\"},\"colorscale\":[[0.0,\"#0d0887\"],[0.1111111111111111,\"#46039f\"],[0.2222222222222222,\"#7201a8\"],[0.3333333333333333,\"#9c179e\"],[0.4444444444444444,\"#bd3786\"],[0.5555555555555556,\"#d8576b\"],[0.6666666666666666,\"#ed7953\"],[0.7777777777777778,\"#fb9f3a\"],[0.8888888888888888,\"#fdca26\"],[1.0,\"#f0f921\"]]}],\"heatmap\":[{\"type\":\"heatmap\",\"colorbar\":{\"outlinewidth\":0,\"ticks\":\"\"},\"colorscale\":[[0.0,\"#0d0887\"],[0.1111111111111111,\"#46039f\"],[0.2222222222222222,\"#7201a8\"],[0.3333333333333333,\"#9c179e\"],[0.4444444444444444,\"#bd3786\"],[0.5555555555555556,\"#d8576b\"],[0.6666666666666666,\"#ed7953\"],[0.7777777777777778,\"#fb9f3a\"],[0.8888888888888888,\"#fdca26\"],[1.0,\"#f0f921\"]]}],\"heatmapgl\":[{\"type\":\"heatmapgl\",\"colorbar\":{\"outlinewidth\":0,\"ticks\":\"\"},\"colorscale\":[[0.0,\"#0d0887\"],[0.1111111111111111,\"#46039f\"],[0.2222222222222222,\"#7201a8\"],[0.3333333333333333,\"#9c179e\"],[0.4444444444444444,\"#bd3786\"],[0.5555555555555556,\"#d8576b\"],[0.6666666666666666,\"#ed7953\"],[0.7777777777777778,\"#fb9f3a\"],[0.8888888888888888,\"#fdca26\"],[1.0,\"#f0f921\"]]}],\"contourcarpet\":[{\"type\":\"contourcarpet\",\"colorbar\":{\"outlinewidth\":0,\"ticks\":\"\"}}],\"contour\":[{\"type\":\"contour\",\"colorbar\":{\"outlinewidth\":0,\"ticks\":\"\"},\"colorscale\":[[0.0,\"#0d0887\"],[0.1111111111111111,\"#46039f\"],[0.2222222222222222,\"#7201a8\"],[0.3333333333333333,\"#9c179e\"],[0.4444444444444444,\"#bd3786\"],[0.5555555555555556,\"#d8576b\"],[0.6666666666666666,\"#ed7953\"],[0.7777777777777778,\"#fb9f3a\"],[0.8888888888888888,\"#fdca26\"],[1.0,\"#f0f921\"]]}],\"surface\":[{\"type\":\"surface\",\"colorbar\":{\"outlinewidth\":0,\"ticks\":\"\"},\"colorscale\":[[0.0,\"#0d0887\"],[0.1111111111111111,\"#46039f\"],[0.2222222222222222,\"#7201a8\"],[0.3333333333333333,\"#9c179e\"],[0.4444444444444444,\"#bd3786\"],[0.5555555555555556,\"#d8576b\"],[0.6666666666666666,\"#ed7953\"],[0.7777777777777778,\"#fb9f3a\"],[0.8888888888888888,\"#fdca26\"],[1.0,\"#f0f921\"]]}],\"mesh3d\":[{\"type\":\"mesh3d\",\"colorbar\":{\"outlinewidth\":0,\"ticks\":\"\"}}],\"scatter\":[{\"fillpattern\":{\"fillmode\":\"overlay\",\"size\":10,\"solidity\":0.2},\"type\":\"scatter\"}],\"parcoords\":[{\"type\":\"parcoords\",\"line\":{\"colorbar\":{\"outlinewidth\":0,\"ticks\":\"\"}}}],\"scatterpolargl\":[{\"type\":\"scatterpolargl\",\"marker\":{\"colorbar\":{\"outlinewidth\":0,\"ticks\":\"\"}}}],\"bar\":[{\"error_x\":{\"color\":\"#2a3f5f\"},\"error_y\":{\"color\":\"#2a3f5f\"},\"marker\":{\"line\":{\"color\":\"#E5ECF6\",\"width\":0.5},\"pattern\":{\"fillmode\":\"overlay\",\"size\":10,\"solidity\":0.2}},\"type\":\"bar\"}],\"scattergeo\":[{\"type\":\"scattergeo\",\"marker\":{\"colorbar\":{\"outlinewidth\":0,\"ticks\":\"\"}}}],\"scatterpolar\":[{\"type\":\"scatterpolar\",\"marker\":{\"colorbar\":{\"outlinewidth\":0,\"ticks\":\"\"}}}],\"histogram\":[{\"marker\":{\"pattern\":{\"fillmode\":\"overlay\",\"size\":10,\"solidity\":0.2}},\"type\":\"histogram\"}],\"scattergl\":[{\"type\":\"scattergl\",\"marker\":{\"colorbar\":{\"outlinewidth\":0,\"ticks\":\"\"}}}],\"scatter3d\":[{\"type\":\"scatter3d\",\"line\":{\"colorbar\":{\"outlinewidth\":0,\"ticks\":\"\"}},\"marker\":{\"colorbar\":{\"outlinewidth\":0,\"ticks\":\"\"}}}],\"scattermapbox\":[{\"type\":\"scattermapbox\",\"marker\":{\"colorbar\":{\"outlinewidth\":0,\"ticks\":\"\"}}}],\"scatterternary\":[{\"type\":\"scatterternary\",\"marker\":{\"colorbar\":{\"outlinewidth\":0,\"ticks\":\"\"}}}],\"scattercarpet\":[{\"type\":\"scattercarpet\",\"marker\":{\"colorbar\":{\"outlinewidth\":0,\"ticks\":\"\"}}}],\"carpet\":[{\"aaxis\":{\"endlinecolor\":\"#2a3f5f\",\"gridcolor\":\"white\",\"linecolor\":\"white\",\"minorgridcolor\":\"white\",\"startlinecolor\":\"#2a3f5f\"},\"baxis\":{\"endlinecolor\":\"#2a3f5f\",\"gridcolor\":\"white\",\"linecolor\":\"white\",\"minorgridcolor\":\"white\",\"startlinecolor\":\"#2a3f5f\"},\"type\":\"carpet\"}],\"table\":[{\"cells\":{\"fill\":{\"color\":\"#EBF0F8\"},\"line\":{\"color\":\"white\"}},\"header\":{\"fill\":{\"color\":\"#C8D4E3\"},\"line\":{\"color\":\"white\"}},\"type\":\"table\"}],\"barpolar\":[{\"marker\":{\"line\":{\"color\":\"#E5ECF6\",\"width\":0.5},\"pattern\":{\"fillmode\":\"overlay\",\"size\":10,\"solidity\":0.2}},\"type\":\"barpolar\"}],\"pie\":[{\"automargin\":true,\"type\":\"pie\"}]},\"layout\":{\"autotypenumbers\":\"strict\",\"colorway\":[\"#636efa\",\"#EF553B\",\"#00cc96\",\"#ab63fa\",\"#FFA15A\",\"#19d3f3\",\"#FF6692\",\"#B6E880\",\"#FF97FF\",\"#FECB52\"],\"font\":{\"color\":\"#2a3f5f\"},\"hovermode\":\"closest\",\"hoverlabel\":{\"align\":\"left\"},\"paper_bgcolor\":\"white\",\"plot_bgcolor\":\"#E5ECF6\",\"polar\":{\"bgcolor\":\"#E5ECF6\",\"angularaxis\":{\"gridcolor\":\"white\",\"linecolor\":\"white\",\"ticks\":\"\"},\"radialaxis\":{\"gridcolor\":\"white\",\"linecolor\":\"white\",\"ticks\":\"\"}},\"ternary\":{\"bgcolor\":\"#E5ECF6\",\"aaxis\":{\"gridcolor\":\"white\",\"linecolor\":\"white\",\"ticks\":\"\"},\"baxis\":{\"gridcolor\":\"white\",\"linecolor\":\"white\",\"ticks\":\"\"},\"caxis\":{\"gridcolor\":\"white\",\"linecolor\":\"white\",\"ticks\":\"\"}},\"coloraxis\":{\"colorbar\":{\"outlinewidth\":0,\"ticks\":\"\"}},\"colorscale\":{\"sequential\":[[0.0,\"#0d0887\"],[0.1111111111111111,\"#46039f\"],[0.2222222222222222,\"#7201a8\"],[0.3333333333333333,\"#9c179e\"],[0.4444444444444444,\"#bd3786\"],[0.5555555555555556,\"#d8576b\"],[0.6666666666666666,\"#ed7953\"],[0.7777777777777778,\"#fb9f3a\"],[0.8888888888888888,\"#fdca26\"],[1.0,\"#f0f921\"]],\"sequentialminus\":[[0.0,\"#0d0887\"],[0.1111111111111111,\"#46039f\"],[0.2222222222222222,\"#7201a8\"],[0.3333333333333333,\"#9c179e\"],[0.4444444444444444,\"#bd3786\"],[0.5555555555555556,\"#d8576b\"],[0.6666666666666666,\"#ed7953\"],[0.7777777777777778,\"#fb9f3a\"],[0.8888888888888888,\"#fdca26\"],[1.0,\"#f0f921\"]],\"diverging\":[[0,\"#8e0152\"],[0.1,\"#c51b7d\"],[0.2,\"#de77ae\"],[0.3,\"#f1b6da\"],[0.4,\"#fde0ef\"],[0.5,\"#f7f7f7\"],[0.6,\"#e6f5d0\"],[0.7,\"#b8e186\"],[0.8,\"#7fbc41\"],[0.9,\"#4d9221\"],[1,\"#276419\"]]},\"xaxis\":{\"gridcolor\":\"white\",\"linecolor\":\"white\",\"ticks\":\"\",\"title\":{\"standoff\":15},\"zerolinecolor\":\"white\",\"automargin\":true,\"zerolinewidth\":2},\"yaxis\":{\"gridcolor\":\"white\",\"linecolor\":\"white\",\"ticks\":\"\",\"title\":{\"standoff\":15},\"zerolinecolor\":\"white\",\"automargin\":true,\"zerolinewidth\":2},\"scene\":{\"xaxis\":{\"backgroundcolor\":\"#E5ECF6\",\"gridcolor\":\"white\",\"linecolor\":\"white\",\"showbackground\":true,\"ticks\":\"\",\"zerolinecolor\":\"white\",\"gridwidth\":2},\"yaxis\":{\"backgroundcolor\":\"#E5ECF6\",\"gridcolor\":\"white\",\"linecolor\":\"white\",\"showbackground\":true,\"ticks\":\"\",\"zerolinecolor\":\"white\",\"gridwidth\":2},\"zaxis\":{\"backgroundcolor\":\"#E5ECF6\",\"gridcolor\":\"white\",\"linecolor\":\"white\",\"showbackground\":true,\"ticks\":\"\",\"zerolinecolor\":\"white\",\"gridwidth\":2}},\"shapedefaults\":{\"line\":{\"color\":\"#2a3f5f\"}},\"annotationdefaults\":{\"arrowcolor\":\"#2a3f5f\",\"arrowhead\":0,\"arrowwidth\":1},\"geo\":{\"bgcolor\":\"white\",\"landcolor\":\"#E5ECF6\",\"subunitcolor\":\"white\",\"showland\":true,\"showlakes\":true,\"lakecolor\":\"white\"},\"title\":{\"x\":0.05},\"mapbox\":{\"style\":\"light\"}}},\"xaxis\":{\"anchor\":\"y\",\"domain\":[0.0,1.0],\"title\":{\"text\":\"Ratings\"},\"categoryorder\":\"array\",\"categoryarray\":[\"0.0\",\"1.0\",\"2.0\",\"3.0\",\"4.0\"]},\"yaxis\":{\"anchor\":\"x\",\"domain\":[0.0,1.0],\"title\":{\"text\":\"count\"}},\"legend\":{\"title\":{\"text\":\"Ratings\"},\"tracegroupgap\":0},\"title\":{\"text\":\"Customer Ratings - After One-Sided Selection Undersampling\"},\"barmode\":\"relative\"},                        {\"responsive\": true}                    ).then(function(){\n",
       "                            \n",
       "var gd = document.getElementById('b01218cf-a99b-4b70-be52-5d083187be47');\n",
       "var x = new MutationObserver(function (mutations, observer) {{\n",
       "        var display = window.getComputedStyle(gd).display;\n",
       "        if (!display || display === 'none') {{\n",
       "            console.log([gd, 'removed!']);\n",
       "            Plotly.purge(gd);\n",
       "            observer.disconnect();\n",
       "        }}\n",
       "}});\n",
       "\n",
       "// Listen for the removal of the full notebook cells\n",
       "var notebookContainer = gd.closest('#notebook-container');\n",
       "if (notebookContainer) {{\n",
       "    x.observe(notebookContainer, {childList: true});\n",
       "}}\n",
       "\n",
       "// Listen for the clearing of the current output cell\n",
       "var outputEl = gd.closest('.output');\n",
       "if (outputEl) {{\n",
       "    x.observe(outputEl, {childList: true});\n",
       "}}\n",
       "\n",
       "                        })                };                });            </script>        </div>"
      ]
     },
     "metadata": {},
     "output_type": "display_data"
    }
   ],
   "source": [
    "# create a data frame to count the number of customer reviews by products and also rename a column as count\n",
    "rating_counts = pd.DataFrame(pd.DataFrame(Y_train_oss).rename(columns = {0:'review_star'}).value_counts()).reset_index().rename( \\\n",
    "    columns={'review_star': 'Ratings', 0:'count'})\n",
    "\n",
    "# add a sort index\n",
    "rating_counts['Ratings_for_sorting'] = rating_counts['Ratings']\n",
    "\n",
    "# convert ratings to str type for visualization\n",
    "rating_counts['Ratings'] = rating_counts['Ratings'].astype(str)\n",
    "\n",
    "# Sort order by custom column and display \n",
    "rating_counts.sort_values(by=['Ratings_for_sorting'], inplace = True)\n",
    "\n",
    "# use plotly to create a bar graph of number of reviews by brand and using customized color coding \n",
    "fig = px.bar(rating_counts, x=\"Ratings\", y=\"count\", color=\"Ratings\", \n",
    "             title= \"Customer Ratings - After One-Sided Selection Undersampling\", text_auto = '.2s', \n",
    "             color_discrete_map={'0.0':'red', '1.0':'orange', '2.0': 'yellow',\n",
    "                                 '3.0':'rgb(179,226,205)', '4.0':'rgb(27,158,119)'})\n",
    "\n",
    "# figure customization\n",
    "fig.update_traces(textfont_size=12, textangle=0, textposition=\"outside\", cliponaxis=False,\n",
    " marker_line_width=1.5, opacity = 0.75)"
   ]
  },
  {
   "cell_type": "markdown",
   "id": "91d854db",
   "metadata": {},
   "source": [
    "# Export all different Sampling Training and Test data\n",
    "\n",
    "- SMOTE with ENN training data \n",
    "- Near-miss Undersampling (Version 3) training data\n",
    "- One-sided Selection Undersampling training data\n",
    "- Original Test Data"
   ]
  },
  {
   "cell_type": "code",
   "execution_count": 15,
   "id": "7485591e",
   "metadata": {
    "ExecuteTime": {
     "end_time": "2022-07-23T20:15:10.570554Z",
     "start_time": "2022-07-23T20:15:10.397699Z"
    }
   },
   "outputs": [],
   "source": [
    "# SMOTE-ENN X training data \n",
    "with open(Path(r\"../Data/Preparation for Modeling Data/X_train_smote.pickle\"), 'wb') as output_file:\n",
    "    cPickle.dump(X_train_smote, output_file)\n",
    "\n",
    "# SMOTE-ENN X training data \n",
    "with open(Path(r\"../Data/Preparation for Modeling Data/Y_train_smote.pickle\"), 'wb') as output_file:\n",
    "    cPickle.dump(Y_train_smote, output_file)"
   ]
  },
  {
   "cell_type": "code",
   "execution_count": 16,
   "id": "2f7d309e",
   "metadata": {
    "ExecuteTime": {
     "end_time": "2022-07-23T20:15:10.593663Z",
     "start_time": "2022-07-23T20:15:10.573024Z"
    }
   },
   "outputs": [],
   "source": [
    "# Near-miss Sampling X training data \n",
    "with open(Path(r\"../Data/Preparation for Modeling Data/X_train_near.pickle\"), 'wb') as output_file:\n",
    "    cPickle.dump(X_train_near, output_file)\n",
    "\n",
    "# Near-miss Sampling Y training data \n",
    "with open(Path(r\"../Data/Preparation for Modeling Data/Y_train_near.pickle\"), 'wb') as output_file:\n",
    "    cPickle.dump(Y_train_near, output_file)"
   ]
  },
  {
   "cell_type": "code",
   "execution_count": 17,
   "id": "bb2a3cc7",
   "metadata": {
    "ExecuteTime": {
     "end_time": "2022-07-23T20:15:10.622418Z",
     "start_time": "2022-07-23T20:15:10.596292Z"
    }
   },
   "outputs": [],
   "source": [
    "# One-Sided Selection Sampling X training data \n",
    "with open(Path(r\"../Data/Preparation for Modeling Data/X_train_oss.pickle\"), 'wb') as output_file:\n",
    "    cPickle.dump(X_train_oss, output_file)\n",
    "\n",
    "# One-Sided Selection Sampling Y training data \n",
    "with open(Path(r\"../Data/Preparation for Modeling Data/Y_train_oss.pickle\"), 'wb') as output_file:\n",
    "    cPickle.dump(Y_train_oss, output_file)"
   ]
  },
  {
   "cell_type": "code",
   "execution_count": 18,
   "id": "ffef35e6",
   "metadata": {
    "ExecuteTime": {
     "end_time": "2022-07-23T20:15:10.721389Z",
     "start_time": "2022-07-23T20:15:10.624608Z"
    }
   },
   "outputs": [],
   "source": [
    "# use tfidf vectorizer\n",
    "X_test = tfidf.transform(X_test)\n",
    "\n",
    "# use ordinal encoder\n",
    "Y_test = ord_en.transform(Y_test)\n",
    "\n",
    "# Original X test data \n",
    "with open(Path(r\"../Data/Preparation for Modeling Data/X_test.pickle\"), 'wb') as output_file:\n",
    "    cPickle.dump(X_test, output_file)\n",
    "\n",
    "# Original Y test data \n",
    "with open(Path(r\"../Data/Preparation for Modeling Data/Y_test.pickle\"), 'wb') as output_file:\n",
    "    cPickle.dump(Y_test, output_file)"
   ]
  },
  {
   "cell_type": "code",
   "execution_count": 19,
   "id": "fa99e7ee",
   "metadata": {
    "ExecuteTime": {
     "end_time": "2022-07-23T20:15:10.727060Z",
     "start_time": "2022-07-23T20:15:10.724061Z"
    }
   },
   "outputs": [],
   "source": [
    "# How to read pickle files\n",
    "#with open(Path(r\"../Data/Preparation for Modeling Data/X_train_smote.pickle\"), \"rb\") as input_file:\n",
    "    #X_train_smote_pickle = cPickle.load(input_file)\n",
    "#X_train_smote_pickle"
   ]
  }
 ],
 "metadata": {
  "kernelspec": {
   "display_name": "Python [conda env:ads599] *",
   "language": "python",
   "name": "conda-env-ads599-py"
  },
  "language_info": {
   "codemirror_mode": {
    "name": "ipython",
    "version": 3
   },
   "file_extension": ".py",
   "mimetype": "text/x-python",
   "name": "python",
   "nbconvert_exporter": "python",
   "pygments_lexer": "ipython3",
   "version": "3.8.13"
  },
  "toc": {
   "base_numbering": 1,
   "nav_menu": {},
   "number_sections": true,
   "sideBar": true,
   "skip_h1_title": false,
   "title_cell": "Table of Contents",
   "title_sidebar": "Contents",
   "toc_cell": true,
   "toc_position": {
    "height": "calc(100% - 180px)",
    "left": "10px",
    "top": "150px",
    "width": "165px"
   },
   "toc_section_display": true,
   "toc_window_display": false
  }
 },
 "nbformat": 4,
 "nbformat_minor": 5
}
